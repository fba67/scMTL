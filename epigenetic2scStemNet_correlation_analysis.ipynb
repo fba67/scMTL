{
 "cells": [
  {
   "cell_type": "markdown",
   "metadata": {},
   "source": [
    "# Analyze the correlation between epigenetic features and single cell StemNet\n",
    "Since the trained statistical models did not meet our expectatoins regarding establishing a meaningful association between the epigenetic features and gene expression, we decided to take a deeper look at the link(s) between these two quantities."
   ]
  },
  {
   "cell_type": "markdown",
   "metadata": {},
   "source": [
    "## Red the data"
   ]
  },
  {
   "cell_type": "code",
   "execution_count": 1,
   "metadata": {},
   "outputs": [],
   "source": [
    "x <- read.csv(\"../scMTL_StemNet_imputed_epigenetic_feature_doubleReduced.txt\")\n",
    "y <- read.csv(\"../scMTL_StemNet_imputed_epigenetic_response_doubleReduced.txt\")"
   ]
  },
  {
   "cell_type": "code",
   "execution_count": 2,
   "metadata": {},
   "outputs": [],
   "source": [
    "rownames(x) <- x$X\n",
    "x <- x[, -1]\n",
    "\n",
    "rownames(y) <- y$X\n",
    "y <- y[, -1]"
   ]
  },
  {
   "cell_type": "code",
   "execution_count": 3,
   "metadata": {},
   "outputs": [
    {
     "name": "stdout",
     "output_type": "stream",
     "text": [
      "[1] 9593  704\n",
      "[1] 14142   238\n"
     ]
    }
   ],
   "source": [
    "print(dim(x))\n",
    "print(dim(y))"
   ]
  },
  {
   "cell_type": "markdown",
   "metadata": {},
   "source": [
    "## Print the range of data\n",
    "The features data are log-transformed before-hand when dumped into the RData file."
   ]
  },
  {
   "cell_type": "code",
   "execution_count": 4,
   "metadata": {},
   "outputs": [
    {
     "name": "stdout",
     "output_type": "stream",
     "text": [
      "[1]    0.000 4833.416\n",
      "[1]      0.0 300753.8\n"
     ]
    }
   ],
   "source": [
    "print(range(x))\n",
    "print(range(y))"
   ]
  },
  {
   "cell_type": "markdown",
   "metadata": {},
   "source": [
    "## Find the overlapping genes (full)"
   ]
  },
  {
   "cell_type": "code",
   "execution_count": 5,
   "metadata": {},
   "outputs": [],
   "source": [
    "data <- merge(x, y, by= \"row.names\")"
   ]
  },
  {
   "cell_type": "code",
   "execution_count": 6,
   "metadata": {},
   "outputs": [],
   "source": [
    "rownames(data) <- data$Row.names\n",
    "data <- data[, -1]"
   ]
  },
  {
   "cell_type": "code",
   "execution_count": 7,
   "metadata": {},
   "outputs": [
    {
     "data": {
      "text/html": [
       "<ol class=list-inline>\n",
       "\t<li>5297</li>\n",
       "\t<li>942</li>\n",
       "</ol>\n"
      ],
      "text/latex": [
       "\\begin{enumerate*}\n",
       "\\item 5297\n",
       "\\item 942\n",
       "\\end{enumerate*}\n"
      ],
      "text/markdown": [
       "1. 5297\n",
       "2. 942\n",
       "\n",
       "\n"
      ],
      "text/plain": [
       "[1] 5297  942"
      ]
     },
     "metadata": {},
     "output_type": "display_data"
    }
   ],
   "source": [
    "dim(data)"
   ]
  },
  {
   "cell_type": "markdown",
   "metadata": {},
   "source": [
    "## Adjust the data variables based on the overlapping genes found above\n",
    "split the merged dataset into the x and y variables"
   ]
  },
  {
   "cell_type": "code",
   "execution_count": 8,
   "metadata": {},
   "outputs": [],
   "source": [
    "x <- data[, seq(ncol(x))]\n",
    "y <- data[, seq(1 + ncol(x), ncol(data))]"
   ]
  },
  {
   "cell_type": "code",
   "execution_count": 9,
   "metadata": {},
   "outputs": [
    {
     "data": {
      "text/html": [
       "TRUE"
      ],
      "text/latex": [
       "TRUE"
      ],
      "text/markdown": [
       "TRUE"
      ],
      "text/plain": [
       "[1] TRUE"
      ]
     },
     "metadata": {},
     "output_type": "display_data"
    }
   ],
   "source": [
    "all.equal(rownames(x), rownames(y))"
   ]
  },
  {
   "cell_type": "code",
   "execution_count": 10,
   "metadata": {},
   "outputs": [
    {
     "data": {
      "text/html": [
       "<ol class=list-inline>\n",
       "\t<li>5297</li>\n",
       "\t<li>704</li>\n",
       "</ol>\n"
      ],
      "text/latex": [
       "\\begin{enumerate*}\n",
       "\\item 5297\n",
       "\\item 704\n",
       "\\end{enumerate*}\n"
      ],
      "text/markdown": [
       "1. 5297\n",
       "2. 704\n",
       "\n",
       "\n"
      ],
      "text/plain": [
       "[1] 5297  704"
      ]
     },
     "metadata": {},
     "output_type": "display_data"
    },
    {
     "data": {
      "text/html": [
       "<ol class=list-inline>\n",
       "\t<li>5297</li>\n",
       "\t<li>238</li>\n",
       "</ol>\n"
      ],
      "text/latex": [
       "\\begin{enumerate*}\n",
       "\\item 5297\n",
       "\\item 238\n",
       "\\end{enumerate*}\n"
      ],
      "text/markdown": [
       "1. 5297\n",
       "2. 238\n",
       "\n",
       "\n"
      ],
      "text/plain": [
       "[1] 5297  238"
      ]
     },
     "metadata": {},
     "output_type": "display_data"
    }
   ],
   "source": [
    "dim(x)\n",
    "dim(y)"
   ]
  },
  {
   "cell_type": "code",
   "execution_count": 11,
   "metadata": {},
   "outputs": [
    {
     "data": {
      "text/html": [
       "<table>\n",
       "<thead><tr><th></th><th scope=col>AHR..ARNT</th><th scope=col>DDIT3..CEBPA</th><th scope=col>MAX..MYC</th><th scope=col>PPARG..RXRA</th><th scope=col>RXRA..VDR</th></tr></thead>\n",
       "<tbody>\n",
       "\t<tr><th scope=row>ENSG00000000003</th><td>5.448157e-04</td><td>7.009042e-04</td><td>6.914483e-05</td><td>1.712696e-04</td><td>5.410757e-05</td></tr>\n",
       "\t<tr><th scope=row>ENSG00000000005</th><td>2.191789e-04</td><td>1.072164e-04</td><td>9.835010e-06</td><td>4.677776e-05</td><td>2.300385e-06</td></tr>\n",
       "\t<tr><th scope=row>ENSG00000000419</th><td>3.467800e-03</td><td>2.258417e-03</td><td>5.191246e-05</td><td>3.407326e-04</td><td>2.535158e-06</td></tr>\n",
       "\t<tr><th scope=row>ENSG00000000457</th><td>4.477380e-04</td><td>5.608305e-05</td><td>1.011268e-05</td><td>4.199648e-03</td><td>3.371861e-06</td></tr>\n",
       "\t<tr><th scope=row>ENSG00000000971</th><td>1.762576e-05</td><td>1.782494e-07</td><td>7.549618e-08</td><td>6.666630e-08</td><td>1.240023e-08</td></tr>\n",
       "</tbody>\n",
       "</table>\n"
      ],
      "text/latex": [
       "\\begin{tabular}{r|lllll}\n",
       "  & AHR..ARNT & DDIT3..CEBPA & MAX..MYC & PPARG..RXRA & RXRA..VDR\\\\\n",
       "\\hline\n",
       "\tENSG00000000003 & 5.448157e-04 & 7.009042e-04 & 6.914483e-05 & 1.712696e-04 & 5.410757e-05\\\\\n",
       "\tENSG00000000005 & 2.191789e-04 & 1.072164e-04 & 9.835010e-06 & 4.677776e-05 & 2.300385e-06\\\\\n",
       "\tENSG00000000419 & 3.467800e-03 & 2.258417e-03 & 5.191246e-05 & 3.407326e-04 & 2.535158e-06\\\\\n",
       "\tENSG00000000457 & 4.477380e-04 & 5.608305e-05 & 1.011268e-05 & 4.199648e-03 & 3.371861e-06\\\\\n",
       "\tENSG00000000971 & 1.762576e-05 & 1.782494e-07 & 7.549618e-08 & 6.666630e-08 & 1.240023e-08\\\\\n",
       "\\end{tabular}\n"
      ],
      "text/markdown": [
       "\n",
       "| <!--/--> | AHR..ARNT | DDIT3..CEBPA | MAX..MYC | PPARG..RXRA | RXRA..VDR |\n",
       "|---|---|---|---|---|---|\n",
       "| ENSG00000000003 | 5.448157e-04 | 7.009042e-04 | 6.914483e-05 | 1.712696e-04 | 5.410757e-05 |\n",
       "| ENSG00000000005 | 2.191789e-04 | 1.072164e-04 | 9.835010e-06 | 4.677776e-05 | 2.300385e-06 |\n",
       "| ENSG00000000419 | 3.467800e-03 | 2.258417e-03 | 5.191246e-05 | 3.407326e-04 | 2.535158e-06 |\n",
       "| ENSG00000000457 | 4.477380e-04 | 5.608305e-05 | 1.011268e-05 | 4.199648e-03 | 3.371861e-06 |\n",
       "| ENSG00000000971 | 1.762576e-05 | 1.782494e-07 | 7.549618e-08 | 6.666630e-08 | 1.240023e-08 |\n",
       "\n"
      ],
      "text/plain": [
       "                AHR..ARNT    DDIT3..CEBPA MAX..MYC     PPARG..RXRA \n",
       "ENSG00000000003 5.448157e-04 7.009042e-04 6.914483e-05 1.712696e-04\n",
       "ENSG00000000005 2.191789e-04 1.072164e-04 9.835010e-06 4.677776e-05\n",
       "ENSG00000000419 3.467800e-03 2.258417e-03 5.191246e-05 3.407326e-04\n",
       "ENSG00000000457 4.477380e-04 5.608305e-05 1.011268e-05 4.199648e-03\n",
       "ENSG00000000971 1.762576e-05 1.782494e-07 7.549618e-08 6.666630e-08\n",
       "                RXRA..VDR   \n",
       "ENSG00000000003 5.410757e-05\n",
       "ENSG00000000005 2.300385e-06\n",
       "ENSG00000000419 2.535158e-06\n",
       "ENSG00000000457 3.371861e-06\n",
       "ENSG00000000971 1.240023e-08"
      ]
     },
     "metadata": {},
     "output_type": "display_data"
    },
    {
     "data": {
      "text/html": [
       "<table>\n",
       "<thead><tr><th></th><th scope=col>HLC_CEL_c11_R1</th><th scope=col>HLC_CEL_c17_R1</th><th scope=col>HLC_CEL_c25_R1</th><th scope=col>HLC_CEL_c35_R1</th><th scope=col>HLC_CEL_c41_R1</th></tr></thead>\n",
       "<tbody>\n",
       "\t<tr><th scope=row>ENSG00000000003</th><td>187.0059603 </td><td> 51.45814120</td><td>128.641115  </td><td>181.698552  </td><td>70.8065863  </td></tr>\n",
       "\t<tr><th scope=row>ENSG00000000005</th><td>  0.1775571 </td><td>  0.03944102</td><td>  0.000000  </td><td>  0.000000  </td><td> 0.0000000  </td></tr>\n",
       "\t<tr><th scope=row>ENSG00000000419</th><td>222.6304539 </td><td>343.27904094</td><td> 38.918024  </td><td>366.993467  </td><td>83.3195942  </td></tr>\n",
       "\t<tr><th scope=row>ENSG00000000457</th><td>  0.2768822 </td><td>  4.15153579</td><td>  1.052317  </td><td>  8.649976  </td><td>13.3292322  </td></tr>\n",
       "\t<tr><th scope=row>ENSG00000000971</th><td>  1.4366468 </td><td>  0.48921153</td><td>  8.371780  </td><td>  6.724955  </td><td> 0.3790762  </td></tr>\n",
       "</tbody>\n",
       "</table>\n"
      ],
      "text/latex": [
       "\\begin{tabular}{r|lllll}\n",
       "  & HLC\\_CEL\\_c11\\_R1 & HLC\\_CEL\\_c17\\_R1 & HLC\\_CEL\\_c25\\_R1 & HLC\\_CEL\\_c35\\_R1 & HLC\\_CEL\\_c41\\_R1\\\\\n",
       "\\hline\n",
       "\tENSG00000000003 & 187.0059603  &  51.45814120 & 128.641115   & 181.698552   & 70.8065863  \\\\\n",
       "\tENSG00000000005 &   0.1775571  &   0.03944102 &   0.000000   &   0.000000   &  0.0000000  \\\\\n",
       "\tENSG00000000419 & 222.6304539  & 343.27904094 &  38.918024   & 366.993467   & 83.3195942  \\\\\n",
       "\tENSG00000000457 &   0.2768822  &   4.15153579 &   1.052317   &   8.649976   & 13.3292322  \\\\\n",
       "\tENSG00000000971 &   1.4366468  &   0.48921153 &   8.371780   &   6.724955   &  0.3790762  \\\\\n",
       "\\end{tabular}\n"
      ],
      "text/markdown": [
       "\n",
       "| <!--/--> | HLC_CEL_c11_R1 | HLC_CEL_c17_R1 | HLC_CEL_c25_R1 | HLC_CEL_c35_R1 | HLC_CEL_c41_R1 |\n",
       "|---|---|---|---|---|---|\n",
       "| ENSG00000000003 | 187.0059603  |  51.45814120 | 128.641115   | 181.698552   | 70.8065863   |\n",
       "| ENSG00000000005 |   0.1775571  |   0.03944102 |   0.000000   |   0.000000   |  0.0000000   |\n",
       "| ENSG00000000419 | 222.6304539  | 343.27904094 |  38.918024   | 366.993467   | 83.3195942   |\n",
       "| ENSG00000000457 |   0.2768822  |   4.15153579 |   1.052317   |   8.649976   | 13.3292322   |\n",
       "| ENSG00000000971 |   1.4366468  |   0.48921153 |   8.371780   |   6.724955   |  0.3790762   |\n",
       "\n"
      ],
      "text/plain": [
       "                HLC_CEL_c11_R1 HLC_CEL_c17_R1 HLC_CEL_c25_R1 HLC_CEL_c35_R1\n",
       "ENSG00000000003 187.0059603     51.45814120   128.641115     181.698552    \n",
       "ENSG00000000005   0.1775571      0.03944102     0.000000       0.000000    \n",
       "ENSG00000000419 222.6304539    343.27904094    38.918024     366.993467    \n",
       "ENSG00000000457   0.2768822      4.15153579     1.052317       8.649976    \n",
       "ENSG00000000971   1.4366468      0.48921153     8.371780       6.724955    \n",
       "                HLC_CEL_c41_R1\n",
       "ENSG00000000003 70.8065863    \n",
       "ENSG00000000005  0.0000000    \n",
       "ENSG00000000419 83.3195942    \n",
       "ENSG00000000457 13.3292322    \n",
       "ENSG00000000971  0.3790762    "
      ]
     },
     "metadata": {},
     "output_type": "display_data"
    }
   ],
   "source": [
    "x[1:5, 1:5]\n",
    "\n",
    "y[1:5, 1:5]"
   ]
  },
  {
   "cell_type": "markdown",
   "metadata": {},
   "source": [
    "## Log-transform the response data"
   ]
  },
  {
   "cell_type": "code",
   "execution_count": 12,
   "metadata": {},
   "outputs": [],
   "source": [
    "y <- log2(1 + y)"
   ]
  },
  {
   "cell_type": "code",
   "execution_count": 13,
   "metadata": {},
   "outputs": [
    {
     "name": "stdout",
     "output_type": "stream",
     "text": [
      "[1]  0.00000 18.19823\n"
     ]
    }
   ],
   "source": [
    "print(range(y))"
   ]
  },
  {
   "cell_type": "markdown",
   "metadata": {},
   "source": [
    "## Compute the correlation between each feature and each response vector (gene expression profile per cell)"
   ]
  },
  {
   "cell_type": "code",
   "execution_count": 14,
   "metadata": {},
   "outputs": [],
   "source": [
    "cors <- list()\n",
    "for(i in seq(ncol(y)))\n",
    "    cors[[i]] <- sapply(seq(ncol(x)), function(j)cor(x[, j], y[, i]))"
   ]
  },
  {
   "cell_type": "markdown",
   "metadata": {},
   "source": [
    "## Print the range of the resulting correlation values for each cell"
   ]
  },
  {
   "cell_type": "code",
   "execution_count": 15,
   "metadata": {},
   "outputs": [
    {
     "data": {
      "text/html": [
       "<table>\n",
       "<thead><tr><th></th><th scope=col>min</th><th scope=col>max</th></tr></thead>\n",
       "<tbody>\n",
       "\t<tr><th scope=row>HLC_CEL_c11_R1</th><td>-0.02637056</td><td>0.1699565  </td></tr>\n",
       "\t<tr><th scope=row>HLC_CEL_c17_R1</th><td>-0.02927411</td><td>0.1538812  </td></tr>\n",
       "\t<tr><th scope=row>HLC_CEL_c25_R1</th><td>-0.02332417</td><td>0.1804742  </td></tr>\n",
       "\t<tr><th scope=row>HLC_CEL_c35_R1</th><td>-0.02538996</td><td>0.1706861  </td></tr>\n",
       "\t<tr><th scope=row>HLC_CEL_c41_R1</th><td>-0.02790027</td><td>0.1682209  </td></tr>\n",
       "\t<tr><th scope=row>HLC_CEL_c42_R1</th><td>-0.02477844</td><td>0.1852245  </td></tr>\n",
       "\t<tr><th scope=row>HLC_CEL_c43_R1</th><td>-0.02374254</td><td>0.1721299  </td></tr>\n",
       "\t<tr><th scope=row>HLC_CEL_c47_R1</th><td>-0.02693532</td><td>0.1717021  </td></tr>\n",
       "\t<tr><th scope=row>HLC_CEL_c49_R1</th><td>-0.02064682</td><td>0.1634317  </td></tr>\n",
       "\t<tr><th scope=row>HLC_CEL_c5_R1</th><td>-0.03693443</td><td>0.1854805  </td></tr>\n",
       "\t<tr><th scope=row>HLC_CEL_c54_R1</th><td>-0.02419827</td><td>0.1780753  </td></tr>\n",
       "\t<tr><th scope=row>HLC_CEL_c55_R1</th><td>-0.02922062</td><td>0.1832412  </td></tr>\n",
       "\t<tr><th scope=row>HLC_CEL_c58_R1</th><td>-0.03654820</td><td>0.1725895  </td></tr>\n",
       "\t<tr><th scope=row>HLC_CEL_c60_R1</th><td>-0.03254790</td><td>0.1644590  </td></tr>\n",
       "\t<tr><th scope=row>HLC_CEL_c61_R1</th><td>-0.02604270</td><td>0.1821937  </td></tr>\n",
       "\t<tr><th scope=row>HLC_CEL_c65_R1</th><td>-0.02838803</td><td>0.1691615  </td></tr>\n",
       "\t<tr><th scope=row>HLC_CEL_c67_R1</th><td>-0.03282994</td><td>0.1557671  </td></tr>\n",
       "\t<tr><th scope=row>HLC_CEL_c68_R1</th><td>-0.02995838</td><td>0.1831624  </td></tr>\n",
       "\t<tr><th scope=row>HLC_CEL_c70_R1</th><td>-0.03314755</td><td>0.1719873  </td></tr>\n",
       "\t<tr><th scope=row>HLC_CEL_c73_R1</th><td>-0.02742281</td><td>0.1242803  </td></tr>\n",
       "</tbody>\n",
       "</table>\n"
      ],
      "text/latex": [
       "\\begin{tabular}{r|ll}\n",
       "  & min & max\\\\\n",
       "\\hline\n",
       "\tHLC\\_CEL\\_c11\\_R1 & -0.02637056 & 0.1699565  \\\\\n",
       "\tHLC\\_CEL\\_c17\\_R1 & -0.02927411 & 0.1538812  \\\\\n",
       "\tHLC\\_CEL\\_c25\\_R1 & -0.02332417 & 0.1804742  \\\\\n",
       "\tHLC\\_CEL\\_c35\\_R1 & -0.02538996 & 0.1706861  \\\\\n",
       "\tHLC\\_CEL\\_c41\\_R1 & -0.02790027 & 0.1682209  \\\\\n",
       "\tHLC\\_CEL\\_c42\\_R1 & -0.02477844 & 0.1852245  \\\\\n",
       "\tHLC\\_CEL\\_c43\\_R1 & -0.02374254 & 0.1721299  \\\\\n",
       "\tHLC\\_CEL\\_c47\\_R1 & -0.02693532 & 0.1717021  \\\\\n",
       "\tHLC\\_CEL\\_c49\\_R1 & -0.02064682 & 0.1634317  \\\\\n",
       "\tHLC\\_CEL\\_c5\\_R1 & -0.03693443 & 0.1854805  \\\\\n",
       "\tHLC\\_CEL\\_c54\\_R1 & -0.02419827 & 0.1780753  \\\\\n",
       "\tHLC\\_CEL\\_c55\\_R1 & -0.02922062 & 0.1832412  \\\\\n",
       "\tHLC\\_CEL\\_c58\\_R1 & -0.03654820 & 0.1725895  \\\\\n",
       "\tHLC\\_CEL\\_c60\\_R1 & -0.03254790 & 0.1644590  \\\\\n",
       "\tHLC\\_CEL\\_c61\\_R1 & -0.02604270 & 0.1821937  \\\\\n",
       "\tHLC\\_CEL\\_c65\\_R1 & -0.02838803 & 0.1691615  \\\\\n",
       "\tHLC\\_CEL\\_c67\\_R1 & -0.03282994 & 0.1557671  \\\\\n",
       "\tHLC\\_CEL\\_c68\\_R1 & -0.02995838 & 0.1831624  \\\\\n",
       "\tHLC\\_CEL\\_c70\\_R1 & -0.03314755 & 0.1719873  \\\\\n",
       "\tHLC\\_CEL\\_c73\\_R1 & -0.02742281 & 0.1242803  \\\\\n",
       "\\end{tabular}\n"
      ],
      "text/markdown": [
       "\n",
       "| <!--/--> | min | max |\n",
       "|---|---|---|\n",
       "| HLC_CEL_c11_R1 | -0.02637056 | 0.1699565   |\n",
       "| HLC_CEL_c17_R1 | -0.02927411 | 0.1538812   |\n",
       "| HLC_CEL_c25_R1 | -0.02332417 | 0.1804742   |\n",
       "| HLC_CEL_c35_R1 | -0.02538996 | 0.1706861   |\n",
       "| HLC_CEL_c41_R1 | -0.02790027 | 0.1682209   |\n",
       "| HLC_CEL_c42_R1 | -0.02477844 | 0.1852245   |\n",
       "| HLC_CEL_c43_R1 | -0.02374254 | 0.1721299   |\n",
       "| HLC_CEL_c47_R1 | -0.02693532 | 0.1717021   |\n",
       "| HLC_CEL_c49_R1 | -0.02064682 | 0.1634317   |\n",
       "| HLC_CEL_c5_R1 | -0.03693443 | 0.1854805   |\n",
       "| HLC_CEL_c54_R1 | -0.02419827 | 0.1780753   |\n",
       "| HLC_CEL_c55_R1 | -0.02922062 | 0.1832412   |\n",
       "| HLC_CEL_c58_R1 | -0.03654820 | 0.1725895   |\n",
       "| HLC_CEL_c60_R1 | -0.03254790 | 0.1644590   |\n",
       "| HLC_CEL_c61_R1 | -0.02604270 | 0.1821937   |\n",
       "| HLC_CEL_c65_R1 | -0.02838803 | 0.1691615   |\n",
       "| HLC_CEL_c67_R1 | -0.03282994 | 0.1557671   |\n",
       "| HLC_CEL_c68_R1 | -0.02995838 | 0.1831624   |\n",
       "| HLC_CEL_c70_R1 | -0.03314755 | 0.1719873   |\n",
       "| HLC_CEL_c73_R1 | -0.02742281 | 0.1242803   |\n",
       "\n"
      ],
      "text/plain": [
       "               min         max      \n",
       "HLC_CEL_c11_R1 -0.02637056 0.1699565\n",
       "HLC_CEL_c17_R1 -0.02927411 0.1538812\n",
       "HLC_CEL_c25_R1 -0.02332417 0.1804742\n",
       "HLC_CEL_c35_R1 -0.02538996 0.1706861\n",
       "HLC_CEL_c41_R1 -0.02790027 0.1682209\n",
       "HLC_CEL_c42_R1 -0.02477844 0.1852245\n",
       "HLC_CEL_c43_R1 -0.02374254 0.1721299\n",
       "HLC_CEL_c47_R1 -0.02693532 0.1717021\n",
       "HLC_CEL_c49_R1 -0.02064682 0.1634317\n",
       "HLC_CEL_c5_R1  -0.03693443 0.1854805\n",
       "HLC_CEL_c54_R1 -0.02419827 0.1780753\n",
       "HLC_CEL_c55_R1 -0.02922062 0.1832412\n",
       "HLC_CEL_c58_R1 -0.03654820 0.1725895\n",
       "HLC_CEL_c60_R1 -0.03254790 0.1644590\n",
       "HLC_CEL_c61_R1 -0.02604270 0.1821937\n",
       "HLC_CEL_c65_R1 -0.02838803 0.1691615\n",
       "HLC_CEL_c67_R1 -0.03282994 0.1557671\n",
       "HLC_CEL_c68_R1 -0.02995838 0.1831624\n",
       "HLC_CEL_c70_R1 -0.03314755 0.1719873\n",
       "HLC_CEL_c73_R1 -0.02742281 0.1242803"
      ]
     },
     "metadata": {},
     "output_type": "display_data"
    }
   ],
   "source": [
    "df <- data.frame(min= as.numeric(lapply(cors, FUN= min)), max= as.numeric(lapply(cors, FUN= max)))\n",
    "rownames(df) <- colnames(y)\n",
    "df[seq(20), ]"
   ]
  },
  {
   "cell_type": "markdown",
   "metadata": {},
   "source": [
    "## Plot histogram to have a more concise view of the correlation distributions"
   ]
  },
  {
   "cell_type": "code",
   "execution_count": 16,
   "metadata": {},
   "outputs": [
    {
     "data": {
      "image/png": "[encoded data removed]",
      "text/plain": [
       "Plot with title “all correlation values”"
      ]
     },
     "metadata": {},
     "output_type": "display_data"
    }
   ],
   "source": [
    "hist(as.matrix(df), main= \"all correlation values\", xlab= \"correlations\")"
   ]
  }
 ],
 "metadata": {
  "kernelspec": {
   "display_name": "R",
   "language": "R",
   "name": "ir"
  },
  "language_info": {
   "codemirror_mode": "r",
   "file_extension": ".r",
   "mimetype": "text/x-r-source",
   "name": "R",
   "pygments_lexer": "r",
   "version": "3.4.0"
  }
 },
 "nbformat": 4,
 "nbformat_minor": 2
}
