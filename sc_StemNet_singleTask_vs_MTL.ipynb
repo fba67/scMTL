{
 "cells": [
  {
   "cell_type": "markdown",
   "metadata": {},
   "source": [
    "# Compare the performance of the single-task versus the MTL\n",
    "The goal is to check our claim about the superiority of MTL over single task setup in terms of intrinsic ability of attenuating the effects of drop-outs."
   ]
  },
  {
   "cell_type": "markdown",
   "metadata": {},
   "source": [
    "## Load and compute prediction correlations for the single-task models"
   ]
  },
  {
   "cell_type": "markdown",
   "metadata": {},
   "source": [
    "### dynamic"
   ]
  },
  {
   "cell_type": "code",
   "execution_count": 1,
   "metadata": {},
   "outputs": [],
   "source": [
    "load(\"../scMTL_StemNet_notImputed_dynamic_singleTask.RData\")\n",
    "st_cors_p <- sapply(seq(length(all.test.pred)), function(i)cor(all.test.pred[[i]], partition$test$y[, i], method= \"p\"))\n",
    "st_cors_s <- sapply(seq(length(all.test.pred)), function(i)cor(all.test.pred[[i]], partition$test$y[, i], method= \"s\"))"
   ]
  },
  {
   "cell_type": "code",
   "execution_count": 2,
   "metadata": {},
   "outputs": [],
   "source": [
    "df <- data.frame(val= st_cors_p, feature= \"dynamic\", cor_method= \"Pearson\", model= \"single-task\")\n",
    "df <- rbind(df, data.frame(val= st_cors_s, feature= \"dynamic\", cor_method= \"Spearman\", model= \"single-task\"))"
   ]
  },
  {
   "cell_type": "markdown",
   "metadata": {},
   "source": [
    "### static"
   ]
  },
  {
   "cell_type": "code",
   "execution_count": 3,
   "metadata": {},
   "outputs": [
    {
     "name": "stderr",
     "output_type": "stream",
     "text": [
      "Warning message in cor(all.test.pred[[i]], partition$test$y[, i], method = \"p\"):\n",
      "“the standard deviation is zero”Warning message in cor(all.test.pred[[i]], partition$test$y[, i], method = \"p\"):\n",
      "“the standard deviation is zero”Warning message in cor(all.test.pred[[i]], partition$test$y[, i], method = \"s\"):\n",
      "“the standard deviation is zero”Warning message in cor(all.test.pred[[i]], partition$test$y[, i], method = \"s\"):\n",
      "“the standard deviation is zero”"
     ]
    }
   ],
   "source": [
    "load(\"../scMTL_StemNet_notImputed_static_singleTask.RData\")\n",
    "st_cors_p <- sapply(seq(length(all.test.pred)), function(i)cor(all.test.pred[[i]], partition$test$y[, i], method= \"p\"))\n",
    "st_cors_s <- sapply(seq(length(all.test.pred)), function(i)cor(all.test.pred[[i]], partition$test$y[, i], method= \"s\"))"
   ]
  },
  {
   "cell_type": "code",
   "execution_count": 4,
   "metadata": {},
   "outputs": [],
   "source": [
    "df <- rbind(df, data.frame(val= st_cors_p, feature= \"static\", cor_method= \"Pearson\", model= \"single-task\"))\n",
    "df <- rbind(df, data.frame(val= st_cors_s, feature= \"static\", cor_method= \"Spearman\", model= \"single-task\"))"
   ]
  },
  {
   "cell_type": "markdown",
   "metadata": {},
   "source": [
    "### epigenetic"
   ]
  },
  {
   "cell_type": "code",
   "execution_count": 5,
   "metadata": {},
   "outputs": [
    {
     "name": "stderr",
     "output_type": "stream",
     "text": [
      "Warning message in cor(all.test.pred[[i]], partition$test$y[, i], method = \"p\"):\n",
      "“the standard deviation is zero”Warning message in cor(all.test.pred[[i]], partition$test$y[, i], method = \"p\"):\n",
      "“the standard deviation is zero”Warning message in cor(all.test.pred[[i]], partition$test$y[, i], method = \"s\"):\n",
      "“the standard deviation is zero”Warning message in cor(all.test.pred[[i]], partition$test$y[, i], method = \"s\"):\n",
      "“the standard deviation is zero”"
     ]
    }
   ],
   "source": [
    "load(\"../scMTL_StemNet_notImputed_epigenetic_singleTask.RData\")\n",
    "st_cors_p <- sapply(seq(length(all.test.pred)), function(i)cor(all.test.pred[[i]], partition$test$y[, i], method= \"p\"))\n",
    "st_cors_s <- sapply(seq(length(all.test.pred)), function(i)cor(all.test.pred[[i]], partition$test$y[, i], method= \"s\"))"
   ]
  },
  {
   "cell_type": "code",
   "execution_count": 6,
   "metadata": {},
   "outputs": [],
   "source": [
    "df <- rbind(df, data.frame(val= st_cors_p, feature= \"epigenetic\", cor_method= \"Pearson\", model= \"single-task\"))\n",
    "df <- rbind(df, data.frame(val= st_cors_s, feature= \"epigenetic\", cor_method= \"Spearman\", model= \"single-task\"))"
   ]
  },
  {
   "cell_type": "code",
   "execution_count": 7,
   "metadata": {},
   "outputs": [
    {
     "data": {
      "text/html": [
       "<table>\n",
       "<thead><tr><th scope=col>val</th><th scope=col>feature</th><th scope=col>cor_method</th><th scope=col>model</th></tr></thead>\n",
       "<tbody>\n",
       "\t<tr><td>0.3214086  </td><td>dynamic    </td><td>Pearson    </td><td>single-task</td></tr>\n",
       "\t<tr><td>0.4076181  </td><td>dynamic    </td><td>Pearson    </td><td>single-task</td></tr>\n",
       "\t<tr><td>0.4031439  </td><td>dynamic    </td><td>Pearson    </td><td>single-task</td></tr>\n",
       "\t<tr><td>0.4216562  </td><td>dynamic    </td><td>Pearson    </td><td>single-task</td></tr>\n",
       "\t<tr><td>0.3697353  </td><td>dynamic    </td><td>Pearson    </td><td>single-task</td></tr>\n",
       "\t<tr><td>0.3960971  </td><td>dynamic    </td><td>Pearson    </td><td>single-task</td></tr>\n",
       "</tbody>\n",
       "</table>\n"
      ],
      "text/latex": [
       "\\begin{tabular}{r|llll}\n",
       " val & feature & cor\\_method & model\\\\\n",
       "\\hline\n",
       "\t 0.3214086   & dynamic     & Pearson     & single-task\\\\\n",
       "\t 0.4076181   & dynamic     & Pearson     & single-task\\\\\n",
       "\t 0.4031439   & dynamic     & Pearson     & single-task\\\\\n",
       "\t 0.4216562   & dynamic     & Pearson     & single-task\\\\\n",
       "\t 0.3697353   & dynamic     & Pearson     & single-task\\\\\n",
       "\t 0.3960971   & dynamic     & Pearson     & single-task\\\\\n",
       "\\end{tabular}\n"
      ],
      "text/markdown": [
       "\n",
       "| val | feature | cor_method | model |\n",
       "|---|---|---|---|\n",
       "| 0.3214086   | dynamic     | Pearson     | single-task |\n",
       "| 0.4076181   | dynamic     | Pearson     | single-task |\n",
       "| 0.4031439   | dynamic     | Pearson     | single-task |\n",
       "| 0.4216562   | dynamic     | Pearson     | single-task |\n",
       "| 0.3697353   | dynamic     | Pearson     | single-task |\n",
       "| 0.3960971   | dynamic     | Pearson     | single-task |\n",
       "\n"
      ],
      "text/plain": [
       "  val       feature cor_method model      \n",
       "1 0.3214086 dynamic Pearson    single-task\n",
       "2 0.4076181 dynamic Pearson    single-task\n",
       "3 0.4031439 dynamic Pearson    single-task\n",
       "4 0.4216562 dynamic Pearson    single-task\n",
       "5 0.3697353 dynamic Pearson    single-task\n",
       "6 0.3960971 dynamic Pearson    single-task"
      ]
     },
     "metadata": {},
     "output_type": "display_data"
    },
    {
     "data": {
      "text/html": [
       "<ol class=list-inline>\n",
       "\t<li>1482</li>\n",
       "\t<li>4</li>\n",
       "</ol>\n"
      ],
      "text/latex": [
       "\\begin{enumerate*}\n",
       "\\item 1482\n",
       "\\item 4\n",
       "\\end{enumerate*}\n"
      ],
      "text/markdown": [
       "1. 1482\n",
       "2. 4\n",
       "\n",
       "\n"
      ],
      "text/plain": [
       "[1] 1482    4"
      ]
     },
     "metadata": {},
     "output_type": "display_data"
    }
   ],
   "source": [
    "head(df)\n",
    "dim(df)"
   ]
  },
  {
   "cell_type": "markdown",
   "metadata": {},
   "source": [
    "## Load TGGLasso models"
   ]
  },
  {
   "cell_type": "markdown",
   "metadata": {},
   "source": [
    "### dynamic"
   ]
  },
  {
   "cell_type": "code",
   "execution_count": 8,
   "metadata": {},
   "outputs": [],
   "source": [
    "load(\"../scMTL_StemNet_notImputed_dynamic_TGGLasso.RData\")\n",
    "dyn_partition <- partition\n",
    "dyn_tgl <- TGL.model"
   ]
  },
  {
   "cell_type": "markdown",
   "metadata": {},
   "source": [
    "### static"
   ]
  },
  {
   "cell_type": "code",
   "execution_count": 9,
   "metadata": {},
   "outputs": [],
   "source": [
    "load(\"../scMTL_StemNet_notImputed_static_TGGLasso.RData\")\n",
    "sta_partition <- partition\n",
    "sta_tgl <- TGL.model"
   ]
  },
  {
   "cell_type": "markdown",
   "metadata": {},
   "source": [
    "### epigenetic"
   ]
  },
  {
   "cell_type": "code",
   "execution_count": 10,
   "metadata": {},
   "outputs": [],
   "source": [
    "load(\"../scMTL_StemNet_notImputed_epigenetic_TGGLasso.RData\")\n",
    "epi_partition <- partition\n",
    "epi_tgl <- TGL.model"
   ]
  },
  {
   "cell_type": "code",
   "execution_count": 11,
   "metadata": {},
   "outputs": [
    {
     "data": {
      "text/html": [
       "<ol class=list-inline>\n",
       "\t<li>'all.test.pred'</li>\n",
       "\t<li>'alphas'</li>\n",
       "\t<li>'best.lambda'</li>\n",
       "\t<li>'df'</li>\n",
       "\t<li>'dyn_partition'</li>\n",
       "\t<li>'dyn_tgl'</li>\n",
       "\t<li>'epi_partition'</li>\n",
       "\t<li>'epi_tgl'</li>\n",
       "\t<li>'indiv.res'</li>\n",
       "\t<li>'lambdas'</li>\n",
       "\t<li>'mst'</li>\n",
       "\t<li>'partition'</li>\n",
       "\t<li>'pred.acc'</li>\n",
       "\t<li>'st_cors_p'</li>\n",
       "\t<li>'st_cors_s'</li>\n",
       "\t<li>'sta_partition'</li>\n",
       "\t<li>'sta_tgl'</li>\n",
       "\t<li>'TGL.model'</li>\n",
       "</ol>\n"
      ],
      "text/latex": [
       "\\begin{enumerate*}\n",
       "\\item 'all.test.pred'\n",
       "\\item 'alphas'\n",
       "\\item 'best.lambda'\n",
       "\\item 'df'\n",
       "\\item 'dyn\\_partition'\n",
       "\\item 'dyn\\_tgl'\n",
       "\\item 'epi\\_partition'\n",
       "\\item 'epi\\_tgl'\n",
       "\\item 'indiv.res'\n",
       "\\item 'lambdas'\n",
       "\\item 'mst'\n",
       "\\item 'partition'\n",
       "\\item 'pred.acc'\n",
       "\\item 'st\\_cors\\_p'\n",
       "\\item 'st\\_cors\\_s'\n",
       "\\item 'sta\\_partition'\n",
       "\\item 'sta\\_tgl'\n",
       "\\item 'TGL.model'\n",
       "\\end{enumerate*}\n"
      ],
      "text/markdown": [
       "1. 'all.test.pred'\n",
       "2. 'alphas'\n",
       "3. 'best.lambda'\n",
       "4. 'df'\n",
       "5. 'dyn_partition'\n",
       "6. 'dyn_tgl'\n",
       "7. 'epi_partition'\n",
       "8. 'epi_tgl'\n",
       "9. 'indiv.res'\n",
       "10. 'lambdas'\n",
       "11. 'mst'\n",
       "12. 'partition'\n",
       "13. 'pred.acc'\n",
       "14. 'st_cors_p'\n",
       "15. 'st_cors_s'\n",
       "16. 'sta_partition'\n",
       "17. 'sta_tgl'\n",
       "18. 'TGL.model'\n",
       "\n",
       "\n"
      ],
      "text/plain": [
       " [1] \"all.test.pred\" \"alphas\"        \"best.lambda\"   \"df\"           \n",
       " [5] \"dyn_partition\" \"dyn_tgl\"       \"epi_partition\" \"epi_tgl\"      \n",
       " [9] \"indiv.res\"     \"lambdas\"       \"mst\"           \"partition\"    \n",
       "[13] \"pred.acc\"      \"st_cors_p\"     \"st_cors_s\"     \"sta_partition\"\n",
       "[17] \"sta_tgl\"       \"TGL.model\"    "
      ]
     },
     "metadata": {},
     "output_type": "display_data"
    }
   ],
   "source": [
    "ls()"
   ]
  },
  {
   "cell_type": "markdown",
   "metadata": {},
   "source": [
    "## prepare the data for the TGGLasso"
   ]
  },
  {
   "cell_type": "code",
   "execution_count": 12,
   "metadata": {},
   "outputs": [],
   "source": [
    "normalize <- function(partition){\n",
    "    x.train <- scale(log2(1 + partition$train$x))\n",
    "    y.train <- scale(log2(1 + partition$train$y))\n",
    "\n",
    "\n",
    "    x.test <- scale(log2(1 + partition$test$x), center= colMeans(log2(1 + partition$train$x)),\n",
    "                    scale= apply(log2(1 + partition$train$x), 2, FUN= sd))\n",
    "    y.test <- scale(log2(1 + partition$test$y), center= colMeans(log2(1 + partition$train$y)),\n",
    "                    scale= apply(log2(1 + partition$train$y), 2, FUN= sd))\n",
    "    return(list(x.train= x.train, y.train= y.train, x.test= x.test, y.test= y.test))\n",
    "}"
   ]
  },
  {
   "cell_type": "code",
   "execution_count": 13,
   "metadata": {},
   "outputs": [],
   "source": [
    "get_pred_cors <- function(data, TGL.model){\n",
    "    x.train <- data$x.train\n",
    "    x.test <- data$x.test\n",
    "    y.train <- data$y.train\n",
    "    y.test <- data$y.test\n",
    "    pred.train <- cbind(1, x.train) %*% rbind(TGL.model$intercept, TGL.model$B)\n",
    "    pred.test <- cbind(1, x.test) %*% rbind(TGL.model$intercept, TGL.model$B)\n",
    "    options(warn= -1)\n",
    "    # Train\n",
    "    ## Method= Pearson\n",
    "    cors.train.p <- sapply(seq(ncol(pred.train)), function(i)\n",
    "        cor(pred.train[, i], y.train[, i], method= \"pearson\"))\n",
    "\n",
    "    ## Method= Spearman\n",
    "    cors.train.s <- sapply(seq(ncol(pred.train)), function(i)\n",
    "        cor(pred.train[, i], y.train[, i], method= \"spearman\"))\n",
    "\n",
    "    # Test\n",
    "    ## Method= Pearson\n",
    "    cors.test.p <- sapply(seq(ncol(pred.test)), function(i)\n",
    "        cor(pred.test[, i], y.test[, i], method= \"pearson\"))\n",
    "\n",
    "    ## Method= Spearman\n",
    "    cors.test.s <- sapply(seq(ncol(pred.test)), function(i)\n",
    "    cor(pred.test[, i], y.test[, i], method= \"spearman\"))\n",
    "    return(list(cors.train.p= cors.train.p, cors.train.s= cors.train.s,\n",
    "                cors.test.p= cors.test.p, cors.test.s= cors.test.s))\n",
    "}"
   ]
  },
  {
   "cell_type": "code",
   "execution_count": 14,
   "metadata": {},
   "outputs": [],
   "source": [
    "get_cor_df <- function(data, TGL.model, feature_type){\n",
    "    cors <- get_pred_cors(data, TGL.model)\n",
    "    \n",
    "    df <- data.frame(val= cors$cors.test.p, feature= feature_type,\n",
    "                     cor_method= \"Pearson\", model= \"TGGLasso\")\n",
    "    df <- rbind(df, data.frame(val= cors$cors.test.s, feature= feature_type,\n",
    "                     cor_method= \"Spearman\", model= \"TGGLasso\"))\n",
    "    return(df)\n",
    "}"
   ]
  },
  {
   "cell_type": "code",
   "execution_count": 15,
   "metadata": {},
   "outputs": [],
   "source": [
    "dyn_data <- normalize(dyn_partition)\n",
    "sta_data <- normalize(sta_partition)\n",
    "epi_data <- normalize(epi_partition)"
   ]
  },
  {
   "cell_type": "code",
   "execution_count": 16,
   "metadata": {},
   "outputs": [
    {
     "name": "stdout",
     "output_type": "stream",
     "text": [
      "[1] 494\n",
      "[1] 494\n",
      "[1] 494\n"
     ]
    }
   ],
   "source": [
    "print(nrow(get_cor_df(dyn_data, dyn_tgl, \"dynamic\")))\n",
    "print(nrow(get_cor_df(dyn_data, dyn_tgl, \"static\")))\n",
    "print(nrow(get_cor_df(dyn_data, dyn_tgl, \"epigenetic\")))"
   ]
  },
  {
   "cell_type": "code",
   "execution_count": 17,
   "metadata": {},
   "outputs": [],
   "source": [
    "df <- rbind(df, get_cor_df(dyn_data, dyn_tgl, \"dynamic\"))\n",
    "df <- rbind(df, get_cor_df(sta_data, sta_tgl, \"static\"))\n",
    "df <- rbind(df, get_cor_df(epi_data, epi_tgl, \"epigenetic\"))"
   ]
  },
  {
   "cell_type": "code",
   "execution_count": 18,
   "metadata": {},
   "outputs": [
    {
     "data": {
      "text/html": [
       "<ol class=list-inline>\n",
       "\t<li>2964</li>\n",
       "\t<li>4</li>\n",
       "</ol>\n"
      ],
      "text/latex": [
       "\\begin{enumerate*}\n",
       "\\item 2964\n",
       "\\item 4\n",
       "\\end{enumerate*}\n"
      ],
      "text/markdown": [
       "1. 2964\n",
       "2. 4\n",
       "\n",
       "\n"
      ],
      "text/plain": [
       "[1] 2964    4"
      ]
     },
     "metadata": {},
     "output_type": "display_data"
    }
   ],
   "source": [
    "dim(df)"
   ]
  },
  {
   "cell_type": "code",
   "execution_count": 19,
   "metadata": {},
   "outputs": [],
   "source": [
    "df2 <- data.frame(single_task= subset(df, model == \"single-task\")$val, TGGLasso= subset(df, model == \"TGGLasso\")$val,\n",
    "                 subset(df, model == \"single-task\")[, -1, drop= F])"
   ]
  },
  {
   "cell_type": "code",
   "execution_count": 20,
   "metadata": {},
   "outputs": [
    {
     "data": {
      "text/html": [
       "<table>\n",
       "<thead><tr><th scope=col>single_task</th><th scope=col>TGGLasso</th><th scope=col>feature</th><th scope=col>cor_method</th><th scope=col>model</th></tr></thead>\n",
       "<tbody>\n",
       "\t<tr><td>0.3214086  </td><td>0.3428559  </td><td>dynamic    </td><td>Pearson    </td><td>single-task</td></tr>\n",
       "\t<tr><td>0.4076181  </td><td>0.4325126  </td><td>dynamic    </td><td>Pearson    </td><td>single-task</td></tr>\n",
       "\t<tr><td>0.4031439  </td><td>0.4249071  </td><td>dynamic    </td><td>Pearson    </td><td>single-task</td></tr>\n",
       "\t<tr><td>0.4216562  </td><td>0.4372364  </td><td>dynamic    </td><td>Pearson    </td><td>single-task</td></tr>\n",
       "\t<tr><td>0.3697353  </td><td>0.3922108  </td><td>dynamic    </td><td>Pearson    </td><td>single-task</td></tr>\n",
       "\t<tr><td>0.3960971  </td><td>0.4147380  </td><td>dynamic    </td><td>Pearson    </td><td>single-task</td></tr>\n",
       "</tbody>\n",
       "</table>\n"
      ],
      "text/latex": [
       "\\begin{tabular}{r|lllll}\n",
       " single\\_task & TGGLasso & feature & cor\\_method & model\\\\\n",
       "\\hline\n",
       "\t 0.3214086   & 0.3428559   & dynamic     & Pearson     & single-task\\\\\n",
       "\t 0.4076181   & 0.4325126   & dynamic     & Pearson     & single-task\\\\\n",
       "\t 0.4031439   & 0.4249071   & dynamic     & Pearson     & single-task\\\\\n",
       "\t 0.4216562   & 0.4372364   & dynamic     & Pearson     & single-task\\\\\n",
       "\t 0.3697353   & 0.3922108   & dynamic     & Pearson     & single-task\\\\\n",
       "\t 0.3960971   & 0.4147380   & dynamic     & Pearson     & single-task\\\\\n",
       "\\end{tabular}\n"
      ],
      "text/markdown": [
       "\n",
       "| single_task | TGGLasso | feature | cor_method | model |\n",
       "|---|---|---|---|---|\n",
       "| 0.3214086   | 0.3428559   | dynamic     | Pearson     | single-task |\n",
       "| 0.4076181   | 0.4325126   | dynamic     | Pearson     | single-task |\n",
       "| 0.4031439   | 0.4249071   | dynamic     | Pearson     | single-task |\n",
       "| 0.4216562   | 0.4372364   | dynamic     | Pearson     | single-task |\n",
       "| 0.3697353   | 0.3922108   | dynamic     | Pearson     | single-task |\n",
       "| 0.3960971   | 0.4147380   | dynamic     | Pearson     | single-task |\n",
       "\n"
      ],
      "text/plain": [
       "  single_task TGGLasso  feature cor_method model      \n",
       "1 0.3214086   0.3428559 dynamic Pearson    single-task\n",
       "2 0.4076181   0.4325126 dynamic Pearson    single-task\n",
       "3 0.4031439   0.4249071 dynamic Pearson    single-task\n",
       "4 0.4216562   0.4372364 dynamic Pearson    single-task\n",
       "5 0.3697353   0.3922108 dynamic Pearson    single-task\n",
       "6 0.3960971   0.4147380 dynamic Pearson    single-task"
      ]
     },
     "metadata": {},
     "output_type": "display_data"
    },
    {
     "data": {
      "text/html": [
       "<ol class=list-inline>\n",
       "\t<li>1482</li>\n",
       "\t<li>5</li>\n",
       "</ol>\n"
      ],
      "text/latex": [
       "\\begin{enumerate*}\n",
       "\\item 1482\n",
       "\\item 5\n",
       "\\end{enumerate*}\n"
      ],
      "text/markdown": [
       "1. 1482\n",
       "2. 5\n",
       "\n",
       "\n"
      ],
      "text/plain": [
       "[1] 1482    5"
      ]
     },
     "metadata": {},
     "output_type": "display_data"
    }
   ],
   "source": [
    "head(df2)\n",
    "dim(df2)"
   ]
  },
  {
   "cell_type": "code",
   "execution_count": 21,
   "metadata": {},
   "outputs": [
    {
     "data": {
      "image/png": "[encoded data removed]",
      "text/plain": [
       "plot without title"
      ]
     },
     "metadata": {},
     "output_type": "display_data"
    }
   ],
   "source": [
    "library(ggplot2)\n",
    "ggplot() + geom_point(df2, mapping= aes(x= single_task, y= TGGLasso, color= feature)) +\n",
    "geom_abline(slope= 1, interface= 0) +\n",
    "facet_wrap(c(\"feature\", \"cor_method\") , ncol= 2) + \n",
    "theme_classic()"
   ]
  },
  {
   "cell_type": "markdown",
   "metadata": {},
   "source": [
    "## Compute the ratio of cells where single-task was better than TGGLasso"
   ]
  },
  {
   "cell_type": "code",
   "execution_count": 22,
   "metadata": {},
   "outputs": [
    {
     "name": "stdout",
     "output_type": "stream",
     "text": [
      "epigenetic features"
     ]
    },
    {
     "data": {
      "text/html": [
       "0.303643724696356"
      ],
      "text/latex": [
       "0.303643724696356"
      ],
      "text/markdown": [
       "0.303643724696356"
      ],
      "text/plain": [
       "[1] 0.3036437"
      ]
     },
     "metadata": {},
     "output_type": "display_data"
    },
    {
     "name": "stdout",
     "output_type": "stream",
     "text": [
      "static features"
     ]
    },
    {
     "data": {
      "text/html": [
       "0.125506072874494"
      ],
      "text/latex": [
       "0.125506072874494"
      ],
      "text/markdown": [
       "0.125506072874494"
      ],
      "text/plain": [
       "[1] 0.1255061"
      ]
     },
     "metadata": {},
     "output_type": "display_data"
    },
    {
     "name": "stdout",
     "output_type": "stream",
     "text": [
      "dynamic features"
     ]
    },
    {
     "data": {
      "text/html": [
       "0.435222672064777"
      ],
      "text/latex": [
       "0.435222672064777"
      ],
      "text/markdown": [
       "0.435222672064777"
      ],
      "text/plain": [
       "[1] 0.4352227"
      ]
     },
     "metadata": {},
     "output_type": "display_data"
    }
   ],
   "source": [
    "feature_df <- subset(df2, feature == \"epigenetic\")\n",
    "cat(\"epigenetic features\")\n",
    "length(which(feature_df$single_task > feature_df$TGGLasso)) / nrow(feature_df)\n",
    "\n",
    "feature_df <- subset(df2, feature == \"static\")\n",
    "cat(\"static features\")\n",
    "length(which(feature_df$single_task > feature_df$TGGLasso)) / nrow(feature_df)\n",
    "\n",
    "feature_df <- subset(df2, feature == \"dynamic\")\n",
    "cat(\"dynamic features\")\n",
    "length(which(feature_df$single_task > feature_df$TGGLasso)) / nrow(feature_df)"
   ]
  },
  {
   "cell_type": "markdown",
   "metadata": {},
   "source": [
    "# Conclusion\n",
    "The aim of this notebook was to compare how the prediction correlations (test data only) differ between the single-task and TGGLasso models, trained on **not-imputed** data, and test whether the multi-task learning approach (TGGLasso) that shares the information accros the cells would help evading the affect of dropouts. This type of analysis suggests the following points:\n",
    "\n",
    "* similar to the HSMM (human myoblast) dataset, the TGGLasso model trained on the static features outperforms the single-task ones.\n",
    "* When considering the correlation methods, it seems like that the Spearman correlation is less sensitive to the type of model generating the predictions (TGGLasso or single-task).\n",
    "* The models trained on the dynamic and epigenetic features tend to have the highest ratio of cells with single-task models outperforming the TGGLasso ones with all of them being still less than 50%.\n",
    "* Given the point above, we can indeed claim that the MTL approach is better than single-task and that it does get around the dropout issue implicitly."
   ]
  },
  {
   "cell_type": "code",
   "execution_count": null,
   "metadata": {},
   "outputs": [],
   "source": []
  }
 ],
 "metadata": {
  "kernelspec": {
   "display_name": "R",
   "language": "R",
   "name": "ir"
  },
  "language_info": {
   "codemirror_mode": "r",
   "file_extension": ".r",
   "mimetype": "text/x-r-source",
   "name": "R",
   "pygments_lexer": "r",
   "version": "3.4.0"
  }
 },
 "nbformat": 4,
 "nbformat_minor": 2
}
