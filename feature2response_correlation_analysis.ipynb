{
 "cells": [
  {
   "cell_type": "markdown",
   "metadata": {},
   "source": [
    "# Analyze the correlation between features and response\n",
    "Since the trained statistical models did not meet our expectatoins regarding establishing a meaningful association between the TF affinity scores as features and gene expression as response, we decided to take a deeper look at the link(s) between these two quantities."
   ]
  },
  {
   "cell_type": "markdown",
   "metadata": {},
   "source": [
    "## Load the feature data"
   ]
  },
  {
   "cell_type": "code",
   "execution_count": 1,
   "metadata": {},
   "outputs": [],
   "source": [
    "load(\"../TF_promoter.RData\")"
   ]
  },
  {
   "cell_type": "code",
   "execution_count": 2,
   "metadata": {},
   "outputs": [
    {
     "name": "stdout",
     "output_type": "stream",
     "text": [
      "[1] \"full.x\" \"x\"     \n"
     ]
    }
   ],
   "source": [
    "print(ls())"
   ]
  },
  {
   "cell_type": "markdown",
   "metadata": {},
   "source": [
    "The **full.x** variable contains the unfiltered samples (genes), wherease the **x** has only those that survived the gene expression variance filtering explained in [iPCs data and tree-guided MTL results notebook](https://github.com/fba67/scMTL/blob/master/sc_iPCs.ipynb). I decided to include the full gene set as well to assure that this lack of association we've observed between the features and responses wasn't due to any other preprocessing steps."
   ]
  },
  {
   "cell_type": "code",
   "execution_count": 3,
   "metadata": {},
   "outputs": [
    {
     "name": "stdout",
     "output_type": "stream",
     "text": [
      "[1] 56984   726\n",
      "[1] 13906   464\n"
     ]
    }
   ],
   "source": [
    "print(dim(full.x))\n",
    "print(dim(x))"
   ]
  },
  {
   "cell_type": "markdown",
   "metadata": {},
   "source": [
    "## Print the range of data\n",
    "The features data are log-transformed before hand when dumped into the RData file."
   ]
  },
  {
   "cell_type": "code",
   "execution_count": 4,
   "metadata": {},
   "outputs": [
    {
     "name": "stdout",
     "output_type": "stream",
     "text": [
      "[1] 0.0000000 0.7455161\n",
      "[1] 0.000000 1.143897\n"
     ]
    }
   ],
   "source": [
    "print(range(x))\n",
    "print(range(full.x))"
   ]
  },
  {
   "cell_type": "markdown",
   "metadata": {},
   "source": [
    "## Types of gene expression measurements (response)\n",
    "We had initiated the problem by approaching the single cell gene expression as the responses. However, we decided to look into the bulk RNA-seq available for the same cell types provided by Kathrin. Here, we're goining to investigate their correlation with features for both single cell and bulk measurements of gene expression.\n",
    "\n",
    "* [Single cell gene expression](#sc)\n",
    "* [Bulk gene expression](#bulk)"
   ]
  },
  {
   "cell_type": "markdown",
   "metadata": {},
   "source": [
    "# Single cell gene expression <a class= \"anchor\" id= \"SC\"></a>"
   ]
  },
  {
   "cell_type": "markdown",
   "metadata": {},
   "source": [
    "## Read the response (imputed sc gene expression)"
   ]
  },
  {
   "cell_type": "code",
   "execution_count": 5,
   "metadata": {},
   "outputs": [],
   "source": [
    "full.y <- read.csv(\"/MMCI/MS/ExpRegulation/work/data/singleCell/iPCs_Kathrin/scImpute/StemNet_readCounts_Kclust2scimpute_count.csv\")\n",
    "y <- read.csv(\"../scMTL_StemNet_imputed_TPM_response_reduced_var.txt\")\n",
    "\n",
    "rownames(full.y) <- full.y$X\n",
    "full.y <- full.y[, -1]\n",
    "\n",
    "rownames(y) <- y$X\n",
    "y <- y[, -1]"
   ]
  },
  {
   "cell_type": "code",
   "execution_count": 6,
   "metadata": {},
   "outputs": [
    {
     "name": "stdout",
     "output_type": "stream",
     "text": [
      "[1] 60525   657\n",
      "[1] 13906   640\n"
     ]
    }
   ],
   "source": [
    "print(dim(full.y))\n",
    "print(dim(y))"
   ]
  },
  {
   "cell_type": "markdown",
   "metadata": {},
   "source": [
    "## Find the overlapping genes (full)"
   ]
  },
  {
   "cell_type": "code",
   "execution_count": 7,
   "metadata": {},
   "outputs": [
    {
     "name": "stdout",
     "output_type": "stream",
     "text": [
      "[1] 56984\n",
      "[1] 56984\n"
     ]
    }
   ],
   "source": [
    "full.y.hits <- which(rownames(full.y) %in% rownames(full.x))\n",
    "full.x.hits <- which(rownames(full.x) %in% rownames(full.y))\n",
    "print(length(full.y.hits))\n",
    "print(length(full.x.hits))"
   ]
  },
  {
   "cell_type": "markdown",
   "metadata": {},
   "source": [
    "## Adjust the data variables based on the overlapping genes found above"
   ]
  },
  {
   "cell_type": "code",
   "execution_count": 8,
   "metadata": {},
   "outputs": [],
   "source": [
    "full.y <- full.y[full.y.hits, ]\n",
    "full.x <- full.x[full.x.hits, ]"
   ]
  },
  {
   "cell_type": "markdown",
   "metadata": {},
   "source": [
    "## Log-transform the response data"
   ]
  },
  {
   "cell_type": "code",
   "execution_count": 9,
   "metadata": {},
   "outputs": [],
   "source": [
    "full.y <- log2(1 + full.y)\n",
    "y <- log2(1 + y)"
   ]
  },
  {
   "cell_type": "code",
   "execution_count": 10,
   "metadata": {},
   "outputs": [
    {
     "name": "stdout",
     "output_type": "stream",
     "text": [
      "[1]  0.00000 19.19833\n",
      "[1]  0.00000 10.33516\n"
     ]
    }
   ],
   "source": [
    "print(range(full.y))\n",
    "print(range(y))"
   ]
  },
  {
   "cell_type": "markdown",
   "metadata": {},
   "source": [
    "## Compute the correlation between each feature and each response vector (gene expression profile per cell)"
   ]
  },
  {
   "cell_type": "markdown",
   "metadata": {},
   "source": [
    "* [Correlations on full datasets](#full)\n",
    "* [Correlations on filtered datasets](#filtered)"
   ]
  },
  {
   "cell_type": "markdown",
   "metadata": {},
   "source": [
    "## Correlations on full datasets <a class= \"anchor\" id= \"full\"></a>"
   ]
  },
  {
   "cell_type": "code",
   "execution_count": 11,
   "metadata": {},
   "outputs": [],
   "source": [
    "full.cors <- list()\n",
    "for(i in seq(ncol(full.y)))\n",
    "    full.cors[[i]] <- sapply(seq(ncol(full.x)), function(j)cor(full.x[, j], full.y[, i]))"
   ]
  },
  {
   "cell_type": "markdown",
   "metadata": {},
   "source": [
    "## Print the range of the resulting correlation values for each cell"
   ]
  },
  {
   "cell_type": "code",
   "execution_count": 12,
   "metadata": {
    "scrolled": false
   },
   "outputs": [
    {
     "data": {
      "text/html": [
       "<table>\n",
       "<thead><tr><th></th><th scope=col>min</th><th scope=col>max</th></tr></thead>\n",
       "<tbody>\n",
       "\t<tr><th scope=row>HLC_CEL_c1_R1</th><td>-0.011228362</td><td>0.01401838  </td></tr>\n",
       "\t<tr><th scope=row>HLC_CEL_c10_R1</th><td>-0.008951985</td><td>0.01302259  </td></tr>\n",
       "\t<tr><th scope=row>HLC_CEL_c11_R1</th><td>-0.009011605</td><td>0.01198919  </td></tr>\n",
       "\t<tr><th scope=row>HLC_CEL_c13_R1</th><td>-0.009993123</td><td>0.01320349  </td></tr>\n",
       "\t<tr><th scope=row>HLC_CEL_c14_R1</th><td>-0.009177081</td><td>0.01355173  </td></tr>\n",
       "\t<tr><th scope=row>HLC_CEL_c15_R1</th><td>-0.010156473</td><td>0.01328417  </td></tr>\n",
       "\t<tr><th scope=row>HLC_CEL_c16_R1</th><td>-0.009092201</td><td>0.01365715  </td></tr>\n",
       "\t<tr><th scope=row>HLC_CEL_c17_R1</th><td>-0.010545117</td><td>0.01147354  </td></tr>\n",
       "\t<tr><th scope=row>HLC_CEL_c18_R1</th><td>-0.009402021</td><td>0.01351065  </td></tr>\n",
       "\t<tr><th scope=row>HLC_CEL_c19_R1</th><td>-0.010175214</td><td>0.01339088  </td></tr>\n",
       "\t<tr><th scope=row>HLC_CEL_c2_R1</th><td>-0.009707936</td><td>0.01352899  </td></tr>\n",
       "\t<tr><th scope=row>HLC_CEL_c20_R1</th><td>-0.011543796</td><td>0.01104114  </td></tr>\n",
       "\t<tr><th scope=row>HLC_CEL_c21_R1</th><td>-0.009257522</td><td>0.01228551  </td></tr>\n",
       "\t<tr><th scope=row>HLC_CEL_c22_R1</th><td>-0.009736728</td><td>0.01171224  </td></tr>\n",
       "\t<tr><th scope=row>HLC_CEL_c23_R1</th><td>-0.009253357</td><td>0.01252898  </td></tr>\n",
       "\t<tr><th scope=row>HLC_CEL_c24_R1</th><td>-0.009757720</td><td>0.01326092  </td></tr>\n",
       "\t<tr><th scope=row>HLC_CEL_c25_R1</th><td>-0.008837851</td><td>0.01254811  </td></tr>\n",
       "\t<tr><th scope=row>HLC_CEL_c26_R1</th><td>-0.011005567</td><td>0.01570985  </td></tr>\n",
       "\t<tr><th scope=row>HLC_CEL_c27_R1</th><td>-0.010539097</td><td>0.01168079  </td></tr>\n",
       "\t<tr><th scope=row>HLC_CEL_c28_R1</th><td>-0.010538448</td><td>0.01220312  </td></tr>\n",
       "\t<tr><th scope=row>HLC_CEL_c29_R1</th><td>-0.009726569</td><td>0.01190534  </td></tr>\n",
       "\t<tr><th scope=row>HLC_CEL_c3_R1</th><td>-0.010224380</td><td>0.01281236  </td></tr>\n",
       "\t<tr><th scope=row>HLC_CEL_c30_R1</th><td>-0.010915311</td><td>0.01062857  </td></tr>\n",
       "\t<tr><th scope=row>HLC_CEL_c31_R1</th><td>-0.009902559</td><td>0.01240677  </td></tr>\n",
       "\t<tr><th scope=row>HLC_CEL_c32_R1</th><td>-0.010709728</td><td>0.01279150  </td></tr>\n",
       "\t<tr><th scope=row>HLC_CEL_c33_R1</th><td>-0.009746920</td><td>0.01109846  </td></tr>\n",
       "\t<tr><th scope=row>HLC_CEL_c34_R1</th><td>-0.010138817</td><td>0.01236402  </td></tr>\n",
       "\t<tr><th scope=row>HLC_CEL_c35_R1</th><td>-0.008946796</td><td>0.01283903  </td></tr>\n",
       "\t<tr><th scope=row>HLC_CEL_c36_R1</th><td>-0.009679406</td><td>0.01123142  </td></tr>\n",
       "\t<tr><th scope=row>HLC_CEL_c37_R1</th><td>-0.010798090</td><td>0.01289147  </td></tr>\n",
       "\t<tr><th scope=row>HLC_CEL_c38_R1</th><td>-0.011162085</td><td>0.01086918  </td></tr>\n",
       "\t<tr><th scope=row>HLC_CEL_c39_R1</th><td>-0.009960912</td><td>0.01083680  </td></tr>\n",
       "\t<tr><th scope=row>HLC_CEL_c4_R1</th><td>-0.009748092</td><td>0.01459519  </td></tr>\n",
       "\t<tr><th scope=row>HLC_CEL_c40_R1</th><td>-0.010051592</td><td>0.01228172  </td></tr>\n",
       "\t<tr><th scope=row>HLC_CEL_c41_R1</th><td>-0.009763059</td><td>0.01329729  </td></tr>\n",
       "\t<tr><th scope=row>HLC_CEL_c42_R1</th><td>-0.010497935</td><td>0.01207914  </td></tr>\n",
       "\t<tr><th scope=row>HLC_CEL_c43_R1</th><td>-0.009500043</td><td>0.01274106  </td></tr>\n",
       "\t<tr><th scope=row>HLC_CEL_c44_R1</th><td>-0.009441179</td><td>0.01079352  </td></tr>\n",
       "\t<tr><th scope=row>HLC_CEL_c45_R1</th><td>-0.011373686</td><td>0.01234807  </td></tr>\n",
       "\t<tr><th scope=row>HLC_CEL_c46_R1</th><td>-0.009443363</td><td>0.01506945  </td></tr>\n",
       "\t<tr><th scope=row>HLC_CEL_c47_R1</th><td>-0.010126757</td><td>0.01322593  </td></tr>\n",
       "\t<tr><th scope=row>HLC_CEL_c48_R1</th><td>-0.012171819</td><td>0.01439740  </td></tr>\n",
       "\t<tr><th scope=row>HLC_CEL_c49_R1</th><td>-0.010145757</td><td>0.01245922  </td></tr>\n",
       "\t<tr><th scope=row>HLC_CEL_c5_R1</th><td>-0.009471804</td><td>0.01113329  </td></tr>\n",
       "\t<tr><th scope=row>HLC_CEL_c50_R1</th><td>-0.009910547</td><td>0.01470686  </td></tr>\n",
       "\t<tr><th scope=row>HLC_CEL_c51_R1</th><td>-0.009494736</td><td>0.01281678  </td></tr>\n",
       "\t<tr><th scope=row>HLC_CEL_c52_R1</th><td>-0.010127659</td><td>0.01179243  </td></tr>\n",
       "\t<tr><th scope=row>HLC_CEL_c53_R1</th><td>-0.009763811</td><td>0.01229283  </td></tr>\n",
       "\t<tr><th scope=row>HLC_CEL_c54_R1</th><td>-0.009563751</td><td>0.01169962  </td></tr>\n",
       "\t<tr><th scope=row>HLC_CEL_c55_R1</th><td>-0.009846565</td><td>0.01597601  </td></tr>\n",
       "</tbody>\n",
       "</table>\n"
      ],
      "text/latex": [
       "\\begin{tabular}{r|ll}\n",
       "  & min & max\\\\\n",
       "\\hline\n",
       "\tHLC\\_CEL\\_c1\\_R1 & -0.011228362 & 0.01401838  \\\\\n",
       "\tHLC\\_CEL\\_c10\\_R1 & -0.008951985 & 0.01302259  \\\\\n",
       "\tHLC\\_CEL\\_c11\\_R1 & -0.009011605 & 0.01198919  \\\\\n",
       "\tHLC\\_CEL\\_c13\\_R1 & -0.009993123 & 0.01320349  \\\\\n",
       "\tHLC\\_CEL\\_c14\\_R1 & -0.009177081 & 0.01355173  \\\\\n",
       "\tHLC\\_CEL\\_c15\\_R1 & -0.010156473 & 0.01328417  \\\\\n",
       "\tHLC\\_CEL\\_c16\\_R1 & -0.009092201 & 0.01365715  \\\\\n",
       "\tHLC\\_CEL\\_c17\\_R1 & -0.010545117 & 0.01147354  \\\\\n",
       "\tHLC\\_CEL\\_c18\\_R1 & -0.009402021 & 0.01351065  \\\\\n",
       "\tHLC\\_CEL\\_c19\\_R1 & -0.010175214 & 0.01339088  \\\\\n",
       "\tHLC\\_CEL\\_c2\\_R1 & -0.009707936 & 0.01352899  \\\\\n",
       "\tHLC\\_CEL\\_c20\\_R1 & -0.011543796 & 0.01104114  \\\\\n",
       "\tHLC\\_CEL\\_c21\\_R1 & -0.009257522 & 0.01228551  \\\\\n",
       "\tHLC\\_CEL\\_c22\\_R1 & -0.009736728 & 0.01171224  \\\\\n",
       "\tHLC\\_CEL\\_c23\\_R1 & -0.009253357 & 0.01252898  \\\\\n",
       "\tHLC\\_CEL\\_c24\\_R1 & -0.009757720 & 0.01326092  \\\\\n",
       "\tHLC\\_CEL\\_c25\\_R1 & -0.008837851 & 0.01254811  \\\\\n",
       "\tHLC\\_CEL\\_c26\\_R1 & -0.011005567 & 0.01570985  \\\\\n",
       "\tHLC\\_CEL\\_c27\\_R1 & -0.010539097 & 0.01168079  \\\\\n",
       "\tHLC\\_CEL\\_c28\\_R1 & -0.010538448 & 0.01220312  \\\\\n",
       "\tHLC\\_CEL\\_c29\\_R1 & -0.009726569 & 0.01190534  \\\\\n",
       "\tHLC\\_CEL\\_c3\\_R1 & -0.010224380 & 0.01281236  \\\\\n",
       "\tHLC\\_CEL\\_c30\\_R1 & -0.010915311 & 0.01062857  \\\\\n",
       "\tHLC\\_CEL\\_c31\\_R1 & -0.009902559 & 0.01240677  \\\\\n",
       "\tHLC\\_CEL\\_c32\\_R1 & -0.010709728 & 0.01279150  \\\\\n",
       "\tHLC\\_CEL\\_c33\\_R1 & -0.009746920 & 0.01109846  \\\\\n",
       "\tHLC\\_CEL\\_c34\\_R1 & -0.010138817 & 0.01236402  \\\\\n",
       "\tHLC\\_CEL\\_c35\\_R1 & -0.008946796 & 0.01283903  \\\\\n",
       "\tHLC\\_CEL\\_c36\\_R1 & -0.009679406 & 0.01123142  \\\\\n",
       "\tHLC\\_CEL\\_c37\\_R1 & -0.010798090 & 0.01289147  \\\\\n",
       "\tHLC\\_CEL\\_c38\\_R1 & -0.011162085 & 0.01086918  \\\\\n",
       "\tHLC\\_CEL\\_c39\\_R1 & -0.009960912 & 0.01083680  \\\\\n",
       "\tHLC\\_CEL\\_c4\\_R1 & -0.009748092 & 0.01459519  \\\\\n",
       "\tHLC\\_CEL\\_c40\\_R1 & -0.010051592 & 0.01228172  \\\\\n",
       "\tHLC\\_CEL\\_c41\\_R1 & -0.009763059 & 0.01329729  \\\\\n",
       "\tHLC\\_CEL\\_c42\\_R1 & -0.010497935 & 0.01207914  \\\\\n",
       "\tHLC\\_CEL\\_c43\\_R1 & -0.009500043 & 0.01274106  \\\\\n",
       "\tHLC\\_CEL\\_c44\\_R1 & -0.009441179 & 0.01079352  \\\\\n",
       "\tHLC\\_CEL\\_c45\\_R1 & -0.011373686 & 0.01234807  \\\\\n",
       "\tHLC\\_CEL\\_c46\\_R1 & -0.009443363 & 0.01506945  \\\\\n",
       "\tHLC\\_CEL\\_c47\\_R1 & -0.010126757 & 0.01322593  \\\\\n",
       "\tHLC\\_CEL\\_c48\\_R1 & -0.012171819 & 0.01439740  \\\\\n",
       "\tHLC\\_CEL\\_c49\\_R1 & -0.010145757 & 0.01245922  \\\\\n",
       "\tHLC\\_CEL\\_c5\\_R1 & -0.009471804 & 0.01113329  \\\\\n",
       "\tHLC\\_CEL\\_c50\\_R1 & -0.009910547 & 0.01470686  \\\\\n",
       "\tHLC\\_CEL\\_c51\\_R1 & -0.009494736 & 0.01281678  \\\\\n",
       "\tHLC\\_CEL\\_c52\\_R1 & -0.010127659 & 0.01179243  \\\\\n",
       "\tHLC\\_CEL\\_c53\\_R1 & -0.009763811 & 0.01229283  \\\\\n",
       "\tHLC\\_CEL\\_c54\\_R1 & -0.009563751 & 0.01169962  \\\\\n",
       "\tHLC\\_CEL\\_c55\\_R1 & -0.009846565 & 0.01597601  \\\\\n",
       "\\end{tabular}\n"
      ],
      "text/markdown": [
       "\n",
       "| <!--/--> | min | max |\n",
       "|---|---|---|\n",
       "| HLC_CEL_c1_R1 | -0.011228362 | 0.01401838   |\n",
       "| HLC_CEL_c10_R1 | -0.008951985 | 0.01302259   |\n",
       "| HLC_CEL_c11_R1 | -0.009011605 | 0.01198919   |\n",
       "| HLC_CEL_c13_R1 | -0.009993123 | 0.01320349   |\n",
       "| HLC_CEL_c14_R1 | -0.009177081 | 0.01355173   |\n",
       "| HLC_CEL_c15_R1 | -0.010156473 | 0.01328417   |\n",
       "| HLC_CEL_c16_R1 | -0.009092201 | 0.01365715   |\n",
       "| HLC_CEL_c17_R1 | -0.010545117 | 0.01147354   |\n",
       "| HLC_CEL_c18_R1 | -0.009402021 | 0.01351065   |\n",
       "| HLC_CEL_c19_R1 | -0.010175214 | 0.01339088   |\n",
       "| HLC_CEL_c2_R1 | -0.009707936 | 0.01352899   |\n",
       "| HLC_CEL_c20_R1 | -0.011543796 | 0.01104114   |\n",
       "| HLC_CEL_c21_R1 | -0.009257522 | 0.01228551   |\n",
       "| HLC_CEL_c22_R1 | -0.009736728 | 0.01171224   |\n",
       "| HLC_CEL_c23_R1 | -0.009253357 | 0.01252898   |\n",
       "| HLC_CEL_c24_R1 | -0.009757720 | 0.01326092   |\n",
       "| HLC_CEL_c25_R1 | -0.008837851 | 0.01254811   |\n",
       "| HLC_CEL_c26_R1 | -0.011005567 | 0.01570985   |\n",
       "| HLC_CEL_c27_R1 | -0.010539097 | 0.01168079   |\n",
       "| HLC_CEL_c28_R1 | -0.010538448 | 0.01220312   |\n",
       "| HLC_CEL_c29_R1 | -0.009726569 | 0.01190534   |\n",
       "| HLC_CEL_c3_R1 | -0.010224380 | 0.01281236   |\n",
       "| HLC_CEL_c30_R1 | -0.010915311 | 0.01062857   |\n",
       "| HLC_CEL_c31_R1 | -0.009902559 | 0.01240677   |\n",
       "| HLC_CEL_c32_R1 | -0.010709728 | 0.01279150   |\n",
       "| HLC_CEL_c33_R1 | -0.009746920 | 0.01109846   |\n",
       "| HLC_CEL_c34_R1 | -0.010138817 | 0.01236402   |\n",
       "| HLC_CEL_c35_R1 | -0.008946796 | 0.01283903   |\n",
       "| HLC_CEL_c36_R1 | -0.009679406 | 0.01123142   |\n",
       "| HLC_CEL_c37_R1 | -0.010798090 | 0.01289147   |\n",
       "| HLC_CEL_c38_R1 | -0.011162085 | 0.01086918   |\n",
       "| HLC_CEL_c39_R1 | -0.009960912 | 0.01083680   |\n",
       "| HLC_CEL_c4_R1 | -0.009748092 | 0.01459519   |\n",
       "| HLC_CEL_c40_R1 | -0.010051592 | 0.01228172   |\n",
       "| HLC_CEL_c41_R1 | -0.009763059 | 0.01329729   |\n",
       "| HLC_CEL_c42_R1 | -0.010497935 | 0.01207914   |\n",
       "| HLC_CEL_c43_R1 | -0.009500043 | 0.01274106   |\n",
       "| HLC_CEL_c44_R1 | -0.009441179 | 0.01079352   |\n",
       "| HLC_CEL_c45_R1 | -0.011373686 | 0.01234807   |\n",
       "| HLC_CEL_c46_R1 | -0.009443363 | 0.01506945   |\n",
       "| HLC_CEL_c47_R1 | -0.010126757 | 0.01322593   |\n",
       "| HLC_CEL_c48_R1 | -0.012171819 | 0.01439740   |\n",
       "| HLC_CEL_c49_R1 | -0.010145757 | 0.01245922   |\n",
       "| HLC_CEL_c5_R1 | -0.009471804 | 0.01113329   |\n",
       "| HLC_CEL_c50_R1 | -0.009910547 | 0.01470686   |\n",
       "| HLC_CEL_c51_R1 | -0.009494736 | 0.01281678   |\n",
       "| HLC_CEL_c52_R1 | -0.010127659 | 0.01179243   |\n",
       "| HLC_CEL_c53_R1 | -0.009763811 | 0.01229283   |\n",
       "| HLC_CEL_c54_R1 | -0.009563751 | 0.01169962   |\n",
       "| HLC_CEL_c55_R1 | -0.009846565 | 0.01597601   |\n",
       "\n"
      ],
      "text/plain": [
       "               min          max       \n",
       "HLC_CEL_c1_R1  -0.011228362 0.01401838\n",
       "HLC_CEL_c10_R1 -0.008951985 0.01302259\n",
       "HLC_CEL_c11_R1 -0.009011605 0.01198919\n",
       "HLC_CEL_c13_R1 -0.009993123 0.01320349\n",
       "HLC_CEL_c14_R1 -0.009177081 0.01355173\n",
       "HLC_CEL_c15_R1 -0.010156473 0.01328417\n",
       "HLC_CEL_c16_R1 -0.009092201 0.01365715\n",
       "HLC_CEL_c17_R1 -0.010545117 0.01147354\n",
       "HLC_CEL_c18_R1 -0.009402021 0.01351065\n",
       "HLC_CEL_c19_R1 -0.010175214 0.01339088\n",
       "HLC_CEL_c2_R1  -0.009707936 0.01352899\n",
       "HLC_CEL_c20_R1 -0.011543796 0.01104114\n",
       "HLC_CEL_c21_R1 -0.009257522 0.01228551\n",
       "HLC_CEL_c22_R1 -0.009736728 0.01171224\n",
       "HLC_CEL_c23_R1 -0.009253357 0.01252898\n",
       "HLC_CEL_c24_R1 -0.009757720 0.01326092\n",
       "HLC_CEL_c25_R1 -0.008837851 0.01254811\n",
       "HLC_CEL_c26_R1 -0.011005567 0.01570985\n",
       "HLC_CEL_c27_R1 -0.010539097 0.01168079\n",
       "HLC_CEL_c28_R1 -0.010538448 0.01220312\n",
       "HLC_CEL_c29_R1 -0.009726569 0.01190534\n",
       "HLC_CEL_c3_R1  -0.010224380 0.01281236\n",
       "HLC_CEL_c30_R1 -0.010915311 0.01062857\n",
       "HLC_CEL_c31_R1 -0.009902559 0.01240677\n",
       "HLC_CEL_c32_R1 -0.010709728 0.01279150\n",
       "HLC_CEL_c33_R1 -0.009746920 0.01109846\n",
       "HLC_CEL_c34_R1 -0.010138817 0.01236402\n",
       "HLC_CEL_c35_R1 -0.008946796 0.01283903\n",
       "HLC_CEL_c36_R1 -0.009679406 0.01123142\n",
       "HLC_CEL_c37_R1 -0.010798090 0.01289147\n",
       "HLC_CEL_c38_R1 -0.011162085 0.01086918\n",
       "HLC_CEL_c39_R1 -0.009960912 0.01083680\n",
       "HLC_CEL_c4_R1  -0.009748092 0.01459519\n",
       "HLC_CEL_c40_R1 -0.010051592 0.01228172\n",
       "HLC_CEL_c41_R1 -0.009763059 0.01329729\n",
       "HLC_CEL_c42_R1 -0.010497935 0.01207914\n",
       "HLC_CEL_c43_R1 -0.009500043 0.01274106\n",
       "HLC_CEL_c44_R1 -0.009441179 0.01079352\n",
       "HLC_CEL_c45_R1 -0.011373686 0.01234807\n",
       "HLC_CEL_c46_R1 -0.009443363 0.01506945\n",
       "HLC_CEL_c47_R1 -0.010126757 0.01322593\n",
       "HLC_CEL_c48_R1 -0.012171819 0.01439740\n",
       "HLC_CEL_c49_R1 -0.010145757 0.01245922\n",
       "HLC_CEL_c5_R1  -0.009471804 0.01113329\n",
       "HLC_CEL_c50_R1 -0.009910547 0.01470686\n",
       "HLC_CEL_c51_R1 -0.009494736 0.01281678\n",
       "HLC_CEL_c52_R1 -0.010127659 0.01179243\n",
       "HLC_CEL_c53_R1 -0.009763811 0.01229283\n",
       "HLC_CEL_c54_R1 -0.009563751 0.01169962\n",
       "HLC_CEL_c55_R1 -0.009846565 0.01597601"
      ]
     },
     "metadata": {},
     "output_type": "display_data"
    }
   ],
   "source": [
    "df.full <- data.frame(min= as.numeric(lapply(full.cors, FUN= min)), max= as.numeric(lapply(full.cors, FUN= max)))\n",
    "rownames(df.full) <- colnames(full.y)\n",
    "df.full[seq(50), ]"
   ]
  },
  {
   "cell_type": "markdown",
   "metadata": {},
   "source": [
    "## Plot histogram to have a more concise view of the correlation distributions"
   ]
  },
  {
   "cell_type": "code",
   "execution_count": 13,
   "metadata": {},
   "outputs": [
    {
     "data": {
      "image/png": "[encoded data removed]",
      "text/plain": [
       "Plot with title “all correlations values on full datasets”"
      ]
     },
     "metadata": {},
     "output_type": "display_data"
    }
   ],
   "source": [
    "hist(as.matrix(df.full), main= \"all correlations values on full datasets\", xlab= \"correlations\")"
   ]
  },
  {
   "cell_type": "markdown",
   "metadata": {},
   "source": [
    "## Correlations on filtered datasets <a class= \"anchor\" id= \"filtered\"></a>"
   ]
  },
  {
   "cell_type": "code",
   "execution_count": 14,
   "metadata": {},
   "outputs": [],
   "source": [
    "cors <- list()\n",
    "for(i in seq(ncol(y)))\n",
    "    cors[[i]] <- sapply(seq(ncol(x)), function(j)cor(x[, j], y[, i]))"
   ]
  },
  {
   "cell_type": "markdown",
   "metadata": {},
   "source": [
    "## Print the range of the resulting correlation values for each cell"
   ]
  },
  {
   "cell_type": "code",
   "execution_count": 15,
   "metadata": {},
   "outputs": [
    {
     "data": {
      "text/html": [
       "<table>\n",
       "<thead><tr><th></th><th scope=col>min</th><th scope=col>max</th></tr></thead>\n",
       "<tbody>\n",
       "\t<tr><th scope=row>HLC_CEL_c1_R1</th><td>-0.011228362</td><td>0.01401838  </td></tr>\n",
       "\t<tr><th scope=row>HLC_CEL_c10_R1</th><td>-0.008951985</td><td>0.01302259  </td></tr>\n",
       "\t<tr><th scope=row>HLC_CEL_c11_R1</th><td>-0.009011605</td><td>0.01198919  </td></tr>\n",
       "\t<tr><th scope=row>HLC_CEL_c13_R1</th><td>-0.009993123</td><td>0.01320349  </td></tr>\n",
       "\t<tr><th scope=row>HLC_CEL_c14_R1</th><td>-0.009177081</td><td>0.01355173  </td></tr>\n",
       "\t<tr><th scope=row>HLC_CEL_c15_R1</th><td>-0.010156473</td><td>0.01328417  </td></tr>\n",
       "\t<tr><th scope=row>HLC_CEL_c16_R1</th><td>-0.009092201</td><td>0.01365715  </td></tr>\n",
       "\t<tr><th scope=row>HLC_CEL_c17_R1</th><td>-0.010545117</td><td>0.01147354  </td></tr>\n",
       "\t<tr><th scope=row>HLC_CEL_c18_R1</th><td>-0.009402021</td><td>0.01351065  </td></tr>\n",
       "\t<tr><th scope=row>HLC_CEL_c19_R1</th><td>-0.010175214</td><td>0.01339088  </td></tr>\n",
       "\t<tr><th scope=row>HLC_CEL_c2_R1</th><td>-0.009707936</td><td>0.01352899  </td></tr>\n",
       "\t<tr><th scope=row>HLC_CEL_c20_R1</th><td>-0.011543796</td><td>0.01104114  </td></tr>\n",
       "\t<tr><th scope=row>HLC_CEL_c21_R1</th><td>-0.009257522</td><td>0.01228551  </td></tr>\n",
       "\t<tr><th scope=row>HLC_CEL_c22_R1</th><td>-0.009736728</td><td>0.01171224  </td></tr>\n",
       "\t<tr><th scope=row>HLC_CEL_c23_R1</th><td>-0.009253357</td><td>0.01252898  </td></tr>\n",
       "\t<tr><th scope=row>HLC_CEL_c24_R1</th><td>-0.009757720</td><td>0.01326092  </td></tr>\n",
       "\t<tr><th scope=row>HLC_CEL_c25_R1</th><td>-0.008837851</td><td>0.01254811  </td></tr>\n",
       "\t<tr><th scope=row>HLC_CEL_c26_R1</th><td>-0.011005567</td><td>0.01570985  </td></tr>\n",
       "\t<tr><th scope=row>HLC_CEL_c27_R1</th><td>-0.010539097</td><td>0.01168079  </td></tr>\n",
       "\t<tr><th scope=row>HLC_CEL_c28_R1</th><td>-0.010538448</td><td>0.01220312  </td></tr>\n",
       "\t<tr><th scope=row>HLC_CEL_c29_R1</th><td>-0.009726569</td><td>0.01190534  </td></tr>\n",
       "\t<tr><th scope=row>HLC_CEL_c3_R1</th><td>-0.010224380</td><td>0.01281236  </td></tr>\n",
       "\t<tr><th scope=row>HLC_CEL_c30_R1</th><td>-0.010915311</td><td>0.01062857  </td></tr>\n",
       "\t<tr><th scope=row>HLC_CEL_c31_R1</th><td>-0.009902559</td><td>0.01240677  </td></tr>\n",
       "\t<tr><th scope=row>HLC_CEL_c32_R1</th><td>-0.010709728</td><td>0.01279150  </td></tr>\n",
       "\t<tr><th scope=row>HLC_CEL_c33_R1</th><td>-0.009746920</td><td>0.01109846  </td></tr>\n",
       "\t<tr><th scope=row>HLC_CEL_c34_R1</th><td>-0.010138817</td><td>0.01236402  </td></tr>\n",
       "\t<tr><th scope=row>HLC_CEL_c35_R1</th><td>-0.008946796</td><td>0.01283903  </td></tr>\n",
       "\t<tr><th scope=row>HLC_CEL_c36_R1</th><td>-0.009679406</td><td>0.01123142  </td></tr>\n",
       "\t<tr><th scope=row>HLC_CEL_c37_R1</th><td>-0.010798090</td><td>0.01289147  </td></tr>\n",
       "\t<tr><th scope=row>HLC_CEL_c38_R1</th><td>-0.011162085</td><td>0.01086918  </td></tr>\n",
       "\t<tr><th scope=row>HLC_CEL_c39_R1</th><td>-0.009960912</td><td>0.01083680  </td></tr>\n",
       "\t<tr><th scope=row>HLC_CEL_c4_R1</th><td>-0.009748092</td><td>0.01459519  </td></tr>\n",
       "\t<tr><th scope=row>HLC_CEL_c40_R1</th><td>-0.010051592</td><td>0.01228172  </td></tr>\n",
       "\t<tr><th scope=row>HLC_CEL_c41_R1</th><td>-0.009763059</td><td>0.01329729  </td></tr>\n",
       "\t<tr><th scope=row>HLC_CEL_c42_R1</th><td>-0.010497935</td><td>0.01207914  </td></tr>\n",
       "\t<tr><th scope=row>HLC_CEL_c43_R1</th><td>-0.009500043</td><td>0.01274106  </td></tr>\n",
       "\t<tr><th scope=row>HLC_CEL_c44_R1</th><td>-0.009441179</td><td>0.01079352  </td></tr>\n",
       "\t<tr><th scope=row>HLC_CEL_c45_R1</th><td>-0.011373686</td><td>0.01234807  </td></tr>\n",
       "\t<tr><th scope=row>HLC_CEL_c46_R1</th><td>-0.009443363</td><td>0.01506945  </td></tr>\n",
       "\t<tr><th scope=row>HLC_CEL_c47_R1</th><td>-0.010126757</td><td>0.01322593  </td></tr>\n",
       "\t<tr><th scope=row>HLC_CEL_c48_R1</th><td>-0.012171819</td><td>0.01439740  </td></tr>\n",
       "\t<tr><th scope=row>HLC_CEL_c49_R1</th><td>-0.010145757</td><td>0.01245922  </td></tr>\n",
       "\t<tr><th scope=row>HLC_CEL_c5_R1</th><td>-0.009471804</td><td>0.01113329  </td></tr>\n",
       "\t<tr><th scope=row>HLC_CEL_c50_R1</th><td>-0.009910547</td><td>0.01470686  </td></tr>\n",
       "\t<tr><th scope=row>HLC_CEL_c51_R1</th><td>-0.009494736</td><td>0.01281678  </td></tr>\n",
       "\t<tr><th scope=row>HLC_CEL_c52_R1</th><td>-0.010127659</td><td>0.01179243  </td></tr>\n",
       "\t<tr><th scope=row>HLC_CEL_c53_R1</th><td>-0.009763811</td><td>0.01229283  </td></tr>\n",
       "\t<tr><th scope=row>HLC_CEL_c54_R1</th><td>-0.009563751</td><td>0.01169962  </td></tr>\n",
       "\t<tr><th scope=row>HLC_CEL_c55_R1</th><td>-0.009846565</td><td>0.01597601  </td></tr>\n",
       "</tbody>\n",
       "</table>\n"
      ],
      "text/latex": [
       "\\begin{tabular}{r|ll}\n",
       "  & min & max\\\\\n",
       "\\hline\n",
       "\tHLC\\_CEL\\_c1\\_R1 & -0.011228362 & 0.01401838  \\\\\n",
       "\tHLC\\_CEL\\_c10\\_R1 & -0.008951985 & 0.01302259  \\\\\n",
       "\tHLC\\_CEL\\_c11\\_R1 & -0.009011605 & 0.01198919  \\\\\n",
       "\tHLC\\_CEL\\_c13\\_R1 & -0.009993123 & 0.01320349  \\\\\n",
       "\tHLC\\_CEL\\_c14\\_R1 & -0.009177081 & 0.01355173  \\\\\n",
       "\tHLC\\_CEL\\_c15\\_R1 & -0.010156473 & 0.01328417  \\\\\n",
       "\tHLC\\_CEL\\_c16\\_R1 & -0.009092201 & 0.01365715  \\\\\n",
       "\tHLC\\_CEL\\_c17\\_R1 & -0.010545117 & 0.01147354  \\\\\n",
       "\tHLC\\_CEL\\_c18\\_R1 & -0.009402021 & 0.01351065  \\\\\n",
       "\tHLC\\_CEL\\_c19\\_R1 & -0.010175214 & 0.01339088  \\\\\n",
       "\tHLC\\_CEL\\_c2\\_R1 & -0.009707936 & 0.01352899  \\\\\n",
       "\tHLC\\_CEL\\_c20\\_R1 & -0.011543796 & 0.01104114  \\\\\n",
       "\tHLC\\_CEL\\_c21\\_R1 & -0.009257522 & 0.01228551  \\\\\n",
       "\tHLC\\_CEL\\_c22\\_R1 & -0.009736728 & 0.01171224  \\\\\n",
       "\tHLC\\_CEL\\_c23\\_R1 & -0.009253357 & 0.01252898  \\\\\n",
       "\tHLC\\_CEL\\_c24\\_R1 & -0.009757720 & 0.01326092  \\\\\n",
       "\tHLC\\_CEL\\_c25\\_R1 & -0.008837851 & 0.01254811  \\\\\n",
       "\tHLC\\_CEL\\_c26\\_R1 & -0.011005567 & 0.01570985  \\\\\n",
       "\tHLC\\_CEL\\_c27\\_R1 & -0.010539097 & 0.01168079  \\\\\n",
       "\tHLC\\_CEL\\_c28\\_R1 & -0.010538448 & 0.01220312  \\\\\n",
       "\tHLC\\_CEL\\_c29\\_R1 & -0.009726569 & 0.01190534  \\\\\n",
       "\tHLC\\_CEL\\_c3\\_R1 & -0.010224380 & 0.01281236  \\\\\n",
       "\tHLC\\_CEL\\_c30\\_R1 & -0.010915311 & 0.01062857  \\\\\n",
       "\tHLC\\_CEL\\_c31\\_R1 & -0.009902559 & 0.01240677  \\\\\n",
       "\tHLC\\_CEL\\_c32\\_R1 & -0.010709728 & 0.01279150  \\\\\n",
       "\tHLC\\_CEL\\_c33\\_R1 & -0.009746920 & 0.01109846  \\\\\n",
       "\tHLC\\_CEL\\_c34\\_R1 & -0.010138817 & 0.01236402  \\\\\n",
       "\tHLC\\_CEL\\_c35\\_R1 & -0.008946796 & 0.01283903  \\\\\n",
       "\tHLC\\_CEL\\_c36\\_R1 & -0.009679406 & 0.01123142  \\\\\n",
       "\tHLC\\_CEL\\_c37\\_R1 & -0.010798090 & 0.01289147  \\\\\n",
       "\tHLC\\_CEL\\_c38\\_R1 & -0.011162085 & 0.01086918  \\\\\n",
       "\tHLC\\_CEL\\_c39\\_R1 & -0.009960912 & 0.01083680  \\\\\n",
       "\tHLC\\_CEL\\_c4\\_R1 & -0.009748092 & 0.01459519  \\\\\n",
       "\tHLC\\_CEL\\_c40\\_R1 & -0.010051592 & 0.01228172  \\\\\n",
       "\tHLC\\_CEL\\_c41\\_R1 & -0.009763059 & 0.01329729  \\\\\n",
       "\tHLC\\_CEL\\_c42\\_R1 & -0.010497935 & 0.01207914  \\\\\n",
       "\tHLC\\_CEL\\_c43\\_R1 & -0.009500043 & 0.01274106  \\\\\n",
       "\tHLC\\_CEL\\_c44\\_R1 & -0.009441179 & 0.01079352  \\\\\n",
       "\tHLC\\_CEL\\_c45\\_R1 & -0.011373686 & 0.01234807  \\\\\n",
       "\tHLC\\_CEL\\_c46\\_R1 & -0.009443363 & 0.01506945  \\\\\n",
       "\tHLC\\_CEL\\_c47\\_R1 & -0.010126757 & 0.01322593  \\\\\n",
       "\tHLC\\_CEL\\_c48\\_R1 & -0.012171819 & 0.01439740  \\\\\n",
       "\tHLC\\_CEL\\_c49\\_R1 & -0.010145757 & 0.01245922  \\\\\n",
       "\tHLC\\_CEL\\_c5\\_R1 & -0.009471804 & 0.01113329  \\\\\n",
       "\tHLC\\_CEL\\_c50\\_R1 & -0.009910547 & 0.01470686  \\\\\n",
       "\tHLC\\_CEL\\_c51\\_R1 & -0.009494736 & 0.01281678  \\\\\n",
       "\tHLC\\_CEL\\_c52\\_R1 & -0.010127659 & 0.01179243  \\\\\n",
       "\tHLC\\_CEL\\_c53\\_R1 & -0.009763811 & 0.01229283  \\\\\n",
       "\tHLC\\_CEL\\_c54\\_R1 & -0.009563751 & 0.01169962  \\\\\n",
       "\tHLC\\_CEL\\_c55\\_R1 & -0.009846565 & 0.01597601  \\\\\n",
       "\\end{tabular}\n"
      ],
      "text/markdown": [
       "\n",
       "| <!--/--> | min | max |\n",
       "|---|---|---|\n",
       "| HLC_CEL_c1_R1 | -0.011228362 | 0.01401838   |\n",
       "| HLC_CEL_c10_R1 | -0.008951985 | 0.01302259   |\n",
       "| HLC_CEL_c11_R1 | -0.009011605 | 0.01198919   |\n",
       "| HLC_CEL_c13_R1 | -0.009993123 | 0.01320349   |\n",
       "| HLC_CEL_c14_R1 | -0.009177081 | 0.01355173   |\n",
       "| HLC_CEL_c15_R1 | -0.010156473 | 0.01328417   |\n",
       "| HLC_CEL_c16_R1 | -0.009092201 | 0.01365715   |\n",
       "| HLC_CEL_c17_R1 | -0.010545117 | 0.01147354   |\n",
       "| HLC_CEL_c18_R1 | -0.009402021 | 0.01351065   |\n",
       "| HLC_CEL_c19_R1 | -0.010175214 | 0.01339088   |\n",
       "| HLC_CEL_c2_R1 | -0.009707936 | 0.01352899   |\n",
       "| HLC_CEL_c20_R1 | -0.011543796 | 0.01104114   |\n",
       "| HLC_CEL_c21_R1 | -0.009257522 | 0.01228551   |\n",
       "| HLC_CEL_c22_R1 | -0.009736728 | 0.01171224   |\n",
       "| HLC_CEL_c23_R1 | -0.009253357 | 0.01252898   |\n",
       "| HLC_CEL_c24_R1 | -0.009757720 | 0.01326092   |\n",
       "| HLC_CEL_c25_R1 | -0.008837851 | 0.01254811   |\n",
       "| HLC_CEL_c26_R1 | -0.011005567 | 0.01570985   |\n",
       "| HLC_CEL_c27_R1 | -0.010539097 | 0.01168079   |\n",
       "| HLC_CEL_c28_R1 | -0.010538448 | 0.01220312   |\n",
       "| HLC_CEL_c29_R1 | -0.009726569 | 0.01190534   |\n",
       "| HLC_CEL_c3_R1 | -0.010224380 | 0.01281236   |\n",
       "| HLC_CEL_c30_R1 | -0.010915311 | 0.01062857   |\n",
       "| HLC_CEL_c31_R1 | -0.009902559 | 0.01240677   |\n",
       "| HLC_CEL_c32_R1 | -0.010709728 | 0.01279150   |\n",
       "| HLC_CEL_c33_R1 | -0.009746920 | 0.01109846   |\n",
       "| HLC_CEL_c34_R1 | -0.010138817 | 0.01236402   |\n",
       "| HLC_CEL_c35_R1 | -0.008946796 | 0.01283903   |\n",
       "| HLC_CEL_c36_R1 | -0.009679406 | 0.01123142   |\n",
       "| HLC_CEL_c37_R1 | -0.010798090 | 0.01289147   |\n",
       "| HLC_CEL_c38_R1 | -0.011162085 | 0.01086918   |\n",
       "| HLC_CEL_c39_R1 | -0.009960912 | 0.01083680   |\n",
       "| HLC_CEL_c4_R1 | -0.009748092 | 0.01459519   |\n",
       "| HLC_CEL_c40_R1 | -0.010051592 | 0.01228172   |\n",
       "| HLC_CEL_c41_R1 | -0.009763059 | 0.01329729   |\n",
       "| HLC_CEL_c42_R1 | -0.010497935 | 0.01207914   |\n",
       "| HLC_CEL_c43_R1 | -0.009500043 | 0.01274106   |\n",
       "| HLC_CEL_c44_R1 | -0.009441179 | 0.01079352   |\n",
       "| HLC_CEL_c45_R1 | -0.011373686 | 0.01234807   |\n",
       "| HLC_CEL_c46_R1 | -0.009443363 | 0.01506945   |\n",
       "| HLC_CEL_c47_R1 | -0.010126757 | 0.01322593   |\n",
       "| HLC_CEL_c48_R1 | -0.012171819 | 0.01439740   |\n",
       "| HLC_CEL_c49_R1 | -0.010145757 | 0.01245922   |\n",
       "| HLC_CEL_c5_R1 | -0.009471804 | 0.01113329   |\n",
       "| HLC_CEL_c50_R1 | -0.009910547 | 0.01470686   |\n",
       "| HLC_CEL_c51_R1 | -0.009494736 | 0.01281678   |\n",
       "| HLC_CEL_c52_R1 | -0.010127659 | 0.01179243   |\n",
       "| HLC_CEL_c53_R1 | -0.009763811 | 0.01229283   |\n",
       "| HLC_CEL_c54_R1 | -0.009563751 | 0.01169962   |\n",
       "| HLC_CEL_c55_R1 | -0.009846565 | 0.01597601   |\n",
       "\n"
      ],
      "text/plain": [
       "               min          max       \n",
       "HLC_CEL_c1_R1  -0.011228362 0.01401838\n",
       "HLC_CEL_c10_R1 -0.008951985 0.01302259\n",
       "HLC_CEL_c11_R1 -0.009011605 0.01198919\n",
       "HLC_CEL_c13_R1 -0.009993123 0.01320349\n",
       "HLC_CEL_c14_R1 -0.009177081 0.01355173\n",
       "HLC_CEL_c15_R1 -0.010156473 0.01328417\n",
       "HLC_CEL_c16_R1 -0.009092201 0.01365715\n",
       "HLC_CEL_c17_R1 -0.010545117 0.01147354\n",
       "HLC_CEL_c18_R1 -0.009402021 0.01351065\n",
       "HLC_CEL_c19_R1 -0.010175214 0.01339088\n",
       "HLC_CEL_c2_R1  -0.009707936 0.01352899\n",
       "HLC_CEL_c20_R1 -0.011543796 0.01104114\n",
       "HLC_CEL_c21_R1 -0.009257522 0.01228551\n",
       "HLC_CEL_c22_R1 -0.009736728 0.01171224\n",
       "HLC_CEL_c23_R1 -0.009253357 0.01252898\n",
       "HLC_CEL_c24_R1 -0.009757720 0.01326092\n",
       "HLC_CEL_c25_R1 -0.008837851 0.01254811\n",
       "HLC_CEL_c26_R1 -0.011005567 0.01570985\n",
       "HLC_CEL_c27_R1 -0.010539097 0.01168079\n",
       "HLC_CEL_c28_R1 -0.010538448 0.01220312\n",
       "HLC_CEL_c29_R1 -0.009726569 0.01190534\n",
       "HLC_CEL_c3_R1  -0.010224380 0.01281236\n",
       "HLC_CEL_c30_R1 -0.010915311 0.01062857\n",
       "HLC_CEL_c31_R1 -0.009902559 0.01240677\n",
       "HLC_CEL_c32_R1 -0.010709728 0.01279150\n",
       "HLC_CEL_c33_R1 -0.009746920 0.01109846\n",
       "HLC_CEL_c34_R1 -0.010138817 0.01236402\n",
       "HLC_CEL_c35_R1 -0.008946796 0.01283903\n",
       "HLC_CEL_c36_R1 -0.009679406 0.01123142\n",
       "HLC_CEL_c37_R1 -0.010798090 0.01289147\n",
       "HLC_CEL_c38_R1 -0.011162085 0.01086918\n",
       "HLC_CEL_c39_R1 -0.009960912 0.01083680\n",
       "HLC_CEL_c4_R1  -0.009748092 0.01459519\n",
       "HLC_CEL_c40_R1 -0.010051592 0.01228172\n",
       "HLC_CEL_c41_R1 -0.009763059 0.01329729\n",
       "HLC_CEL_c42_R1 -0.010497935 0.01207914\n",
       "HLC_CEL_c43_R1 -0.009500043 0.01274106\n",
       "HLC_CEL_c44_R1 -0.009441179 0.01079352\n",
       "HLC_CEL_c45_R1 -0.011373686 0.01234807\n",
       "HLC_CEL_c46_R1 -0.009443363 0.01506945\n",
       "HLC_CEL_c47_R1 -0.010126757 0.01322593\n",
       "HLC_CEL_c48_R1 -0.012171819 0.01439740\n",
       "HLC_CEL_c49_R1 -0.010145757 0.01245922\n",
       "HLC_CEL_c5_R1  -0.009471804 0.01113329\n",
       "HLC_CEL_c50_R1 -0.009910547 0.01470686\n",
       "HLC_CEL_c51_R1 -0.009494736 0.01281678\n",
       "HLC_CEL_c52_R1 -0.010127659 0.01179243\n",
       "HLC_CEL_c53_R1 -0.009763811 0.01229283\n",
       "HLC_CEL_c54_R1 -0.009563751 0.01169962\n",
       "HLC_CEL_c55_R1 -0.009846565 0.01597601"
      ]
     },
     "metadata": {},
     "output_type": "display_data"
    }
   ],
   "source": [
    "df <- data.frame(min= as.numeric(lapply(full.cors, FUN= min)), max= as.numeric(lapply(full.cors, FUN= max)))\n",
    "rownames(df) <- colnames(full.y)\n",
    "df[seq(50), ]"
   ]
  },
  {
   "cell_type": "markdown",
   "metadata": {},
   "source": [
    "## Plot histogram to have a more concise view of the correlation distributions"
   ]
  },
  {
   "cell_type": "code",
   "execution_count": 16,
   "metadata": {},
   "outputs": [
    {
     "data": {
      "image/png": "[encoded data removed]",
      "text/plain": [
       "Plot with title “all correlations values on filtered datasets”"
      ]
     },
     "metadata": {},
     "output_type": "display_data"
    }
   ],
   "source": [
    "hist(as.matrix(df), main= \"all correlations values on filtered datasets\", xlab= \"correlations\")"
   ]
  },
  {
   "cell_type": "markdown",
   "metadata": {},
   "source": [
    "# Bulk gene expression <a class= \"anchor\" id= \"bulk\"></a>"
   ]
  },
  {
   "cell_type": "markdown",
   "metadata": {},
   "source": [
    "## Read the bulk expression data"
   ]
  },
  {
   "cell_type": "code",
   "execution_count": 17,
   "metadata": {},
   "outputs": [],
   "source": [
    "bulk.rna <- read.table(\"/MMCI/MS/ExpRegulation/work/data/singleCell/iPCs_Kathrin/bulkRNAseq_TPM.txt\")"
   ]
  },
  {
   "cell_type": "code",
   "execution_count": 18,
   "metadata": {},
   "outputs": [
    {
     "data": {
      "text/html": [
       "<table>\n",
       "<thead><tr><th></th><th scope=col>CEL_R1_HLC</th><th scope=col>CEL_R2_HLC</th><th scope=col>CEL_R3_HLC</th><th scope=col>CEL_R4_HLC</th><th scope=col>HAY_R1_HLC</th><th scope=col>X41_Hm09_LiHe_Ct_mRNA_K_1</th><th scope=col>X41_Hm16_LiHe_Ct_mRNA_K_1</th><th scope=col>X41_Hm25_LiHe_Ct_mRNA_K_1</th><th scope=col>X41_Hf02_LiHe_Ct_mRNA_K_1</th><th scope=col>X41_Hf03_LiHe_Ct_mRNA_K_1</th><th scope=col>X41_Hf11_LiHe_St_mRNA_K_1</th></tr></thead>\n",
       "<tbody>\n",
       "\t<tr><th scope=row>ENSG00000000003</th><td>0.123475525</td><td>0.100259254</td><td>0.132327534</td><td>0.113930060</td><td>0.084870548</td><td>0.039032603</td><td>0.027029870</td><td>0.035091285</td><td>0.019787114</td><td>0.026876734</td><td>0.035469642</td></tr>\n",
       "\t<tr><th scope=row>ENSG00000000005</th><td>0.002136035</td><td>0.001672469</td><td>0.002941051</td><td>0.001593308</td><td>0.000254386</td><td>0.000000000</td><td>0.000000000</td><td>0.000007400</td><td>0.000036900</td><td>0.000000000</td><td>0.000016500</td></tr>\n",
       "\t<tr><th scope=row>ENSG00000000419</th><td>0.032598362</td><td>0.040563411</td><td>0.030860184</td><td>0.029191241</td><td>0.057034467</td><td>0.022158255</td><td>0.018852664</td><td>0.016677832</td><td>0.012805193</td><td>0.021156048</td><td>0.027470117</td></tr>\n",
       "\t<tr><th scope=row>ENSG00000000457</th><td>0.003158375</td><td>0.002107327</td><td>0.003266896</td><td>0.002347738</td><td>0.003326685</td><td>0.005347895</td><td>0.003600676</td><td>0.003943967</td><td>0.002887764</td><td>0.004674096</td><td>0.004503143</td></tr>\n",
       "\t<tr><th scope=row>ENSG00000000460</th><td>0.001548893</td><td>0.003096830</td><td>0.001865764</td><td>0.001467252</td><td>0.004737260</td><td>0.001567921</td><td>0.002211835</td><td>0.002083310</td><td>0.005569687</td><td>0.001236622</td><td>0.001642494</td></tr>\n",
       "\t<tr><th scope=row>ENSG00000000938</th><td>0.000037700</td><td>0.000019300</td><td>0.000046000</td><td>0.000000000</td><td>0.000484569</td><td>0.000440349</td><td>0.000470467</td><td>0.000116471</td><td>0.002533583</td><td>0.000505462</td><td>0.000173824</td></tr>\n",
       "</tbody>\n",
       "</table>\n"
      ],
      "text/latex": [
       "\\begin{tabular}{r|lllllllllll}\n",
       "  & CEL\\_R1\\_HLC & CEL\\_R2\\_HLC & CEL\\_R3\\_HLC & CEL\\_R4\\_HLC & HAY\\_R1\\_HLC & X41\\_Hm09\\_LiHe\\_Ct\\_mRNA\\_K\\_1 & X41\\_Hm16\\_LiHe\\_Ct\\_mRNA\\_K\\_1 & X41\\_Hm25\\_LiHe\\_Ct\\_mRNA\\_K\\_1 & X41\\_Hf02\\_LiHe\\_Ct\\_mRNA\\_K\\_1 & X41\\_Hf03\\_LiHe\\_Ct\\_mRNA\\_K\\_1 & X41\\_Hf11\\_LiHe\\_St\\_mRNA\\_K\\_1\\\\\n",
       "\\hline\n",
       "\tENSG00000000003 & 0.123475525 & 0.100259254 & 0.132327534 & 0.113930060 & 0.084870548 & 0.039032603 & 0.027029870 & 0.035091285 & 0.019787114 & 0.026876734 & 0.035469642\\\\\n",
       "\tENSG00000000005 & 0.002136035 & 0.001672469 & 0.002941051 & 0.001593308 & 0.000254386 & 0.000000000 & 0.000000000 & 0.000007400 & 0.000036900 & 0.000000000 & 0.000016500\\\\\n",
       "\tENSG00000000419 & 0.032598362 & 0.040563411 & 0.030860184 & 0.029191241 & 0.057034467 & 0.022158255 & 0.018852664 & 0.016677832 & 0.012805193 & 0.021156048 & 0.027470117\\\\\n",
       "\tENSG00000000457 & 0.003158375 & 0.002107327 & 0.003266896 & 0.002347738 & 0.003326685 & 0.005347895 & 0.003600676 & 0.003943967 & 0.002887764 & 0.004674096 & 0.004503143\\\\\n",
       "\tENSG00000000460 & 0.001548893 & 0.003096830 & 0.001865764 & 0.001467252 & 0.004737260 & 0.001567921 & 0.002211835 & 0.002083310 & 0.005569687 & 0.001236622 & 0.001642494\\\\\n",
       "\tENSG00000000938 & 0.000037700 & 0.000019300 & 0.000046000 & 0.000000000 & 0.000484569 & 0.000440349 & 0.000470467 & 0.000116471 & 0.002533583 & 0.000505462 & 0.000173824\\\\\n",
       "\\end{tabular}\n"
      ],
      "text/markdown": [
       "\n",
       "| <!--/--> | CEL_R1_HLC | CEL_R2_HLC | CEL_R3_HLC | CEL_R4_HLC | HAY_R1_HLC | X41_Hm09_LiHe_Ct_mRNA_K_1 | X41_Hm16_LiHe_Ct_mRNA_K_1 | X41_Hm25_LiHe_Ct_mRNA_K_1 | X41_Hf02_LiHe_Ct_mRNA_K_1 | X41_Hf03_LiHe_Ct_mRNA_K_1 | X41_Hf11_LiHe_St_mRNA_K_1 |\n",
       "|---|---|---|---|---|---|---|---|---|---|---|---|\n",
       "| ENSG00000000003 | 0.123475525 | 0.100259254 | 0.132327534 | 0.113930060 | 0.084870548 | 0.039032603 | 0.027029870 | 0.035091285 | 0.019787114 | 0.026876734 | 0.035469642 |\n",
       "| ENSG00000000005 | 0.002136035 | 0.001672469 | 0.002941051 | 0.001593308 | 0.000254386 | 0.000000000 | 0.000000000 | 0.000007400 | 0.000036900 | 0.000000000 | 0.000016500 |\n",
       "| ENSG00000000419 | 0.032598362 | 0.040563411 | 0.030860184 | 0.029191241 | 0.057034467 | 0.022158255 | 0.018852664 | 0.016677832 | 0.012805193 | 0.021156048 | 0.027470117 |\n",
       "| ENSG00000000457 | 0.003158375 | 0.002107327 | 0.003266896 | 0.002347738 | 0.003326685 | 0.005347895 | 0.003600676 | 0.003943967 | 0.002887764 | 0.004674096 | 0.004503143 |\n",
       "| ENSG00000000460 | 0.001548893 | 0.003096830 | 0.001865764 | 0.001467252 | 0.004737260 | 0.001567921 | 0.002211835 | 0.002083310 | 0.005569687 | 0.001236622 | 0.001642494 |\n",
       "| ENSG00000000938 | 0.000037700 | 0.000019300 | 0.000046000 | 0.000000000 | 0.000484569 | 0.000440349 | 0.000470467 | 0.000116471 | 0.002533583 | 0.000505462 | 0.000173824 |\n",
       "\n"
      ],
      "text/plain": [
       "                CEL_R1_HLC  CEL_R2_HLC  CEL_R3_HLC  CEL_R4_HLC  HAY_R1_HLC \n",
       "ENSG00000000003 0.123475525 0.100259254 0.132327534 0.113930060 0.084870548\n",
       "ENSG00000000005 0.002136035 0.001672469 0.002941051 0.001593308 0.000254386\n",
       "ENSG00000000419 0.032598362 0.040563411 0.030860184 0.029191241 0.057034467\n",
       "ENSG00000000457 0.003158375 0.002107327 0.003266896 0.002347738 0.003326685\n",
       "ENSG00000000460 0.001548893 0.003096830 0.001865764 0.001467252 0.004737260\n",
       "ENSG00000000938 0.000037700 0.000019300 0.000046000 0.000000000 0.000484569\n",
       "                X41_Hm09_LiHe_Ct_mRNA_K_1 X41_Hm16_LiHe_Ct_mRNA_K_1\n",
       "ENSG00000000003 0.039032603               0.027029870              \n",
       "ENSG00000000005 0.000000000               0.000000000              \n",
       "ENSG00000000419 0.022158255               0.018852664              \n",
       "ENSG00000000457 0.005347895               0.003600676              \n",
       "ENSG00000000460 0.001567921               0.002211835              \n",
       "ENSG00000000938 0.000440349               0.000470467              \n",
       "                X41_Hm25_LiHe_Ct_mRNA_K_1 X41_Hf02_LiHe_Ct_mRNA_K_1\n",
       "ENSG00000000003 0.035091285               0.019787114              \n",
       "ENSG00000000005 0.000007400               0.000036900              \n",
       "ENSG00000000419 0.016677832               0.012805193              \n",
       "ENSG00000000457 0.003943967               0.002887764              \n",
       "ENSG00000000460 0.002083310               0.005569687              \n",
       "ENSG00000000938 0.000116471               0.002533583              \n",
       "                X41_Hf03_LiHe_Ct_mRNA_K_1 X41_Hf11_LiHe_St_mRNA_K_1\n",
       "ENSG00000000003 0.026876734               0.035469642              \n",
       "ENSG00000000005 0.000000000               0.000016500              \n",
       "ENSG00000000419 0.021156048               0.027470117              \n",
       "ENSG00000000457 0.004674096               0.004503143              \n",
       "ENSG00000000460 0.001236622               0.001642494              \n",
       "ENSG00000000938 0.000505462               0.000173824              "
      ]
     },
     "metadata": {},
     "output_type": "display_data"
    }
   ],
   "source": [
    "head(bulk.rna)"
   ]
  },
  {
   "cell_type": "markdown",
   "metadata": {},
   "source": [
    "## Load the feature data again"
   ]
  },
  {
   "cell_type": "code",
   "execution_count": 19,
   "metadata": {},
   "outputs": [],
   "source": [
    "load(\"../TF_promoter.RData\")"
   ]
  },
  {
   "cell_type": "markdown",
   "metadata": {},
   "source": [
    "## Match the gene names between features and the bulk expression data"
   ]
  },
  {
   "cell_type": "code",
   "execution_count": 20,
   "metadata": {},
   "outputs": [],
   "source": [
    "full.hits.bulk <- which(rownames(bulk.rna) %in% rownames(full.x))\n",
    "full.hits.x <- which(rownames(full.x) %in% rownames(bulk.rna))\n",
    "\n",
    "hits.bulk <- which(rownames(bulk.rna) %in% rownames(x))\n",
    "hits.x <- which(rownames(x) %in% rownames(bulk.rna))"
   ]
  },
  {
   "cell_type": "code",
   "execution_count": 21,
   "metadata": {},
   "outputs": [],
   "source": [
    "full.bulk <- bulk.rna[full.hits.bulk, ]\n",
    "full.x <- full.x[full.hits.x, ]\n",
    "\n",
    "bulk <- bulk.rna[hits.bulk, ]\n",
    "x <- x[hits.x, ]"
   ]
  },
  {
   "cell_type": "markdown",
   "metadata": {},
   "source": [
    "## Log-transform the bulk expressio data"
   ]
  },
  {
   "cell_type": "code",
   "execution_count": 22,
   "metadata": {},
   "outputs": [],
   "source": [
    "full.bulk <- log2(1 + full.bulk)\n",
    "bulk <- log2(1 + bulk)"
   ]
  },
  {
   "cell_type": "code",
   "execution_count": 23,
   "metadata": {},
   "outputs": [
    {
     "name": "stdout",
     "output_type": "stream",
     "text": [
      "[1] 13906   464\n",
      "[1] 13906    11\n"
     ]
    }
   ],
   "source": [
    "print(dim(x))\n",
    "print(dim(bulk))"
   ]
  },
  {
   "cell_type": "markdown",
   "metadata": {},
   "source": [
    "## Correlations on full datasets"
   ]
  },
  {
   "cell_type": "code",
   "execution_count": 24,
   "metadata": {},
   "outputs": [],
   "source": [
    "full.cors <- list()\n",
    "for(i in seq(ncol(full.bulk)))\n",
    "    full.cors[[i]] <- sapply(seq(ncol(full.x)), function(j)cor(full.x[, j], full.bulk[, i]))"
   ]
  },
  {
   "cell_type": "code",
   "execution_count": 25,
   "metadata": {},
   "outputs": [
    {
     "data": {
      "text/html": [
       "<table>\n",
       "<thead><tr><th></th><th scope=col>min</th><th scope=col>max</th></tr></thead>\n",
       "<tbody>\n",
       "\t<tr><th scope=row>CEL_R1_HLC</th><td>-0.009124966</td><td>0.01686778  </td></tr>\n",
       "\t<tr><th scope=row>CEL_R2_HLC</th><td>-0.009072017</td><td>0.01663903  </td></tr>\n",
       "\t<tr><th scope=row>CEL_R3_HLC</th><td>-0.009119249</td><td>0.01769608  </td></tr>\n",
       "\t<tr><th scope=row>CEL_R4_HLC</th><td>-0.009396537</td><td>0.01715099  </td></tr>\n",
       "\t<tr><th scope=row>HAY_R1_HLC</th><td>-0.009519480</td><td>0.01797169  </td></tr>\n",
       "\t<tr><th scope=row>X41_Hm09_LiHe_Ct_mRNA_K_1</th><td>-0.009418459</td><td>0.03343183  </td></tr>\n",
       "\t<tr><th scope=row>X41_Hm16_LiHe_Ct_mRNA_K_1</th><td>-0.009548377</td><td>0.03240701  </td></tr>\n",
       "\t<tr><th scope=row>X41_Hm25_LiHe_Ct_mRNA_K_1</th><td>-0.008405354</td><td>0.03432860  </td></tr>\n",
       "\t<tr><th scope=row>X41_Hf02_LiHe_Ct_mRNA_K_1</th><td>-0.008764283</td><td>0.02167095  </td></tr>\n",
       "\t<tr><th scope=row>X41_Hf03_LiHe_Ct_mRNA_K_1</th><td>-0.009081187</td><td>0.03184319  </td></tr>\n",
       "\t<tr><th scope=row>X41_Hf11_LiHe_St_mRNA_K_1</th><td>-0.009562269</td><td>0.03489005  </td></tr>\n",
       "</tbody>\n",
       "</table>\n"
      ],
      "text/latex": [
       "\\begin{tabular}{r|ll}\n",
       "  & min & max\\\\\n",
       "\\hline\n",
       "\tCEL\\_R1\\_HLC & -0.009124966 & 0.01686778  \\\\\n",
       "\tCEL\\_R2\\_HLC & -0.009072017 & 0.01663903  \\\\\n",
       "\tCEL\\_R3\\_HLC & -0.009119249 & 0.01769608  \\\\\n",
       "\tCEL\\_R4\\_HLC & -0.009396537 & 0.01715099  \\\\\n",
       "\tHAY\\_R1\\_HLC & -0.009519480 & 0.01797169  \\\\\n",
       "\tX41\\_Hm09\\_LiHe\\_Ct\\_mRNA\\_K\\_1 & -0.009418459 & 0.03343183  \\\\\n",
       "\tX41\\_Hm16\\_LiHe\\_Ct\\_mRNA\\_K\\_1 & -0.009548377 & 0.03240701  \\\\\n",
       "\tX41\\_Hm25\\_LiHe\\_Ct\\_mRNA\\_K\\_1 & -0.008405354 & 0.03432860  \\\\\n",
       "\tX41\\_Hf02\\_LiHe\\_Ct\\_mRNA\\_K\\_1 & -0.008764283 & 0.02167095  \\\\\n",
       "\tX41\\_Hf03\\_LiHe\\_Ct\\_mRNA\\_K\\_1 & -0.009081187 & 0.03184319  \\\\\n",
       "\tX41\\_Hf11\\_LiHe\\_St\\_mRNA\\_K\\_1 & -0.009562269 & 0.03489005  \\\\\n",
       "\\end{tabular}\n"
      ],
      "text/markdown": [
       "\n",
       "| <!--/--> | min | max |\n",
       "|---|---|---|\n",
       "| CEL_R1_HLC | -0.009124966 | 0.01686778   |\n",
       "| CEL_R2_HLC | -0.009072017 | 0.01663903   |\n",
       "| CEL_R3_HLC | -0.009119249 | 0.01769608   |\n",
       "| CEL_R4_HLC | -0.009396537 | 0.01715099   |\n",
       "| HAY_R1_HLC | -0.009519480 | 0.01797169   |\n",
       "| X41_Hm09_LiHe_Ct_mRNA_K_1 | -0.009418459 | 0.03343183   |\n",
       "| X41_Hm16_LiHe_Ct_mRNA_K_1 | -0.009548377 | 0.03240701   |\n",
       "| X41_Hm25_LiHe_Ct_mRNA_K_1 | -0.008405354 | 0.03432860   |\n",
       "| X41_Hf02_LiHe_Ct_mRNA_K_1 | -0.008764283 | 0.02167095   |\n",
       "| X41_Hf03_LiHe_Ct_mRNA_K_1 | -0.009081187 | 0.03184319   |\n",
       "| X41_Hf11_LiHe_St_mRNA_K_1 | -0.009562269 | 0.03489005   |\n",
       "\n"
      ],
      "text/plain": [
       "                          min          max       \n",
       "CEL_R1_HLC                -0.009124966 0.01686778\n",
       "CEL_R2_HLC                -0.009072017 0.01663903\n",
       "CEL_R3_HLC                -0.009119249 0.01769608\n",
       "CEL_R4_HLC                -0.009396537 0.01715099\n",
       "HAY_R1_HLC                -0.009519480 0.01797169\n",
       "X41_Hm09_LiHe_Ct_mRNA_K_1 -0.009418459 0.03343183\n",
       "X41_Hm16_LiHe_Ct_mRNA_K_1 -0.009548377 0.03240701\n",
       "X41_Hm25_LiHe_Ct_mRNA_K_1 -0.008405354 0.03432860\n",
       "X41_Hf02_LiHe_Ct_mRNA_K_1 -0.008764283 0.02167095\n",
       "X41_Hf03_LiHe_Ct_mRNA_K_1 -0.009081187 0.03184319\n",
       "X41_Hf11_LiHe_St_mRNA_K_1 -0.009562269 0.03489005"
      ]
     },
     "metadata": {},
     "output_type": "display_data"
    }
   ],
   "source": [
    "df.full <- data.frame(min= as.numeric(lapply(full.cors, FUN= min)), max= as.numeric(lapply(full.cors, FUN= max)))\n",
    "rownames(df.full) <- colnames(bulk.rna)\n",
    "df.full"
   ]
  },
  {
   "cell_type": "markdown",
   "metadata": {},
   "source": [
    "## Correlations on filtered datasets"
   ]
  },
  {
   "cell_type": "code",
   "execution_count": 26,
   "metadata": {},
   "outputs": [],
   "source": [
    "cors <- list()\n",
    "for(i in seq(ncol(bulk)))\n",
    "    cors[[i]] <- sapply(seq(ncol(x)), function(j)cor(x[, j], bulk[, i]))"
   ]
  },
  {
   "cell_type": "code",
   "execution_count": 27,
   "metadata": {},
   "outputs": [
    {
     "data": {
      "text/html": [
       "<table>\n",
       "<thead><tr><th></th><th scope=col>min</th><th scope=col>max</th></tr></thead>\n",
       "<tbody>\n",
       "\t<tr><th scope=row>CEL_R1_HLC</th><td>-0.06397521</td><td>0.07354269 </td></tr>\n",
       "\t<tr><th scope=row>CEL_R2_HLC</th><td>-0.07235455</td><td>0.08968333 </td></tr>\n",
       "\t<tr><th scope=row>CEL_R3_HLC</th><td>-0.06083584</td><td>0.07146743 </td></tr>\n",
       "\t<tr><th scope=row>CEL_R4_HLC</th><td>-0.05874689</td><td>0.06877577 </td></tr>\n",
       "\t<tr><th scope=row>HAY_R1_HLC</th><td>-0.07194850</td><td>0.09422688 </td></tr>\n",
       "\t<tr><th scope=row>X41_Hm09_LiHe_Ct_mRNA_K_1</th><td>-0.02956648</td><td>0.06238665 </td></tr>\n",
       "\t<tr><th scope=row>X41_Hm16_LiHe_Ct_mRNA_K_1</th><td>-0.02716145</td><td>0.06061233 </td></tr>\n",
       "\t<tr><th scope=row>X41_Hm25_LiHe_Ct_mRNA_K_1</th><td>-0.02515731</td><td>0.06255543 </td></tr>\n",
       "\t<tr><th scope=row>X41_Hf02_LiHe_Ct_mRNA_K_1</th><td>-0.02672407</td><td>0.04793087 </td></tr>\n",
       "\t<tr><th scope=row>X41_Hf03_LiHe_Ct_mRNA_K_1</th><td>-0.01909416</td><td>0.05811431 </td></tr>\n",
       "\t<tr><th scope=row>X41_Hf11_LiHe_St_mRNA_K_1</th><td>-0.02389274</td><td>0.06409622 </td></tr>\n",
       "</tbody>\n",
       "</table>\n"
      ],
      "text/latex": [
       "\\begin{tabular}{r|ll}\n",
       "  & min & max\\\\\n",
       "\\hline\n",
       "\tCEL\\_R1\\_HLC & -0.06397521 & 0.07354269 \\\\\n",
       "\tCEL\\_R2\\_HLC & -0.07235455 & 0.08968333 \\\\\n",
       "\tCEL\\_R3\\_HLC & -0.06083584 & 0.07146743 \\\\\n",
       "\tCEL\\_R4\\_HLC & -0.05874689 & 0.06877577 \\\\\n",
       "\tHAY\\_R1\\_HLC & -0.07194850 & 0.09422688 \\\\\n",
       "\tX41\\_Hm09\\_LiHe\\_Ct\\_mRNA\\_K\\_1 & -0.02956648 & 0.06238665 \\\\\n",
       "\tX41\\_Hm16\\_LiHe\\_Ct\\_mRNA\\_K\\_1 & -0.02716145 & 0.06061233 \\\\\n",
       "\tX41\\_Hm25\\_LiHe\\_Ct\\_mRNA\\_K\\_1 & -0.02515731 & 0.06255543 \\\\\n",
       "\tX41\\_Hf02\\_LiHe\\_Ct\\_mRNA\\_K\\_1 & -0.02672407 & 0.04793087 \\\\\n",
       "\tX41\\_Hf03\\_LiHe\\_Ct\\_mRNA\\_K\\_1 & -0.01909416 & 0.05811431 \\\\\n",
       "\tX41\\_Hf11\\_LiHe\\_St\\_mRNA\\_K\\_1 & -0.02389274 & 0.06409622 \\\\\n",
       "\\end{tabular}\n"
      ],
      "text/markdown": [
       "\n",
       "| <!--/--> | min | max |\n",
       "|---|---|---|\n",
       "| CEL_R1_HLC | -0.06397521 | 0.07354269  |\n",
       "| CEL_R2_HLC | -0.07235455 | 0.08968333  |\n",
       "| CEL_R3_HLC | -0.06083584 | 0.07146743  |\n",
       "| CEL_R4_HLC | -0.05874689 | 0.06877577  |\n",
       "| HAY_R1_HLC | -0.07194850 | 0.09422688  |\n",
       "| X41_Hm09_LiHe_Ct_mRNA_K_1 | -0.02956648 | 0.06238665  |\n",
       "| X41_Hm16_LiHe_Ct_mRNA_K_1 | -0.02716145 | 0.06061233  |\n",
       "| X41_Hm25_LiHe_Ct_mRNA_K_1 | -0.02515731 | 0.06255543  |\n",
       "| X41_Hf02_LiHe_Ct_mRNA_K_1 | -0.02672407 | 0.04793087  |\n",
       "| X41_Hf03_LiHe_Ct_mRNA_K_1 | -0.01909416 | 0.05811431  |\n",
       "| X41_Hf11_LiHe_St_mRNA_K_1 | -0.02389274 | 0.06409622  |\n",
       "\n"
      ],
      "text/plain": [
       "                          min         max       \n",
       "CEL_R1_HLC                -0.06397521 0.07354269\n",
       "CEL_R2_HLC                -0.07235455 0.08968333\n",
       "CEL_R3_HLC                -0.06083584 0.07146743\n",
       "CEL_R4_HLC                -0.05874689 0.06877577\n",
       "HAY_R1_HLC                -0.07194850 0.09422688\n",
       "X41_Hm09_LiHe_Ct_mRNA_K_1 -0.02956648 0.06238665\n",
       "X41_Hm16_LiHe_Ct_mRNA_K_1 -0.02716145 0.06061233\n",
       "X41_Hm25_LiHe_Ct_mRNA_K_1 -0.02515731 0.06255543\n",
       "X41_Hf02_LiHe_Ct_mRNA_K_1 -0.02672407 0.04793087\n",
       "X41_Hf03_LiHe_Ct_mRNA_K_1 -0.01909416 0.05811431\n",
       "X41_Hf11_LiHe_St_mRNA_K_1 -0.02389274 0.06409622"
      ]
     },
     "metadata": {},
     "output_type": "display_data"
    }
   ],
   "source": [
    "df <- data.frame(min= as.numeric(lapply(cors, FUN= min)), max= as.numeric(lapply(cors, FUN= max)))\n",
    "rownames(df) <- colnames(bulk.rna)\n",
    "df"
   ]
  },
  {
   "cell_type": "markdown",
   "metadata": {},
   "source": [
    "# Conclusion\n",
    "* The aim was to look for linear relationship between the TF binding affinity scores as features and single cell/bulk measurements of gene expression as response by computing the correlation between the two.\n",
    "* The unfiltered (full) and filtered datasets were consideted to examine such associasions. However, none showed any descent correlation.\n",
    "* There was not much to expect from the single cell data due to the inherent noise of low-coverage sequencing, however the bulk data should have had better results.\n",
    "* It's worth noting that these static features are not perfect representitves of the transcription dynamics, therefore one should not expect good correlations, and therefore training a statistical model would have a better saying on the contributions of TFs in gene expression. The tree-guided MTL and neural networks trained on the single cells did not show any satisfactory results. However, I'll be testing neural networks on the bulk gene expression data to rule out any doubt with this regard."
   ]
  }
 ],
 "metadata": {
  "kernelspec": {
   "display_name": "R",
   "language": "R",
   "name": "ir"
  },
  "language_info": {
   "codemirror_mode": "r",
   "file_extension": ".r",
   "mimetype": "text/x-r-source",
   "name": "R",
   "pygments_lexer": "r",
   "version": "3.4.0"
  }
 },
 "nbformat": 4,
 "nbformat_minor": 2
}
