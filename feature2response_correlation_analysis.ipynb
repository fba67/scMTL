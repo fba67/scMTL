{
 "cells": [
  {
   "cell_type": "markdown",
   "metadata": {},
   "source": [
    "# Analyze the correlation between features and response\n",
    "Since the trained statistical models did not meet our expectatoins regarding establishing a meaningful association between the TF affinity scores as features and gene expression as response, we decided to take a deeper look at the link(s) between these two quantities."
   ]
  },
  {
   "cell_type": "markdown",
   "metadata": {},
   "source": [
    "## Load the feature data"
   ]
  },
  {
   "cell_type": "code",
   "execution_count": 1,
   "metadata": {},
   "outputs": [],
   "source": [
    "# x <- read.csv(\"scMTL_StemNet_imputed_TPM_feature_reduced_var.txt\")\n",
    "# rownames(x) <- x$X\n",
    "# x <- x[, -1]\n",
    "# dim(x)\n",
    "# [1] 13906   452\n",
    "# x <- log2(1 + x)\n",
    "\n",
    "\n",
    "# full.x <- read.table(\"/MMCI/MS/EpiregDeep2/work/Tools/TEPIC_GS/hg38_Static/2kb/Static_hg38_PromFeatures_2kb_Gene_View.txt\", header= T)\n",
    "# dim(full.x)\n",
    "# [1] 58082   727\n",
    "# rownames(full.x) <- full.x$gene_id\n",
    "# full.x <- full.x[, -1]\n",
    "# full.x <- log2(1 + full.x)\n",
    "\n",
    "# bulk.rna <- read.table(\"/MMCI/MS/ExpRegulation/work/data/singleCell/iPCs_Kathrin/bulkRNAseq_TPM.txt\")\n",
    "# hits.fullx <- which(rownames(full.x) %in% rownames(bulk.rna))\n",
    "## full.x <- full.x[hits.fullx]\n",
    "# save(full.x, x, file= \"TF_promoter2.RData\")"
   ]
  },
  {
   "cell_type": "code",
   "execution_count": 2,
   "metadata": {},
   "outputs": [],
   "source": [
    "load(\"../TF_promoter.RData\")"
   ]
  },
  {
   "cell_type": "code",
   "execution_count": 3,
   "metadata": {},
   "outputs": [],
   "source": [
    "rm(list= ls())\n",
    "load(\"../TF_promoter2.RData\")"
   ]
  },
  {
   "cell_type": "code",
   "execution_count": 4,
   "metadata": {},
   "outputs": [
    {
     "name": "stdout",
     "output_type": "stream",
     "text": [
      "[1] \"full.x\" \"x\"     \n"
     ]
    }
   ],
   "source": [
    "print(ls())"
   ]
  },
  {
   "cell_type": "markdown",
   "metadata": {},
   "source": [
    "The **full.x** variable contains the unfiltered samples (genes), wherease the **x** has only those that survived the gene expression variance filtering explained in [iPCs data and tree-guided MTL results notebook](https://github.com/fba67/scMTL/blob/master/sc_iPCs.ipynb). I decided to include the full gene set as well to assure that this lack of association we've observed between the features and responses wasn't due to any other preprocessing steps."
   ]
  },
  {
   "cell_type": "code",
   "execution_count": 5,
   "metadata": {},
   "outputs": [
    {
     "name": "stdout",
     "output_type": "stream",
     "text": [
      "[1] 58082   726\n",
      "[1] 13906   452\n"
     ]
    }
   ],
   "source": [
    "print(dim(full.x))\n",
    "print(dim(x))"
   ]
  },
  {
   "cell_type": "markdown",
   "metadata": {},
   "source": [
    "## Print the range of data\n",
    "The features data are log-transformed before-hand when dumped into the RData file."
   ]
  },
  {
   "cell_type": "code",
   "execution_count": 6,
   "metadata": {},
   "outputs": [
    {
     "name": "stdout",
     "output_type": "stream",
     "text": [
      "[1] 0.0000000 0.7455161\n",
      "[1] 0.000000 1.143897\n"
     ]
    }
   ],
   "source": [
    "print(range(x))\n",
    "print(range(full.x))"
   ]
  },
  {
   "cell_type": "markdown",
   "metadata": {},
   "source": [
    "## Types of gene expression measurements (response)\n",
    "We had initiated the problem by approaching the single cell gene expression as the responses. However, we decided to look into the bulk RNA-seq available for the same cell types provided by Kathrin. Here, we're goining to investigate their correlation with features for both single cell and bulk measurements of gene expression.\n",
    "\n",
    "* [Single cell gene expression](#sc)\n",
    "* [Bulk gene expression](#bulk)"
   ]
  },
  {
   "cell_type": "markdown",
   "metadata": {},
   "source": [
    "# Single cell gene expression <a class= \"anchor\" id= \"SC\"></a>"
   ]
  },
  {
   "cell_type": "markdown",
   "metadata": {},
   "source": [
    "## Read the response (imputed sc gene expression)"
   ]
  },
  {
   "cell_type": "code",
   "execution_count": 7,
   "metadata": {},
   "outputs": [],
   "source": [
    "#full.y <- read.csv(\"/MMCI/MS/ExpRegulation/work/data/singleCell/iPCs_Kathrin/scImpute/StemNet_readCounts_Kclust2scimpute_count.csv\")\n",
    "full.y <- read.csv(\"/MMCI/MS/ExpRegulation/work/data/singleCell/HepG2/G_MTL/monocle/StemNet_imputed_TPM_converted.csv\")\n",
    "y <- read.csv(\"../scMTL_StemNet_imputed_TPM_response_reduced_var.txt\")\n",
    "\n",
    "rownames(full.y) <- full.y$X\n",
    "full.y <- full.y[, -1]\n",
    "\n",
    "rownames(y) <- y$X\n",
    "y <- y[, -1]"
   ]
  },
  {
   "cell_type": "code",
   "execution_count": 8,
   "metadata": {},
   "outputs": [
    {
     "name": "stdout",
     "output_type": "stream",
     "text": [
      "[1] 56757   657\n",
      "[1] 13906   640\n"
     ]
    }
   ],
   "source": [
    "print(dim(full.y))\n",
    "print(dim(y))"
   ]
  },
  {
   "cell_type": "markdown",
   "metadata": {},
   "source": [
    "## Find the overlapping genes (full)"
   ]
  },
  {
   "cell_type": "code",
   "execution_count": 9,
   "metadata": {},
   "outputs": [],
   "source": [
    "full.data <- merge(full.x, full.y, by= \"row.names\")\n",
    "data <- merge(x, y, by= \"row.names\")"
   ]
  },
  {
   "cell_type": "code",
   "execution_count": 10,
   "metadata": {},
   "outputs": [],
   "source": [
    "rownames(full.data) <- full.data$Row.names\n",
    "full.data <- full.data[, -1]\n",
    "\n",
    "rownames(data) <- data$Row.names\n",
    "data <- data[, -1]"
   ]
  },
  {
   "cell_type": "code",
   "execution_count": 11,
   "metadata": {},
   "outputs": [
    {
     "data": {
      "text/html": [
       "<ol class=list-inline>\n",
       "\t<li>56666</li>\n",
       "\t<li>1383</li>\n",
       "</ol>\n"
      ],
      "text/latex": [
       "\\begin{enumerate*}\n",
       "\\item 56666\n",
       "\\item 1383\n",
       "\\end{enumerate*}\n"
      ],
      "text/markdown": [
       "1. 56666\n",
       "2. 1383\n",
       "\n",
       "\n"
      ],
      "text/plain": [
       "[1] 56666  1383"
      ]
     },
     "metadata": {},
     "output_type": "display_data"
    },
    {
     "data": {
      "text/html": [
       "<ol class=list-inline>\n",
       "\t<li>13906</li>\n",
       "\t<li>1092</li>\n",
       "</ol>\n"
      ],
      "text/latex": [
       "\\begin{enumerate*}\n",
       "\\item 13906\n",
       "\\item 1092\n",
       "\\end{enumerate*}\n"
      ],
      "text/markdown": [
       "1. 13906\n",
       "2. 1092\n",
       "\n",
       "\n"
      ],
      "text/plain": [
       "[1] 13906  1092"
      ]
     },
     "metadata": {},
     "output_type": "display_data"
    }
   ],
   "source": [
    "dim(full.data)\n",
    "dim(data)"
   ]
  },
  {
   "cell_type": "markdown",
   "metadata": {},
   "source": [
    "## Adjust the data variables based on the overlapping genes found above\n",
    "split the merged dataset into the x and y variables"
   ]
  },
  {
   "cell_type": "code",
   "execution_count": 12,
   "metadata": {},
   "outputs": [],
   "source": [
    "full.x <- full.data[, seq(ncol(full.x))]\n",
    "full.y <- full.data[, seq(1 + ncol(full.x), ncol(full.data))]"
   ]
  },
  {
   "cell_type": "code",
   "execution_count": 13,
   "metadata": {},
   "outputs": [
    {
     "data": {
      "text/html": [
       "TRUE"
      ],
      "text/latex": [
       "TRUE"
      ],
      "text/markdown": [
       "TRUE"
      ],
      "text/plain": [
       "[1] TRUE"
      ]
     },
     "metadata": {},
     "output_type": "display_data"
    }
   ],
   "source": [
    "all.equal(rownames(full.x), rownames(full.y))"
   ]
  },
  {
   "cell_type": "code",
   "execution_count": 14,
   "metadata": {},
   "outputs": [],
   "source": [
    "x <- data[, seq(ncol(x))]\n",
    "y <- data[, seq(1 + ncol(x), ncol(data))]"
   ]
  },
  {
   "cell_type": "code",
   "execution_count": 15,
   "metadata": {},
   "outputs": [
    {
     "data": {
      "text/html": [
       "TRUE"
      ],
      "text/latex": [
       "TRUE"
      ],
      "text/markdown": [
       "TRUE"
      ],
      "text/plain": [
       "[1] TRUE"
      ]
     },
     "metadata": {},
     "output_type": "display_data"
    }
   ],
   "source": [
    "all.equal(rownames(x), rownames(y))"
   ]
  },
  {
   "cell_type": "code",
   "execution_count": 16,
   "metadata": {},
   "outputs": [
    {
     "data": {
      "text/html": [
       "<ol class=list-inline>\n",
       "\t<li>56666</li>\n",
       "\t<li>726</li>\n",
       "</ol>\n"
      ],
      "text/latex": [
       "\\begin{enumerate*}\n",
       "\\item 56666\n",
       "\\item 726\n",
       "\\end{enumerate*}\n"
      ],
      "text/markdown": [
       "1. 56666\n",
       "2. 726\n",
       "\n",
       "\n"
      ],
      "text/plain": [
       "[1] 56666   726"
      ]
     },
     "metadata": {},
     "output_type": "display_data"
    },
    {
     "data": {
      "text/html": [
       "<ol class=list-inline>\n",
       "\t<li>56666</li>\n",
       "\t<li>657</li>\n",
       "</ol>\n"
      ],
      "text/latex": [
       "\\begin{enumerate*}\n",
       "\\item 56666\n",
       "\\item 657\n",
       "\\end{enumerate*}\n"
      ],
      "text/markdown": [
       "1. 56666\n",
       "2. 657\n",
       "\n",
       "\n"
      ],
      "text/plain": [
       "[1] 56666   657"
      ]
     },
     "metadata": {},
     "output_type": "display_data"
    },
    {
     "data": {
      "text/html": [
       "<ol class=list-inline>\n",
       "\t<li>13906</li>\n",
       "\t<li>452</li>\n",
       "</ol>\n"
      ],
      "text/latex": [
       "\\begin{enumerate*}\n",
       "\\item 13906\n",
       "\\item 452\n",
       "\\end{enumerate*}\n"
      ],
      "text/markdown": [
       "1. 13906\n",
       "2. 452\n",
       "\n",
       "\n"
      ],
      "text/plain": [
       "[1] 13906   452"
      ]
     },
     "metadata": {},
     "output_type": "display_data"
    },
    {
     "data": {
      "text/html": [
       "<ol class=list-inline>\n",
       "\t<li>13906</li>\n",
       "\t<li>640</li>\n",
       "</ol>\n"
      ],
      "text/latex": [
       "\\begin{enumerate*}\n",
       "\\item 13906\n",
       "\\item 640\n",
       "\\end{enumerate*}\n"
      ],
      "text/markdown": [
       "1. 13906\n",
       "2. 640\n",
       "\n",
       "\n"
      ],
      "text/plain": [
       "[1] 13906   640"
      ]
     },
     "metadata": {},
     "output_type": "display_data"
    }
   ],
   "source": [
    "dim(full.x)\n",
    "dim(full.y)\n",
    "dim(x)\n",
    "dim(y)"
   ]
  },
  {
   "cell_type": "code",
   "execution_count": 17,
   "metadata": {},
   "outputs": [
    {
     "data": {
      "text/html": [
       "<table>\n",
       "<thead><tr><th></th><th scope=col>AHR..ARNT</th><th scope=col>DDIT3..CEBPA</th><th scope=col>MAX..MYC</th><th scope=col>PPARG..RXRA</th><th scope=col>RXRA..VDR</th></tr></thead>\n",
       "<tbody>\n",
       "\t<tr><th scope=row>ENSG00000000003</th><td>0.0006853000</td><td>0.0025808288</td><td>2.020445e-05</td><td>6.041068e-05</td><td>8.409835e-05</td></tr>\n",
       "\t<tr><th scope=row>ENSG00000000005</th><td>0.0006148164</td><td>0.0002469801</td><td>3.310350e-06</td><td>1.020107e-05</td><td>2.971438e-06</td></tr>\n",
       "\t<tr><th scope=row>ENSG00000000419</th><td>0.0394694687</td><td>0.0013199393</td><td>9.261950e-04</td><td>9.143963e-04</td><td>3.916165e-05</td></tr>\n",
       "\t<tr><th scope=row>ENSG00000000457</th><td>0.0038627042</td><td>0.0001221161</td><td>6.589233e-05</td><td>3.095366e-03</td><td>3.311621e-05</td></tr>\n",
       "\t<tr><th scope=row>ENSG00000000460</th><td>0.0000000000</td><td>0.0000000000</td><td>0.000000e+00</td><td>0.000000e+00</td><td>0.000000e+00</td></tr>\n",
       "</tbody>\n",
       "</table>\n"
      ],
      "text/latex": [
       "\\begin{tabular}{r|lllll}\n",
       "  & AHR..ARNT & DDIT3..CEBPA & MAX..MYC & PPARG..RXRA & RXRA..VDR\\\\\n",
       "\\hline\n",
       "\tENSG00000000003 & 0.0006853000 & 0.0025808288 & 2.020445e-05 & 6.041068e-05 & 8.409835e-05\\\\\n",
       "\tENSG00000000005 & 0.0006148164 & 0.0002469801 & 3.310350e-06 & 1.020107e-05 & 2.971438e-06\\\\\n",
       "\tENSG00000000419 & 0.0394694687 & 0.0013199393 & 9.261950e-04 & 9.143963e-04 & 3.916165e-05\\\\\n",
       "\tENSG00000000457 & 0.0038627042 & 0.0001221161 & 6.589233e-05 & 3.095366e-03 & 3.311621e-05\\\\\n",
       "\tENSG00000000460 & 0.0000000000 & 0.0000000000 & 0.000000e+00 & 0.000000e+00 & 0.000000e+00\\\\\n",
       "\\end{tabular}\n"
      ],
      "text/markdown": [
       "\n",
       "| <!--/--> | AHR..ARNT | DDIT3..CEBPA | MAX..MYC | PPARG..RXRA | RXRA..VDR |\n",
       "|---|---|---|---|---|---|\n",
       "| ENSG00000000003 | 0.0006853000 | 0.0025808288 | 2.020445e-05 | 6.041068e-05 | 8.409835e-05 |\n",
       "| ENSG00000000005 | 0.0006148164 | 0.0002469801 | 3.310350e-06 | 1.020107e-05 | 2.971438e-06 |\n",
       "| ENSG00000000419 | 0.0394694687 | 0.0013199393 | 9.261950e-04 | 9.143963e-04 | 3.916165e-05 |\n",
       "| ENSG00000000457 | 0.0038627042 | 0.0001221161 | 6.589233e-05 | 3.095366e-03 | 3.311621e-05 |\n",
       "| ENSG00000000460 | 0.0000000000 | 0.0000000000 | 0.000000e+00 | 0.000000e+00 | 0.000000e+00 |\n",
       "\n"
      ],
      "text/plain": [
       "                AHR..ARNT    DDIT3..CEBPA MAX..MYC     PPARG..RXRA \n",
       "ENSG00000000003 0.0006853000 0.0025808288 2.020445e-05 6.041068e-05\n",
       "ENSG00000000005 0.0006148164 0.0002469801 3.310350e-06 1.020107e-05\n",
       "ENSG00000000419 0.0394694687 0.0013199393 9.261950e-04 9.143963e-04\n",
       "ENSG00000000457 0.0038627042 0.0001221161 6.589233e-05 3.095366e-03\n",
       "ENSG00000000460 0.0000000000 0.0000000000 0.000000e+00 0.000000e+00\n",
       "                RXRA..VDR   \n",
       "ENSG00000000003 8.409835e-05\n",
       "ENSG00000000005 2.971438e-06\n",
       "ENSG00000000419 3.916165e-05\n",
       "ENSG00000000457 3.311621e-05\n",
       "ENSG00000000460 0.000000e+00"
      ]
     },
     "metadata": {},
     "output_type": "display_data"
    },
    {
     "data": {
      "text/html": [
       "<table>\n",
       "<thead><tr><th></th><th scope=col>RXRA..VDR</th><th scope=col>TAL1..TCF3</th><th scope=col>HAND1..TCF3</th><th scope=col>NFIC..TLX1</th><th scope=col>GATA1..TAL1</th></tr></thead>\n",
       "<tbody>\n",
       "\t<tr><th scope=row>ENSG00000000003</th><td>8.409835e-05</td><td>6.809267e-05</td><td>0.0011714082</td><td>4.292226e-04</td><td>9.570524e-04</td></tr>\n",
       "\t<tr><th scope=row>ENSG00000000005</th><td>2.971438e-06</td><td>4.630280e-05</td><td>0.0024374150</td><td>1.844279e-05</td><td>2.873608e-05</td></tr>\n",
       "\t<tr><th scope=row>ENSG00000000419</th><td>3.916165e-05</td><td>5.353939e-04</td><td>0.0089839512</td><td>9.651023e-06</td><td>4.147972e-06</td></tr>\n",
       "\t<tr><th scope=row>ENSG00000000457</th><td>3.311621e-05</td><td>7.126695e-06</td><td>0.0006619569</td><td>2.130502e-04</td><td>8.772645e-07</td></tr>\n",
       "\t<tr><th scope=row>ENSG00000000460</th><td>0.000000e+00</td><td>0.000000e+00</td><td>0.0000000000</td><td>0.000000e+00</td><td>0.000000e+00</td></tr>\n",
       "</tbody>\n",
       "</table>\n"
      ],
      "text/latex": [
       "\\begin{tabular}{r|lllll}\n",
       "  & RXRA..VDR & TAL1..TCF3 & HAND1..TCF3 & NFIC..TLX1 & GATA1..TAL1\\\\\n",
       "\\hline\n",
       "\tENSG00000000003 & 8.409835e-05 & 6.809267e-05 & 0.0011714082 & 4.292226e-04 & 9.570524e-04\\\\\n",
       "\tENSG00000000005 & 2.971438e-06 & 4.630280e-05 & 0.0024374150 & 1.844279e-05 & 2.873608e-05\\\\\n",
       "\tENSG00000000419 & 3.916165e-05 & 5.353939e-04 & 0.0089839512 & 9.651023e-06 & 4.147972e-06\\\\\n",
       "\tENSG00000000457 & 3.311621e-05 & 7.126695e-06 & 0.0006619569 & 2.130502e-04 & 8.772645e-07\\\\\n",
       "\tENSG00000000460 & 0.000000e+00 & 0.000000e+00 & 0.0000000000 & 0.000000e+00 & 0.000000e+00\\\\\n",
       "\\end{tabular}\n"
      ],
      "text/markdown": [
       "\n",
       "| <!--/--> | RXRA..VDR | TAL1..TCF3 | HAND1..TCF3 | NFIC..TLX1 | GATA1..TAL1 |\n",
       "|---|---|---|---|---|---|\n",
       "| ENSG00000000003 | 8.409835e-05 | 6.809267e-05 | 0.0011714082 | 4.292226e-04 | 9.570524e-04 |\n",
       "| ENSG00000000005 | 2.971438e-06 | 4.630280e-05 | 0.0024374150 | 1.844279e-05 | 2.873608e-05 |\n",
       "| ENSG00000000419 | 3.916165e-05 | 5.353939e-04 | 0.0089839512 | 9.651023e-06 | 4.147972e-06 |\n",
       "| ENSG00000000457 | 3.311621e-05 | 7.126695e-06 | 0.0006619569 | 2.130502e-04 | 8.772645e-07 |\n",
       "| ENSG00000000460 | 0.000000e+00 | 0.000000e+00 | 0.0000000000 | 0.000000e+00 | 0.000000e+00 |\n",
       "\n"
      ],
      "text/plain": [
       "                RXRA..VDR    TAL1..TCF3   HAND1..TCF3  NFIC..TLX1  \n",
       "ENSG00000000003 8.409835e-05 6.809267e-05 0.0011714082 4.292226e-04\n",
       "ENSG00000000005 2.971438e-06 4.630280e-05 0.0024374150 1.844279e-05\n",
       "ENSG00000000419 3.916165e-05 5.353939e-04 0.0089839512 9.651023e-06\n",
       "ENSG00000000457 3.311621e-05 7.126695e-06 0.0006619569 2.130502e-04\n",
       "ENSG00000000460 0.000000e+00 0.000000e+00 0.0000000000 0.000000e+00\n",
       "                GATA1..TAL1 \n",
       "ENSG00000000003 9.570524e-04\n",
       "ENSG00000000005 2.873608e-05\n",
       "ENSG00000000419 4.147972e-06\n",
       "ENSG00000000457 8.772645e-07\n",
       "ENSG00000000460 0.000000e+00"
      ]
     },
     "metadata": {},
     "output_type": "display_data"
    },
    {
     "data": {
      "text/html": [
       "<table>\n",
       "<thead><tr><th></th><th scope=col>HLC_CEL_c1_R1</th><th scope=col>HLC_CEL_c10_R1</th><th scope=col>HLC_CEL_c11_R1</th><th scope=col>HLC_CEL_c13_R1</th><th scope=col>HLC_CEL_c14_R1</th></tr></thead>\n",
       "<tbody>\n",
       "\t<tr><th scope=row>ENSG00000000003</th><td> 77.76976598</td><td>149.795705  </td><td>187.0059603 </td><td> 55.6367184 </td><td>61.54605477 </td></tr>\n",
       "\t<tr><th scope=row>ENSG00000000005</th><td>  0.03028473</td><td>  0.000000  </td><td>  0.1775571 </td><td>  0.0000000 </td><td> 0.01333547 </td></tr>\n",
       "\t<tr><th scope=row>ENSG00000000419</th><td>113.10983416</td><td>214.795969  </td><td>222.6304539 </td><td>125.6892242 </td><td>88.01497682 </td></tr>\n",
       "\t<tr><th scope=row>ENSG00000000457</th><td>  0.65171792</td><td> 12.396580  </td><td>  0.2768822 </td><td>  4.8721790 </td><td> 0.43982053 </td></tr>\n",
       "\t<tr><th scope=row>ENSG00000000460</th><td>  0.27237818</td><td>  2.749921  </td><td>  0.8304052 </td><td>  0.9607715 </td><td> 0.50373967 </td></tr>\n",
       "</tbody>\n",
       "</table>\n"
      ],
      "text/latex": [
       "\\begin{tabular}{r|lllll}\n",
       "  & HLC\\_CEL\\_c1\\_R1 & HLC\\_CEL\\_c10\\_R1 & HLC\\_CEL\\_c11\\_R1 & HLC\\_CEL\\_c13\\_R1 & HLC\\_CEL\\_c14\\_R1\\\\\n",
       "\\hline\n",
       "\tENSG00000000003 &  77.76976598 & 149.795705   & 187.0059603  &  55.6367184  & 61.54605477 \\\\\n",
       "\tENSG00000000005 &   0.03028473 &   0.000000   &   0.1775571  &   0.0000000  &  0.01333547 \\\\\n",
       "\tENSG00000000419 & 113.10983416 & 214.795969   & 222.6304539  & 125.6892242  & 88.01497682 \\\\\n",
       "\tENSG00000000457 &   0.65171792 &  12.396580   &   0.2768822  &   4.8721790  &  0.43982053 \\\\\n",
       "\tENSG00000000460 &   0.27237818 &   2.749921   &   0.8304052  &   0.9607715  &  0.50373967 \\\\\n",
       "\\end{tabular}\n"
      ],
      "text/markdown": [
       "\n",
       "| <!--/--> | HLC_CEL_c1_R1 | HLC_CEL_c10_R1 | HLC_CEL_c11_R1 | HLC_CEL_c13_R1 | HLC_CEL_c14_R1 |\n",
       "|---|---|---|---|---|---|\n",
       "| ENSG00000000003 |  77.76976598 | 149.795705   | 187.0059603  |  55.6367184  | 61.54605477  |\n",
       "| ENSG00000000005 |   0.03028473 |   0.000000   |   0.1775571  |   0.0000000  |  0.01333547  |\n",
       "| ENSG00000000419 | 113.10983416 | 214.795969   | 222.6304539  | 125.6892242  | 88.01497682  |\n",
       "| ENSG00000000457 |   0.65171792 |  12.396580   |   0.2768822  |   4.8721790  |  0.43982053  |\n",
       "| ENSG00000000460 |   0.27237818 |   2.749921   |   0.8304052  |   0.9607715  |  0.50373967  |\n",
       "\n"
      ],
      "text/plain": [
       "                HLC_CEL_c1_R1 HLC_CEL_c10_R1 HLC_CEL_c11_R1 HLC_CEL_c13_R1\n",
       "ENSG00000000003  77.76976598  149.795705     187.0059603     55.6367184   \n",
       "ENSG00000000005   0.03028473    0.000000       0.1775571      0.0000000   \n",
       "ENSG00000000419 113.10983416  214.795969     222.6304539    125.6892242   \n",
       "ENSG00000000457   0.65171792   12.396580       0.2768822      4.8721790   \n",
       "ENSG00000000460   0.27237818    2.749921       0.8304052      0.9607715   \n",
       "                HLC_CEL_c14_R1\n",
       "ENSG00000000003 61.54605477   \n",
       "ENSG00000000005  0.01333547   \n",
       "ENSG00000000419 88.01497682   \n",
       "ENSG00000000457  0.43982053   \n",
       "ENSG00000000460  0.50373967   "
      ]
     },
     "metadata": {},
     "output_type": "display_data"
    },
    {
     "data": {
      "text/html": [
       "<table>\n",
       "<thead><tr><th></th><th scope=col>HLC_CEL_c1_R1</th><th scope=col>HLC_CEL_c10_R1</th><th scope=col>HLC_CEL_c11_R1</th><th scope=col>HLC_CEL_c13_R1</th><th scope=col>HLC_CEL_c14_R1</th></tr></thead>\n",
       "<tbody>\n",
       "\t<tr><th scope=row>ENSG00000000003</th><td>8.172956e-02</td><td>0.077963216 </td><td>0.1676020832</td><td>0.059508155 </td><td>4.896241e-02</td></tr>\n",
       "\t<tr><th scope=row>ENSG00000000005</th><td>3.182673e-05</td><td>0.000000000 </td><td>0.0001591337</td><td>0.000000000 </td><td>1.060891e-05</td></tr>\n",
       "\t<tr><th scope=row>ENSG00000000419</th><td>1.188690e-01</td><td>0.111793490 </td><td>0.1995301528</td><td>0.134435209 </td><td>7.001952e-02</td></tr>\n",
       "\t<tr><th scope=row>ENSG00000000457</th><td>6.849013e-04</td><td>0.006451969 </td><td>0.0002481527</td><td>0.005211206 </td><td>3.498952e-04</td></tr>\n",
       "\t<tr><th scope=row>ENSG00000000460</th><td>2.862468e-04</td><td>0.001431234 </td><td>0.0007442417</td><td>0.001027626 </td><td>4.007455e-04</td></tr>\n",
       "</tbody>\n",
       "</table>\n"
      ],
      "text/latex": [
       "\\begin{tabular}{r|lllll}\n",
       "  & HLC\\_CEL\\_c1\\_R1 & HLC\\_CEL\\_c10\\_R1 & HLC\\_CEL\\_c11\\_R1 & HLC\\_CEL\\_c13\\_R1 & HLC\\_CEL\\_c14\\_R1\\\\\n",
       "\\hline\n",
       "\tENSG00000000003 & 8.172956e-02 & 0.077963216  & 0.1676020832 & 0.059508155  & 4.896241e-02\\\\\n",
       "\tENSG00000000005 & 3.182673e-05 & 0.000000000  & 0.0001591337 & 0.000000000  & 1.060891e-05\\\\\n",
       "\tENSG00000000419 & 1.188690e-01 & 0.111793490  & 0.1995301528 & 0.134435209  & 7.001952e-02\\\\\n",
       "\tENSG00000000457 & 6.849013e-04 & 0.006451969  & 0.0002481527 & 0.005211206  & 3.498952e-04\\\\\n",
       "\tENSG00000000460 & 2.862468e-04 & 0.001431234  & 0.0007442417 & 0.001027626  & 4.007455e-04\\\\\n",
       "\\end{tabular}\n"
      ],
      "text/markdown": [
       "\n",
       "| <!--/--> | HLC_CEL_c1_R1 | HLC_CEL_c10_R1 | HLC_CEL_c11_R1 | HLC_CEL_c13_R1 | HLC_CEL_c14_R1 |\n",
       "|---|---|---|---|---|---|\n",
       "| ENSG00000000003 | 8.172956e-02 | 0.077963216  | 0.1676020832 | 0.059508155  | 4.896241e-02 |\n",
       "| ENSG00000000005 | 3.182673e-05 | 0.000000000  | 0.0001591337 | 0.000000000  | 1.060891e-05 |\n",
       "| ENSG00000000419 | 1.188690e-01 | 0.111793490  | 0.1995301528 | 0.134435209  | 7.001952e-02 |\n",
       "| ENSG00000000457 | 6.849013e-04 | 0.006451969  | 0.0002481527 | 0.005211206  | 3.498952e-04 |\n",
       "| ENSG00000000460 | 2.862468e-04 | 0.001431234  | 0.0007442417 | 0.001027626  | 4.007455e-04 |\n",
       "\n"
      ],
      "text/plain": [
       "                HLC_CEL_c1_R1 HLC_CEL_c10_R1 HLC_CEL_c11_R1 HLC_CEL_c13_R1\n",
       "ENSG00000000003 8.172956e-02  0.077963216    0.1676020832   0.059508155   \n",
       "ENSG00000000005 3.182673e-05  0.000000000    0.0001591337   0.000000000   \n",
       "ENSG00000000419 1.188690e-01  0.111793490    0.1995301528   0.134435209   \n",
       "ENSG00000000457 6.849013e-04  0.006451969    0.0002481527   0.005211206   \n",
       "ENSG00000000460 2.862468e-04  0.001431234    0.0007442417   0.001027626   \n",
       "                HLC_CEL_c14_R1\n",
       "ENSG00000000003 4.896241e-02  \n",
       "ENSG00000000005 1.060891e-05  \n",
       "ENSG00000000419 7.001952e-02  \n",
       "ENSG00000000457 3.498952e-04  \n",
       "ENSG00000000460 4.007455e-04  "
      ]
     },
     "metadata": {},
     "output_type": "display_data"
    }
   ],
   "source": [
    "full.x[1:5, 1:5]\n",
    "x[1:5, 1:5]\n",
    "\n",
    "full.y[1:5, 1:5]\n",
    "y[1:5, 1:5]"
   ]
  },
  {
   "cell_type": "markdown",
   "metadata": {},
   "source": [
    "## Log-transform the response data"
   ]
  },
  {
   "cell_type": "code",
   "execution_count": 18,
   "metadata": {},
   "outputs": [],
   "source": [
    "full.y <- log2(1 + full.y)\n",
    "y <- log2(1 + y)"
   ]
  },
  {
   "cell_type": "code",
   "execution_count": 19,
   "metadata": {},
   "outputs": [
    {
     "name": "stdout",
     "output_type": "stream",
     "text": [
      "[1]  0.00000 18.60009\n",
      "[1]  0.00000 10.33516\n"
     ]
    }
   ],
   "source": [
    "print(range(full.y))\n",
    "print(range(y))"
   ]
  },
  {
   "cell_type": "markdown",
   "metadata": {},
   "source": [
    "## Compute the correlation between each feature and each response vector (gene expression profile per cell)"
   ]
  },
  {
   "cell_type": "markdown",
   "metadata": {},
   "source": [
    "* [Correlations on full datasets](#full)\n",
    "* [Correlations on filtered datasets](#filtered)"
   ]
  },
  {
   "cell_type": "markdown",
   "metadata": {},
   "source": [
    "## Correlations on full datasets <a class= \"anchor\" id= \"full\"></a>"
   ]
  },
  {
   "cell_type": "code",
   "execution_count": 20,
   "metadata": {},
   "outputs": [],
   "source": [
    "full.cors <- list()\n",
    "for(i in seq(ncol(full.y)))\n",
    "    full.cors[[i]] <- sapply(seq(ncol(full.x)), function(j)cor(as.numeric(full.x[, j]), as.numeric(full.y[, i])))"
   ]
  },
  {
   "cell_type": "markdown",
   "metadata": {},
   "source": [
    "## Print the range of the resulting correlation values for each cell"
   ]
  },
  {
   "cell_type": "code",
   "execution_count": 21,
   "metadata": {
    "scrolled": false
   },
   "outputs": [
    {
     "data": {
      "text/html": [
       "<table>\n",
       "<thead><tr><th></th><th scope=col>min</th><th scope=col>max</th></tr></thead>\n",
       "<tbody>\n",
       "\t<tr><th scope=row>HLC_CEL_c1_R1</th><td>-0.1322317</td><td>0.2872518 </td></tr>\n",
       "\t<tr><th scope=row>HLC_CEL_c10_R1</th><td>-0.1260645</td><td>0.2891240 </td></tr>\n",
       "\t<tr><th scope=row>HLC_CEL_c11_R1</th><td>-0.1264427</td><td>0.2836147 </td></tr>\n",
       "\t<tr><th scope=row>HLC_CEL_c13_R1</th><td>-0.1284518</td><td>0.2880049 </td></tr>\n",
       "\t<tr><th scope=row>HLC_CEL_c14_R1</th><td>-0.1322657</td><td>0.2973263 </td></tr>\n",
       "\t<tr><th scope=row>HLC_CEL_c15_R1</th><td>-0.1295899</td><td>0.2944388 </td></tr>\n",
       "\t<tr><th scope=row>HLC_CEL_c16_R1</th><td>-0.1296403</td><td>0.2913589 </td></tr>\n",
       "\t<tr><th scope=row>HLC_CEL_c17_R1</th><td>-0.1334745</td><td>0.2965058 </td></tr>\n",
       "\t<tr><th scope=row>HLC_CEL_c18_R1</th><td>-0.1334334</td><td>0.2963942 </td></tr>\n",
       "\t<tr><th scope=row>HLC_CEL_c19_R1</th><td>-0.1281319</td><td>0.2882075 </td></tr>\n",
       "\t<tr><th scope=row>HLC_CEL_c2_R1</th><td>-0.1279603</td><td>0.2877701 </td></tr>\n",
       "\t<tr><th scope=row>HLC_CEL_c20_R1</th><td>-0.1278285</td><td>0.2838173 </td></tr>\n",
       "\t<tr><th scope=row>HLC_CEL_c21_R1</th><td>-0.1260713</td><td>0.2841789 </td></tr>\n",
       "\t<tr><th scope=row>HLC_CEL_c22_R1</th><td>-0.1305483</td><td>0.2898612 </td></tr>\n",
       "\t<tr><th scope=row>HLC_CEL_c23_R1</th><td>-0.1288261</td><td>0.2840486 </td></tr>\n",
       "\t<tr><th scope=row>HLC_CEL_c24_R1</th><td>-0.1275088</td><td>0.2901495 </td></tr>\n",
       "\t<tr><th scope=row>HLC_CEL_c25_R1</th><td>-0.1287639</td><td>0.2921782 </td></tr>\n",
       "\t<tr><th scope=row>HLC_CEL_c26_R1</th><td>-0.1147551</td><td>0.2448930 </td></tr>\n",
       "\t<tr><th scope=row>HLC_CEL_c27_R1</th><td>-0.1316851</td><td>0.2897519 </td></tr>\n",
       "\t<tr><th scope=row>HLC_CEL_c28_R1</th><td>-0.1295967</td><td>0.2828420 </td></tr>\n",
       "\t<tr><th scope=row>HLC_CEL_c29_R1</th><td>-0.1348783</td><td>0.2977203 </td></tr>\n",
       "\t<tr><th scope=row>HLC_CEL_c3_R1</th><td>-0.1278789</td><td>0.2849891 </td></tr>\n",
       "\t<tr><th scope=row>HLC_CEL_c30_R1</th><td>-0.1279115</td><td>0.2906327 </td></tr>\n",
       "\t<tr><th scope=row>HLC_CEL_c31_R1</th><td>-0.1262288</td><td>0.2907799 </td></tr>\n",
       "\t<tr><th scope=row>HLC_CEL_c32_R1</th><td>-0.1396638</td><td>0.2957105 </td></tr>\n",
       "\t<tr><th scope=row>HLC_CEL_c33_R1</th><td>-0.1264875</td><td>0.2888071 </td></tr>\n",
       "\t<tr><th scope=row>HLC_CEL_c34_R1</th><td>-0.1308755</td><td>0.3038078 </td></tr>\n",
       "\t<tr><th scope=row>HLC_CEL_c35_R1</th><td>-0.1314563</td><td>0.2912818 </td></tr>\n",
       "\t<tr><th scope=row>HLC_CEL_c36_R1</th><td>-0.1282855</td><td>0.2915946 </td></tr>\n",
       "\t<tr><th scope=row>HLC_CEL_c37_R1</th><td>-0.1269802</td><td>0.2894510 </td></tr>\n",
       "\t<tr><th scope=row>HLC_CEL_c38_R1</th><td>-0.1251219</td><td>0.2914198 </td></tr>\n",
       "\t<tr><th scope=row>HLC_CEL_c39_R1</th><td>-0.1215428</td><td>0.2839064 </td></tr>\n",
       "\t<tr><th scope=row>HLC_CEL_c4_R1</th><td>-0.1322254</td><td>0.2835045 </td></tr>\n",
       "\t<tr><th scope=row>HLC_CEL_c40_R1</th><td>-0.1312418</td><td>0.2837783 </td></tr>\n",
       "\t<tr><th scope=row>HLC_CEL_c41_R1</th><td>-0.1287996</td><td>0.2876550 </td></tr>\n",
       "\t<tr><th scope=row>HLC_CEL_c42_R1</th><td>-0.1285225</td><td>0.2901773 </td></tr>\n",
       "\t<tr><th scope=row>HLC_CEL_c43_R1</th><td>-0.1299311</td><td>0.2915989 </td></tr>\n",
       "\t<tr><th scope=row>HLC_CEL_c44_R1</th><td>-0.1346892</td><td>0.2972117 </td></tr>\n",
       "\t<tr><th scope=row>HLC_CEL_c45_R1</th><td>-0.1287001</td><td>0.2877536 </td></tr>\n",
       "\t<tr><th scope=row>HLC_CEL_c46_R1</th><td>-0.1281630</td><td>0.2823440 </td></tr>\n",
       "\t<tr><th scope=row>HLC_CEL_c47_R1</th><td>-0.1298770</td><td>0.2901871 </td></tr>\n",
       "\t<tr><th scope=row>HLC_CEL_c48_R1</th><td>-0.1133274</td><td>0.2038939 </td></tr>\n",
       "\t<tr><th scope=row>HLC_CEL_c49_R1</th><td>-0.1334466</td><td>0.2845900 </td></tr>\n",
       "\t<tr><th scope=row>HLC_CEL_c5_R1</th><td>-0.1247830</td><td>0.2904738 </td></tr>\n",
       "\t<tr><th scope=row>HLC_CEL_c50_R1</th><td>-0.1304862</td><td>0.2800848 </td></tr>\n",
       "\t<tr><th scope=row>HLC_CEL_c51_R1</th><td>-0.1251528</td><td>0.2809634 </td></tr>\n",
       "\t<tr><th scope=row>HLC_CEL_c52_R1</th><td>-0.1208262</td><td>0.2758106 </td></tr>\n",
       "\t<tr><th scope=row>HLC_CEL_c53_R1</th><td>-0.1292705</td><td>0.2866574 </td></tr>\n",
       "\t<tr><th scope=row>HLC_CEL_c54_R1</th><td>-0.1301650</td><td>0.2874325 </td></tr>\n",
       "\t<tr><th scope=row>HLC_CEL_c55_R1</th><td>-0.1297327</td><td>0.2958195 </td></tr>\n",
       "</tbody>\n",
       "</table>\n"
      ],
      "text/latex": [
       "\\begin{tabular}{r|ll}\n",
       "  & min & max\\\\\n",
       "\\hline\n",
       "\tHLC\\_CEL\\_c1\\_R1 & -0.1322317 & 0.2872518 \\\\\n",
       "\tHLC\\_CEL\\_c10\\_R1 & -0.1260645 & 0.2891240 \\\\\n",
       "\tHLC\\_CEL\\_c11\\_R1 & -0.1264427 & 0.2836147 \\\\\n",
       "\tHLC\\_CEL\\_c13\\_R1 & -0.1284518 & 0.2880049 \\\\\n",
       "\tHLC\\_CEL\\_c14\\_R1 & -0.1322657 & 0.2973263 \\\\\n",
       "\tHLC\\_CEL\\_c15\\_R1 & -0.1295899 & 0.2944388 \\\\\n",
       "\tHLC\\_CEL\\_c16\\_R1 & -0.1296403 & 0.2913589 \\\\\n",
       "\tHLC\\_CEL\\_c17\\_R1 & -0.1334745 & 0.2965058 \\\\\n",
       "\tHLC\\_CEL\\_c18\\_R1 & -0.1334334 & 0.2963942 \\\\\n",
       "\tHLC\\_CEL\\_c19\\_R1 & -0.1281319 & 0.2882075 \\\\\n",
       "\tHLC\\_CEL\\_c2\\_R1 & -0.1279603 & 0.2877701 \\\\\n",
       "\tHLC\\_CEL\\_c20\\_R1 & -0.1278285 & 0.2838173 \\\\\n",
       "\tHLC\\_CEL\\_c21\\_R1 & -0.1260713 & 0.2841789 \\\\\n",
       "\tHLC\\_CEL\\_c22\\_R1 & -0.1305483 & 0.2898612 \\\\\n",
       "\tHLC\\_CEL\\_c23\\_R1 & -0.1288261 & 0.2840486 \\\\\n",
       "\tHLC\\_CEL\\_c24\\_R1 & -0.1275088 & 0.2901495 \\\\\n",
       "\tHLC\\_CEL\\_c25\\_R1 & -0.1287639 & 0.2921782 \\\\\n",
       "\tHLC\\_CEL\\_c26\\_R1 & -0.1147551 & 0.2448930 \\\\\n",
       "\tHLC\\_CEL\\_c27\\_R1 & -0.1316851 & 0.2897519 \\\\\n",
       "\tHLC\\_CEL\\_c28\\_R1 & -0.1295967 & 0.2828420 \\\\\n",
       "\tHLC\\_CEL\\_c29\\_R1 & -0.1348783 & 0.2977203 \\\\\n",
       "\tHLC\\_CEL\\_c3\\_R1 & -0.1278789 & 0.2849891 \\\\\n",
       "\tHLC\\_CEL\\_c30\\_R1 & -0.1279115 & 0.2906327 \\\\\n",
       "\tHLC\\_CEL\\_c31\\_R1 & -0.1262288 & 0.2907799 \\\\\n",
       "\tHLC\\_CEL\\_c32\\_R1 & -0.1396638 & 0.2957105 \\\\\n",
       "\tHLC\\_CEL\\_c33\\_R1 & -0.1264875 & 0.2888071 \\\\\n",
       "\tHLC\\_CEL\\_c34\\_R1 & -0.1308755 & 0.3038078 \\\\\n",
       "\tHLC\\_CEL\\_c35\\_R1 & -0.1314563 & 0.2912818 \\\\\n",
       "\tHLC\\_CEL\\_c36\\_R1 & -0.1282855 & 0.2915946 \\\\\n",
       "\tHLC\\_CEL\\_c37\\_R1 & -0.1269802 & 0.2894510 \\\\\n",
       "\tHLC\\_CEL\\_c38\\_R1 & -0.1251219 & 0.2914198 \\\\\n",
       "\tHLC\\_CEL\\_c39\\_R1 & -0.1215428 & 0.2839064 \\\\\n",
       "\tHLC\\_CEL\\_c4\\_R1 & -0.1322254 & 0.2835045 \\\\\n",
       "\tHLC\\_CEL\\_c40\\_R1 & -0.1312418 & 0.2837783 \\\\\n",
       "\tHLC\\_CEL\\_c41\\_R1 & -0.1287996 & 0.2876550 \\\\\n",
       "\tHLC\\_CEL\\_c42\\_R1 & -0.1285225 & 0.2901773 \\\\\n",
       "\tHLC\\_CEL\\_c43\\_R1 & -0.1299311 & 0.2915989 \\\\\n",
       "\tHLC\\_CEL\\_c44\\_R1 & -0.1346892 & 0.2972117 \\\\\n",
       "\tHLC\\_CEL\\_c45\\_R1 & -0.1287001 & 0.2877536 \\\\\n",
       "\tHLC\\_CEL\\_c46\\_R1 & -0.1281630 & 0.2823440 \\\\\n",
       "\tHLC\\_CEL\\_c47\\_R1 & -0.1298770 & 0.2901871 \\\\\n",
       "\tHLC\\_CEL\\_c48\\_R1 & -0.1133274 & 0.2038939 \\\\\n",
       "\tHLC\\_CEL\\_c49\\_R1 & -0.1334466 & 0.2845900 \\\\\n",
       "\tHLC\\_CEL\\_c5\\_R1 & -0.1247830 & 0.2904738 \\\\\n",
       "\tHLC\\_CEL\\_c50\\_R1 & -0.1304862 & 0.2800848 \\\\\n",
       "\tHLC\\_CEL\\_c51\\_R1 & -0.1251528 & 0.2809634 \\\\\n",
       "\tHLC\\_CEL\\_c52\\_R1 & -0.1208262 & 0.2758106 \\\\\n",
       "\tHLC\\_CEL\\_c53\\_R1 & -0.1292705 & 0.2866574 \\\\\n",
       "\tHLC\\_CEL\\_c54\\_R1 & -0.1301650 & 0.2874325 \\\\\n",
       "\tHLC\\_CEL\\_c55\\_R1 & -0.1297327 & 0.2958195 \\\\\n",
       "\\end{tabular}\n"
      ],
      "text/markdown": [
       "\n",
       "| <!--/--> | min | max |\n",
       "|---|---|---|\n",
       "| HLC_CEL_c1_R1 | -0.1322317 | 0.2872518  |\n",
       "| HLC_CEL_c10_R1 | -0.1260645 | 0.2891240  |\n",
       "| HLC_CEL_c11_R1 | -0.1264427 | 0.2836147  |\n",
       "| HLC_CEL_c13_R1 | -0.1284518 | 0.2880049  |\n",
       "| HLC_CEL_c14_R1 | -0.1322657 | 0.2973263  |\n",
       "| HLC_CEL_c15_R1 | -0.1295899 | 0.2944388  |\n",
       "| HLC_CEL_c16_R1 | -0.1296403 | 0.2913589  |\n",
       "| HLC_CEL_c17_R1 | -0.1334745 | 0.2965058  |\n",
       "| HLC_CEL_c18_R1 | -0.1334334 | 0.2963942  |\n",
       "| HLC_CEL_c19_R1 | -0.1281319 | 0.2882075  |\n",
       "| HLC_CEL_c2_R1 | -0.1279603 | 0.2877701  |\n",
       "| HLC_CEL_c20_R1 | -0.1278285 | 0.2838173  |\n",
       "| HLC_CEL_c21_R1 | -0.1260713 | 0.2841789  |\n",
       "| HLC_CEL_c22_R1 | -0.1305483 | 0.2898612  |\n",
       "| HLC_CEL_c23_R1 | -0.1288261 | 0.2840486  |\n",
       "| HLC_CEL_c24_R1 | -0.1275088 | 0.2901495  |\n",
       "| HLC_CEL_c25_R1 | -0.1287639 | 0.2921782  |\n",
       "| HLC_CEL_c26_R1 | -0.1147551 | 0.2448930  |\n",
       "| HLC_CEL_c27_R1 | -0.1316851 | 0.2897519  |\n",
       "| HLC_CEL_c28_R1 | -0.1295967 | 0.2828420  |\n",
       "| HLC_CEL_c29_R1 | -0.1348783 | 0.2977203  |\n",
       "| HLC_CEL_c3_R1 | -0.1278789 | 0.2849891  |\n",
       "| HLC_CEL_c30_R1 | -0.1279115 | 0.2906327  |\n",
       "| HLC_CEL_c31_R1 | -0.1262288 | 0.2907799  |\n",
       "| HLC_CEL_c32_R1 | -0.1396638 | 0.2957105  |\n",
       "| HLC_CEL_c33_R1 | -0.1264875 | 0.2888071  |\n",
       "| HLC_CEL_c34_R1 | -0.1308755 | 0.3038078  |\n",
       "| HLC_CEL_c35_R1 | -0.1314563 | 0.2912818  |\n",
       "| HLC_CEL_c36_R1 | -0.1282855 | 0.2915946  |\n",
       "| HLC_CEL_c37_R1 | -0.1269802 | 0.2894510  |\n",
       "| HLC_CEL_c38_R1 | -0.1251219 | 0.2914198  |\n",
       "| HLC_CEL_c39_R1 | -0.1215428 | 0.2839064  |\n",
       "| HLC_CEL_c4_R1 | -0.1322254 | 0.2835045  |\n",
       "| HLC_CEL_c40_R1 | -0.1312418 | 0.2837783  |\n",
       "| HLC_CEL_c41_R1 | -0.1287996 | 0.2876550  |\n",
       "| HLC_CEL_c42_R1 | -0.1285225 | 0.2901773  |\n",
       "| HLC_CEL_c43_R1 | -0.1299311 | 0.2915989  |\n",
       "| HLC_CEL_c44_R1 | -0.1346892 | 0.2972117  |\n",
       "| HLC_CEL_c45_R1 | -0.1287001 | 0.2877536  |\n",
       "| HLC_CEL_c46_R1 | -0.1281630 | 0.2823440  |\n",
       "| HLC_CEL_c47_R1 | -0.1298770 | 0.2901871  |\n",
       "| HLC_CEL_c48_R1 | -0.1133274 | 0.2038939  |\n",
       "| HLC_CEL_c49_R1 | -0.1334466 | 0.2845900  |\n",
       "| HLC_CEL_c5_R1 | -0.1247830 | 0.2904738  |\n",
       "| HLC_CEL_c50_R1 | -0.1304862 | 0.2800848  |\n",
       "| HLC_CEL_c51_R1 | -0.1251528 | 0.2809634  |\n",
       "| HLC_CEL_c52_R1 | -0.1208262 | 0.2758106  |\n",
       "| HLC_CEL_c53_R1 | -0.1292705 | 0.2866574  |\n",
       "| HLC_CEL_c54_R1 | -0.1301650 | 0.2874325  |\n",
       "| HLC_CEL_c55_R1 | -0.1297327 | 0.2958195  |\n",
       "\n"
      ],
      "text/plain": [
       "               min        max      \n",
       "HLC_CEL_c1_R1  -0.1322317 0.2872518\n",
       "HLC_CEL_c10_R1 -0.1260645 0.2891240\n",
       "HLC_CEL_c11_R1 -0.1264427 0.2836147\n",
       "HLC_CEL_c13_R1 -0.1284518 0.2880049\n",
       "HLC_CEL_c14_R1 -0.1322657 0.2973263\n",
       "HLC_CEL_c15_R1 -0.1295899 0.2944388\n",
       "HLC_CEL_c16_R1 -0.1296403 0.2913589\n",
       "HLC_CEL_c17_R1 -0.1334745 0.2965058\n",
       "HLC_CEL_c18_R1 -0.1334334 0.2963942\n",
       "HLC_CEL_c19_R1 -0.1281319 0.2882075\n",
       "HLC_CEL_c2_R1  -0.1279603 0.2877701\n",
       "HLC_CEL_c20_R1 -0.1278285 0.2838173\n",
       "HLC_CEL_c21_R1 -0.1260713 0.2841789\n",
       "HLC_CEL_c22_R1 -0.1305483 0.2898612\n",
       "HLC_CEL_c23_R1 -0.1288261 0.2840486\n",
       "HLC_CEL_c24_R1 -0.1275088 0.2901495\n",
       "HLC_CEL_c25_R1 -0.1287639 0.2921782\n",
       "HLC_CEL_c26_R1 -0.1147551 0.2448930\n",
       "HLC_CEL_c27_R1 -0.1316851 0.2897519\n",
       "HLC_CEL_c28_R1 -0.1295967 0.2828420\n",
       "HLC_CEL_c29_R1 -0.1348783 0.2977203\n",
       "HLC_CEL_c3_R1  -0.1278789 0.2849891\n",
       "HLC_CEL_c30_R1 -0.1279115 0.2906327\n",
       "HLC_CEL_c31_R1 -0.1262288 0.2907799\n",
       "HLC_CEL_c32_R1 -0.1396638 0.2957105\n",
       "HLC_CEL_c33_R1 -0.1264875 0.2888071\n",
       "HLC_CEL_c34_R1 -0.1308755 0.3038078\n",
       "HLC_CEL_c35_R1 -0.1314563 0.2912818\n",
       "HLC_CEL_c36_R1 -0.1282855 0.2915946\n",
       "HLC_CEL_c37_R1 -0.1269802 0.2894510\n",
       "HLC_CEL_c38_R1 -0.1251219 0.2914198\n",
       "HLC_CEL_c39_R1 -0.1215428 0.2839064\n",
       "HLC_CEL_c4_R1  -0.1322254 0.2835045\n",
       "HLC_CEL_c40_R1 -0.1312418 0.2837783\n",
       "HLC_CEL_c41_R1 -0.1287996 0.2876550\n",
       "HLC_CEL_c42_R1 -0.1285225 0.2901773\n",
       "HLC_CEL_c43_R1 -0.1299311 0.2915989\n",
       "HLC_CEL_c44_R1 -0.1346892 0.2972117\n",
       "HLC_CEL_c45_R1 -0.1287001 0.2877536\n",
       "HLC_CEL_c46_R1 -0.1281630 0.2823440\n",
       "HLC_CEL_c47_R1 -0.1298770 0.2901871\n",
       "HLC_CEL_c48_R1 -0.1133274 0.2038939\n",
       "HLC_CEL_c49_R1 -0.1334466 0.2845900\n",
       "HLC_CEL_c5_R1  -0.1247830 0.2904738\n",
       "HLC_CEL_c50_R1 -0.1304862 0.2800848\n",
       "HLC_CEL_c51_R1 -0.1251528 0.2809634\n",
       "HLC_CEL_c52_R1 -0.1208262 0.2758106\n",
       "HLC_CEL_c53_R1 -0.1292705 0.2866574\n",
       "HLC_CEL_c54_R1 -0.1301650 0.2874325\n",
       "HLC_CEL_c55_R1 -0.1297327 0.2958195"
      ]
     },
     "metadata": {},
     "output_type": "display_data"
    }
   ],
   "source": [
    "df.full <- data.frame(min= as.numeric(lapply(full.cors, FUN= min)), max= as.numeric(lapply(full.cors, FUN= max)))\n",
    "rownames(df.full) <- colnames(full.y)\n",
    "df.full[seq(50), ]"
   ]
  },
  {
   "cell_type": "markdown",
   "metadata": {},
   "source": [
    "## Plot histogram to have a more concise view of the correlation distributions"
   ]
  },
  {
   "cell_type": "code",
   "execution_count": 22,
   "metadata": {},
   "outputs": [
    {
     "data": {
      "image/png": "[encoded data removed]",
      "text/plain": [
       "Plot with title “all correlation values on full datasets”"
      ]
     },
     "metadata": {},
     "output_type": "display_data"
    }
   ],
   "source": [
    "hist(as.matrix(df.full), main= \"all correlation values on full datasets\", xlab= \"correlations\")"
   ]
  },
  {
   "cell_type": "markdown",
   "metadata": {},
   "source": [
    "## Correlations on filtered datasets <a class= \"anchor\" id= \"filtered\"></a>"
   ]
  },
  {
   "cell_type": "code",
   "execution_count": 23,
   "metadata": {},
   "outputs": [],
   "source": [
    "cors <- list()\n",
    "for(i in seq(ncol(y)))\n",
    "    cors[[i]] <- sapply(seq(ncol(x)), function(j)cor(x[, j], y[, i]))"
   ]
  },
  {
   "cell_type": "markdown",
   "metadata": {},
   "source": [
    "## Print the range of the resulting correlation values for each cell"
   ]
  },
  {
   "cell_type": "code",
   "execution_count": 24,
   "metadata": {},
   "outputs": [
    {
     "data": {
      "text/html": [
       "<table>\n",
       "<thead><tr><th></th><th scope=col>min</th><th scope=col>max</th></tr></thead>\n",
       "<tbody>\n",
       "\t<tr><th scope=row>HLC_CEL_c1_R1</th><td>-0.04778397</td><td>0.04942259 </td></tr>\n",
       "\t<tr><th scope=row>HLC_CEL_c10_R1</th><td>-0.04498635</td><td>0.05020681 </td></tr>\n",
       "\t<tr><th scope=row>HLC_CEL_c11_R1</th><td>-0.04839170</td><td>0.05024366 </td></tr>\n",
       "\t<tr><th scope=row>HLC_CEL_c13_R1</th><td>-0.04801421</td><td>0.06011916 </td></tr>\n",
       "\t<tr><th scope=row>HLC_CEL_c14_R1</th><td>-0.03158886</td><td>0.04699246 </td></tr>\n",
       "\t<tr><th scope=row>HLC_CEL_c15_R1</th><td>-0.05363181</td><td>0.05975630 </td></tr>\n",
       "\t<tr><th scope=row>HLC_CEL_c16_R1</th><td>-0.05734945</td><td>0.05220080 </td></tr>\n",
       "\t<tr><th scope=row>HLC_CEL_c17_R1</th><td>-0.06041690</td><td>0.06436837 </td></tr>\n",
       "\t<tr><th scope=row>HLC_CEL_c18_R1</th><td>-0.06165649</td><td>0.06048806 </td></tr>\n",
       "\t<tr><th scope=row>HLC_CEL_c19_R1</th><td>-0.05450735</td><td>0.05493791 </td></tr>\n",
       "\t<tr><th scope=row>HLC_CEL_c2_R1</th><td>-0.05571528</td><td>0.05700893 </td></tr>\n",
       "\t<tr><th scope=row>HLC_CEL_c20_R1</th><td>-0.05360594</td><td>0.06126660 </td></tr>\n",
       "\t<tr><th scope=row>HLC_CEL_c21_R1</th><td>-0.04535603</td><td>0.05094807 </td></tr>\n",
       "\t<tr><th scope=row>HLC_CEL_c22_R1</th><td>-0.05453116</td><td>0.05791132 </td></tr>\n",
       "\t<tr><th scope=row>HLC_CEL_c23_R1</th><td>-0.05932566</td><td>0.06406601 </td></tr>\n",
       "\t<tr><th scope=row>HLC_CEL_c24_R1</th><td>-0.05802541</td><td>0.06320886 </td></tr>\n",
       "\t<tr><th scope=row>HLC_CEL_c25_R1</th><td>-0.04927952</td><td>0.05591980 </td></tr>\n",
       "\t<tr><th scope=row>HLC_CEL_c26_R1</th><td>-0.04870301</td><td>0.05202660 </td></tr>\n",
       "\t<tr><th scope=row>HLC_CEL_c27_R1</th><td>-0.05320100</td><td>0.05591962 </td></tr>\n",
       "\t<tr><th scope=row>HLC_CEL_c28_R1</th><td>-0.05062978</td><td>0.05595553 </td></tr>\n",
       "\t<tr><th scope=row>HLC_CEL_c29_R1</th><td>-0.05269668</td><td>0.05638327 </td></tr>\n",
       "\t<tr><th scope=row>HLC_CEL_c3_R1</th><td>-0.05040776</td><td>0.05691948 </td></tr>\n",
       "\t<tr><th scope=row>HLC_CEL_c30_R1</th><td>-0.05117120</td><td>0.05357609 </td></tr>\n",
       "\t<tr><th scope=row>HLC_CEL_c32_R1</th><td>-0.06460575</td><td>0.07579250 </td></tr>\n",
       "\t<tr><th scope=row>HLC_CEL_c33_R1</th><td>-0.05695392</td><td>0.06255725 </td></tr>\n",
       "\t<tr><th scope=row>HLC_CEL_c34_R1</th><td>-0.04516637</td><td>0.04883049 </td></tr>\n",
       "\t<tr><th scope=row>HLC_CEL_c35_R1</th><td>-0.05116058</td><td>0.05574584 </td></tr>\n",
       "\t<tr><th scope=row>HLC_CEL_c36_R1</th><td>-0.04434743</td><td>0.05185539 </td></tr>\n",
       "\t<tr><th scope=row>HLC_CEL_c37_R1</th><td>-0.04342862</td><td>0.05311056 </td></tr>\n",
       "\t<tr><th scope=row>HLC_CEL_c38_R1</th><td>-0.04174798</td><td>0.05289209 </td></tr>\n",
       "\t<tr><th scope=row>HLC_CEL_c39_R1</th><td>-0.04162302</td><td>0.05313844 </td></tr>\n",
       "\t<tr><th scope=row>HLC_CEL_c4_R1</th><td>-0.05672846</td><td>0.05778797 </td></tr>\n",
       "\t<tr><th scope=row>HLC_CEL_c40_R1</th><td>-0.05710136</td><td>0.06369116 </td></tr>\n",
       "\t<tr><th scope=row>HLC_CEL_c41_R1</th><td>-0.04760394</td><td>0.05742931 </td></tr>\n",
       "\t<tr><th scope=row>HLC_CEL_c42_R1</th><td>-0.05202462</td><td>0.05575594 </td></tr>\n",
       "\t<tr><th scope=row>HLC_CEL_c43_R1</th><td>-0.05376467</td><td>0.05532072 </td></tr>\n",
       "\t<tr><th scope=row>HLC_CEL_c44_R1</th><td>-0.05123083</td><td>0.05313908 </td></tr>\n",
       "\t<tr><th scope=row>HLC_CEL_c45_R1</th><td>-0.05340863</td><td>0.05867871 </td></tr>\n",
       "\t<tr><th scope=row>HLC_CEL_c46_R1</th><td>-0.05164573</td><td>0.05326763 </td></tr>\n",
       "\t<tr><th scope=row>HLC_CEL_c47_R1</th><td>-0.04173938</td><td>0.05009433 </td></tr>\n",
       "\t<tr><th scope=row>HLC_CEL_c48_R1</th><td>-0.03635600</td><td>0.05041755 </td></tr>\n",
       "\t<tr><th scope=row>HLC_CEL_c49_R1</th><td>-0.05346890</td><td>0.06087738 </td></tr>\n",
       "\t<tr><th scope=row>HLC_CEL_c5_R1</th><td>-0.05419409</td><td>0.06051355 </td></tr>\n",
       "\t<tr><th scope=row>HLC_CEL_c50_R1</th><td>-0.05643552</td><td>0.06059883 </td></tr>\n",
       "\t<tr><th scope=row>HLC_CEL_c51_R1</th><td>-0.04848176</td><td>0.05195681 </td></tr>\n",
       "\t<tr><th scope=row>HLC_CEL_c52_R1</th><td>-0.03511724</td><td>0.04189045 </td></tr>\n",
       "\t<tr><th scope=row>HLC_CEL_c53_R1</th><td>-0.04376905</td><td>0.04960044 </td></tr>\n",
       "\t<tr><th scope=row>HLC_CEL_c54_R1</th><td>-0.04850432</td><td>0.05229099 </td></tr>\n",
       "\t<tr><th scope=row>HLC_CEL_c55_R1</th><td>-0.05582194</td><td>0.05813526 </td></tr>\n",
       "\t<tr><th scope=row>HLC_CEL_c56_R1</th><td>-0.05631057</td><td>0.05700866 </td></tr>\n",
       "</tbody>\n",
       "</table>\n"
      ],
      "text/latex": [
       "\\begin{tabular}{r|ll}\n",
       "  & min & max\\\\\n",
       "\\hline\n",
       "\tHLC\\_CEL\\_c1\\_R1 & -0.04778397 & 0.04942259 \\\\\n",
       "\tHLC\\_CEL\\_c10\\_R1 & -0.04498635 & 0.05020681 \\\\\n",
       "\tHLC\\_CEL\\_c11\\_R1 & -0.04839170 & 0.05024366 \\\\\n",
       "\tHLC\\_CEL\\_c13\\_R1 & -0.04801421 & 0.06011916 \\\\\n",
       "\tHLC\\_CEL\\_c14\\_R1 & -0.03158886 & 0.04699246 \\\\\n",
       "\tHLC\\_CEL\\_c15\\_R1 & -0.05363181 & 0.05975630 \\\\\n",
       "\tHLC\\_CEL\\_c16\\_R1 & -0.05734945 & 0.05220080 \\\\\n",
       "\tHLC\\_CEL\\_c17\\_R1 & -0.06041690 & 0.06436837 \\\\\n",
       "\tHLC\\_CEL\\_c18\\_R1 & -0.06165649 & 0.06048806 \\\\\n",
       "\tHLC\\_CEL\\_c19\\_R1 & -0.05450735 & 0.05493791 \\\\\n",
       "\tHLC\\_CEL\\_c2\\_R1 & -0.05571528 & 0.05700893 \\\\\n",
       "\tHLC\\_CEL\\_c20\\_R1 & -0.05360594 & 0.06126660 \\\\\n",
       "\tHLC\\_CEL\\_c21\\_R1 & -0.04535603 & 0.05094807 \\\\\n",
       "\tHLC\\_CEL\\_c22\\_R1 & -0.05453116 & 0.05791132 \\\\\n",
       "\tHLC\\_CEL\\_c23\\_R1 & -0.05932566 & 0.06406601 \\\\\n",
       "\tHLC\\_CEL\\_c24\\_R1 & -0.05802541 & 0.06320886 \\\\\n",
       "\tHLC\\_CEL\\_c25\\_R1 & -0.04927952 & 0.05591980 \\\\\n",
       "\tHLC\\_CEL\\_c26\\_R1 & -0.04870301 & 0.05202660 \\\\\n",
       "\tHLC\\_CEL\\_c27\\_R1 & -0.05320100 & 0.05591962 \\\\\n",
       "\tHLC\\_CEL\\_c28\\_R1 & -0.05062978 & 0.05595553 \\\\\n",
       "\tHLC\\_CEL\\_c29\\_R1 & -0.05269668 & 0.05638327 \\\\\n",
       "\tHLC\\_CEL\\_c3\\_R1 & -0.05040776 & 0.05691948 \\\\\n",
       "\tHLC\\_CEL\\_c30\\_R1 & -0.05117120 & 0.05357609 \\\\\n",
       "\tHLC\\_CEL\\_c32\\_R1 & -0.06460575 & 0.07579250 \\\\\n",
       "\tHLC\\_CEL\\_c33\\_R1 & -0.05695392 & 0.06255725 \\\\\n",
       "\tHLC\\_CEL\\_c34\\_R1 & -0.04516637 & 0.04883049 \\\\\n",
       "\tHLC\\_CEL\\_c35\\_R1 & -0.05116058 & 0.05574584 \\\\\n",
       "\tHLC\\_CEL\\_c36\\_R1 & -0.04434743 & 0.05185539 \\\\\n",
       "\tHLC\\_CEL\\_c37\\_R1 & -0.04342862 & 0.05311056 \\\\\n",
       "\tHLC\\_CEL\\_c38\\_R1 & -0.04174798 & 0.05289209 \\\\\n",
       "\tHLC\\_CEL\\_c39\\_R1 & -0.04162302 & 0.05313844 \\\\\n",
       "\tHLC\\_CEL\\_c4\\_R1 & -0.05672846 & 0.05778797 \\\\\n",
       "\tHLC\\_CEL\\_c40\\_R1 & -0.05710136 & 0.06369116 \\\\\n",
       "\tHLC\\_CEL\\_c41\\_R1 & -0.04760394 & 0.05742931 \\\\\n",
       "\tHLC\\_CEL\\_c42\\_R1 & -0.05202462 & 0.05575594 \\\\\n",
       "\tHLC\\_CEL\\_c43\\_R1 & -0.05376467 & 0.05532072 \\\\\n",
       "\tHLC\\_CEL\\_c44\\_R1 & -0.05123083 & 0.05313908 \\\\\n",
       "\tHLC\\_CEL\\_c45\\_R1 & -0.05340863 & 0.05867871 \\\\\n",
       "\tHLC\\_CEL\\_c46\\_R1 & -0.05164573 & 0.05326763 \\\\\n",
       "\tHLC\\_CEL\\_c47\\_R1 & -0.04173938 & 0.05009433 \\\\\n",
       "\tHLC\\_CEL\\_c48\\_R1 & -0.03635600 & 0.05041755 \\\\\n",
       "\tHLC\\_CEL\\_c49\\_R1 & -0.05346890 & 0.06087738 \\\\\n",
       "\tHLC\\_CEL\\_c5\\_R1 & -0.05419409 & 0.06051355 \\\\\n",
       "\tHLC\\_CEL\\_c50\\_R1 & -0.05643552 & 0.06059883 \\\\\n",
       "\tHLC\\_CEL\\_c51\\_R1 & -0.04848176 & 0.05195681 \\\\\n",
       "\tHLC\\_CEL\\_c52\\_R1 & -0.03511724 & 0.04189045 \\\\\n",
       "\tHLC\\_CEL\\_c53\\_R1 & -0.04376905 & 0.04960044 \\\\\n",
       "\tHLC\\_CEL\\_c54\\_R1 & -0.04850432 & 0.05229099 \\\\\n",
       "\tHLC\\_CEL\\_c55\\_R1 & -0.05582194 & 0.05813526 \\\\\n",
       "\tHLC\\_CEL\\_c56\\_R1 & -0.05631057 & 0.05700866 \\\\\n",
       "\\end{tabular}\n"
      ],
      "text/markdown": [
       "\n",
       "| <!--/--> | min | max |\n",
       "|---|---|---|\n",
       "| HLC_CEL_c1_R1 | -0.04778397 | 0.04942259  |\n",
       "| HLC_CEL_c10_R1 | -0.04498635 | 0.05020681  |\n",
       "| HLC_CEL_c11_R1 | -0.04839170 | 0.05024366  |\n",
       "| HLC_CEL_c13_R1 | -0.04801421 | 0.06011916  |\n",
       "| HLC_CEL_c14_R1 | -0.03158886 | 0.04699246  |\n",
       "| HLC_CEL_c15_R1 | -0.05363181 | 0.05975630  |\n",
       "| HLC_CEL_c16_R1 | -0.05734945 | 0.05220080  |\n",
       "| HLC_CEL_c17_R1 | -0.06041690 | 0.06436837  |\n",
       "| HLC_CEL_c18_R1 | -0.06165649 | 0.06048806  |\n",
       "| HLC_CEL_c19_R1 | -0.05450735 | 0.05493791  |\n",
       "| HLC_CEL_c2_R1 | -0.05571528 | 0.05700893  |\n",
       "| HLC_CEL_c20_R1 | -0.05360594 | 0.06126660  |\n",
       "| HLC_CEL_c21_R1 | -0.04535603 | 0.05094807  |\n",
       "| HLC_CEL_c22_R1 | -0.05453116 | 0.05791132  |\n",
       "| HLC_CEL_c23_R1 | -0.05932566 | 0.06406601  |\n",
       "| HLC_CEL_c24_R1 | -0.05802541 | 0.06320886  |\n",
       "| HLC_CEL_c25_R1 | -0.04927952 | 0.05591980  |\n",
       "| HLC_CEL_c26_R1 | -0.04870301 | 0.05202660  |\n",
       "| HLC_CEL_c27_R1 | -0.05320100 | 0.05591962  |\n",
       "| HLC_CEL_c28_R1 | -0.05062978 | 0.05595553  |\n",
       "| HLC_CEL_c29_R1 | -0.05269668 | 0.05638327  |\n",
       "| HLC_CEL_c3_R1 | -0.05040776 | 0.05691948  |\n",
       "| HLC_CEL_c30_R1 | -0.05117120 | 0.05357609  |\n",
       "| HLC_CEL_c32_R1 | -0.06460575 | 0.07579250  |\n",
       "| HLC_CEL_c33_R1 | -0.05695392 | 0.06255725  |\n",
       "| HLC_CEL_c34_R1 | -0.04516637 | 0.04883049  |\n",
       "| HLC_CEL_c35_R1 | -0.05116058 | 0.05574584  |\n",
       "| HLC_CEL_c36_R1 | -0.04434743 | 0.05185539  |\n",
       "| HLC_CEL_c37_R1 | -0.04342862 | 0.05311056  |\n",
       "| HLC_CEL_c38_R1 | -0.04174798 | 0.05289209  |\n",
       "| HLC_CEL_c39_R1 | -0.04162302 | 0.05313844  |\n",
       "| HLC_CEL_c4_R1 | -0.05672846 | 0.05778797  |\n",
       "| HLC_CEL_c40_R1 | -0.05710136 | 0.06369116  |\n",
       "| HLC_CEL_c41_R1 | -0.04760394 | 0.05742931  |\n",
       "| HLC_CEL_c42_R1 | -0.05202462 | 0.05575594  |\n",
       "| HLC_CEL_c43_R1 | -0.05376467 | 0.05532072  |\n",
       "| HLC_CEL_c44_R1 | -0.05123083 | 0.05313908  |\n",
       "| HLC_CEL_c45_R1 | -0.05340863 | 0.05867871  |\n",
       "| HLC_CEL_c46_R1 | -0.05164573 | 0.05326763  |\n",
       "| HLC_CEL_c47_R1 | -0.04173938 | 0.05009433  |\n",
       "| HLC_CEL_c48_R1 | -0.03635600 | 0.05041755  |\n",
       "| HLC_CEL_c49_R1 | -0.05346890 | 0.06087738  |\n",
       "| HLC_CEL_c5_R1 | -0.05419409 | 0.06051355  |\n",
       "| HLC_CEL_c50_R1 | -0.05643552 | 0.06059883  |\n",
       "| HLC_CEL_c51_R1 | -0.04848176 | 0.05195681  |\n",
       "| HLC_CEL_c52_R1 | -0.03511724 | 0.04189045  |\n",
       "| HLC_CEL_c53_R1 | -0.04376905 | 0.04960044  |\n",
       "| HLC_CEL_c54_R1 | -0.04850432 | 0.05229099  |\n",
       "| HLC_CEL_c55_R1 | -0.05582194 | 0.05813526  |\n",
       "| HLC_CEL_c56_R1 | -0.05631057 | 0.05700866  |\n",
       "\n"
      ],
      "text/plain": [
       "               min         max       \n",
       "HLC_CEL_c1_R1  -0.04778397 0.04942259\n",
       "HLC_CEL_c10_R1 -0.04498635 0.05020681\n",
       "HLC_CEL_c11_R1 -0.04839170 0.05024366\n",
       "HLC_CEL_c13_R1 -0.04801421 0.06011916\n",
       "HLC_CEL_c14_R1 -0.03158886 0.04699246\n",
       "HLC_CEL_c15_R1 -0.05363181 0.05975630\n",
       "HLC_CEL_c16_R1 -0.05734945 0.05220080\n",
       "HLC_CEL_c17_R1 -0.06041690 0.06436837\n",
       "HLC_CEL_c18_R1 -0.06165649 0.06048806\n",
       "HLC_CEL_c19_R1 -0.05450735 0.05493791\n",
       "HLC_CEL_c2_R1  -0.05571528 0.05700893\n",
       "HLC_CEL_c20_R1 -0.05360594 0.06126660\n",
       "HLC_CEL_c21_R1 -0.04535603 0.05094807\n",
       "HLC_CEL_c22_R1 -0.05453116 0.05791132\n",
       "HLC_CEL_c23_R1 -0.05932566 0.06406601\n",
       "HLC_CEL_c24_R1 -0.05802541 0.06320886\n",
       "HLC_CEL_c25_R1 -0.04927952 0.05591980\n",
       "HLC_CEL_c26_R1 -0.04870301 0.05202660\n",
       "HLC_CEL_c27_R1 -0.05320100 0.05591962\n",
       "HLC_CEL_c28_R1 -0.05062978 0.05595553\n",
       "HLC_CEL_c29_R1 -0.05269668 0.05638327\n",
       "HLC_CEL_c3_R1  -0.05040776 0.05691948\n",
       "HLC_CEL_c30_R1 -0.05117120 0.05357609\n",
       "HLC_CEL_c32_R1 -0.06460575 0.07579250\n",
       "HLC_CEL_c33_R1 -0.05695392 0.06255725\n",
       "HLC_CEL_c34_R1 -0.04516637 0.04883049\n",
       "HLC_CEL_c35_R1 -0.05116058 0.05574584\n",
       "HLC_CEL_c36_R1 -0.04434743 0.05185539\n",
       "HLC_CEL_c37_R1 -0.04342862 0.05311056\n",
       "HLC_CEL_c38_R1 -0.04174798 0.05289209\n",
       "HLC_CEL_c39_R1 -0.04162302 0.05313844\n",
       "HLC_CEL_c4_R1  -0.05672846 0.05778797\n",
       "HLC_CEL_c40_R1 -0.05710136 0.06369116\n",
       "HLC_CEL_c41_R1 -0.04760394 0.05742931\n",
       "HLC_CEL_c42_R1 -0.05202462 0.05575594\n",
       "HLC_CEL_c43_R1 -0.05376467 0.05532072\n",
       "HLC_CEL_c44_R1 -0.05123083 0.05313908\n",
       "HLC_CEL_c45_R1 -0.05340863 0.05867871\n",
       "HLC_CEL_c46_R1 -0.05164573 0.05326763\n",
       "HLC_CEL_c47_R1 -0.04173938 0.05009433\n",
       "HLC_CEL_c48_R1 -0.03635600 0.05041755\n",
       "HLC_CEL_c49_R1 -0.05346890 0.06087738\n",
       "HLC_CEL_c5_R1  -0.05419409 0.06051355\n",
       "HLC_CEL_c50_R1 -0.05643552 0.06059883\n",
       "HLC_CEL_c51_R1 -0.04848176 0.05195681\n",
       "HLC_CEL_c52_R1 -0.03511724 0.04189045\n",
       "HLC_CEL_c53_R1 -0.04376905 0.04960044\n",
       "HLC_CEL_c54_R1 -0.04850432 0.05229099\n",
       "HLC_CEL_c55_R1 -0.05582194 0.05813526\n",
       "HLC_CEL_c56_R1 -0.05631057 0.05700866"
      ]
     },
     "metadata": {},
     "output_type": "display_data"
    }
   ],
   "source": [
    "df <- data.frame(min= as.numeric(lapply(cors, FUN= min)), max= as.numeric(lapply(cors, FUN= max)))\n",
    "rownames(df) <- colnames(y)\n",
    "df[seq(50), ]"
   ]
  },
  {
   "cell_type": "markdown",
   "metadata": {},
   "source": [
    "## Plot histogram to have a more concise view of the correlation distributions"
   ]
  },
  {
   "cell_type": "code",
   "execution_count": 25,
   "metadata": {},
   "outputs": [
    {
     "data": {
      "image/png": "[encoded data removed]",
      "text/plain": [
       "Plot with title “all correlation values on filtered datasets”"
      ]
     },
     "metadata": {},
     "output_type": "display_data"
    }
   ],
   "source": [
    "hist(as.matrix(df), main= \"all correlation values on filtered datasets\", xlab= \"correlations\")"
   ]
  },
  {
   "cell_type": "markdown",
   "metadata": {},
   "source": [
    "# Bulk gene expression <a class= \"anchor\" id= \"bulk\"></a>"
   ]
  },
  {
   "cell_type": "markdown",
   "metadata": {},
   "source": [
    "## Read the bulk expression data\n",
    "I decided to work with the TPM data I generated myself by converting the read counts to TPM values, as the original TPM values sent by Kathrin wasn't showing a good correlation."
   ]
  },
  {
   "cell_type": "code",
   "execution_count": 26,
   "metadata": {},
   "outputs": [],
   "source": [
    "# bulk.rna <- read.table(\"/MMCI/MS/ExpRegulation/work/data/singleCell/iPCs_Kathrin/bulkRNAseq_TPM.txt\")\n",
    "\n",
    "bulk.rna <- read.csv(\"/MMCI/MS/ExpRegulation/work/data/singleCell/iPCs_Kathrin/bulkRNAseq_TPM_converted.csv\")\n",
    "rownames(bulk.rna) <- bulk.rna$X\n",
    "bulk.rna <- bulk.rna[, -1]"
   ]
  },
  {
   "cell_type": "code",
   "execution_count": 27,
   "metadata": {},
   "outputs": [
    {
     "data": {
      "text/html": [
       "<table>\n",
       "<thead><tr><th></th><th scope=col>CEL_R1_HLC</th><th scope=col>CEL_R2_HLC</th><th scope=col>CEL_R3_HLC</th><th scope=col>CEL_R4_HLC</th><th scope=col>HAY_R1_HLC</th><th scope=col>X41_Hm09_LiHe_Ct_mRNA_K_1</th><th scope=col>X41_Hm16_LiHe_Ct_mRNA_K_1</th><th scope=col>X41_Hm25_LiHe_Ct_mRNA_K_1</th><th scope=col>X41_Hf02_LiHe_Ct_mRNA_K_1</th><th scope=col>X41_Hf03_LiHe_Ct_mRNA_K_1</th><th scope=col>X41_Hf11_LiHe_St_mRNA_K_1</th></tr></thead>\n",
       "<tbody>\n",
       "\t<tr><th scope=row>ENSG00000000003</th><td>141.77763905</td><td>125.99175739</td><td>152.35437006</td><td>124.835864  </td><td>114.9411404 </td><td>51.3968045  </td><td>33.9430242  </td><td>43.807648162</td><td>23.59289823 </td><td>33.392843   </td><td>49.15157974 </td></tr>\n",
       "\t<tr><th scope=row>ENSG00000000005</th><td>  2.25748308</td><td>  1.93448369</td><td>  3.11671185</td><td>  1.606904  </td><td>  0.3171036 </td><td> 0.0000000  </td><td> 0.0000000  </td><td> 0.008498938</td><td> 0.04050946 </td><td> 0.000000   </td><td> 0.02103444 </td></tr>\n",
       "\t<tr><th scope=row>ENSG00000000419</th><td> 68.25441786</td><td> 92.95232739</td><td> 64.79050234</td><td> 58.325938  </td><td>140.8523232 </td><td>53.2049794  </td><td>43.1705366  </td><td>37.966311098</td><td>27.84152895 </td><td>47.931342   </td><td>69.41435928 </td></tr>\n",
       "\t<tr><th scope=row>ENSG00000000457</th><td>  4.23904426</td><td>  3.09547284</td><td>  4.39660520</td><td>  3.006963  </td><td>  5.2663247 </td><td> 8.2313089  </td><td> 5.2852810  </td><td> 5.755211962</td><td> 4.02474129 </td><td> 6.788159   </td><td> 7.29413550 </td></tr>\n",
       "\t<tr><th scope=row>ENSG00000000460</th><td>  1.32819395</td><td>  2.90635271</td><td>  1.60426024</td><td>  1.200657  </td><td>  4.7913626 </td><td> 1.5418638  </td><td> 2.0743050  </td><td> 1.942307097</td><td> 4.95955774 </td><td> 1.147432   </td><td> 1.69979944 </td></tr>\n",
       "\t<tr><th scope=row>ENSG00000000938</th><td>  0.07265376</td><td>  0.04075102</td><td>  0.08888723</td><td>  0.000000  </td><td>  1.1021952 </td><td> 0.9738455  </td><td> 0.9922475  </td><td> 0.244203790</td><td> 5.07362354 </td><td> 1.054751   </td><td> 0.40455277 </td></tr>\n",
       "</tbody>\n",
       "</table>\n"
      ],
      "text/latex": [
       "\\begin{tabular}{r|lllllllllll}\n",
       "  & CEL\\_R1\\_HLC & CEL\\_R2\\_HLC & CEL\\_R3\\_HLC & CEL\\_R4\\_HLC & HAY\\_R1\\_HLC & X41\\_Hm09\\_LiHe\\_Ct\\_mRNA\\_K\\_1 & X41\\_Hm16\\_LiHe\\_Ct\\_mRNA\\_K\\_1 & X41\\_Hm25\\_LiHe\\_Ct\\_mRNA\\_K\\_1 & X41\\_Hf02\\_LiHe\\_Ct\\_mRNA\\_K\\_1 & X41\\_Hf03\\_LiHe\\_Ct\\_mRNA\\_K\\_1 & X41\\_Hf11\\_LiHe\\_St\\_mRNA\\_K\\_1\\\\\n",
       "\\hline\n",
       "\tENSG00000000003 & 141.77763905 & 125.99175739 & 152.35437006 & 124.835864   & 114.9411404  & 51.3968045   & 33.9430242   & 43.807648162 & 23.59289823  & 33.392843    & 49.15157974 \\\\\n",
       "\tENSG00000000005 &   2.25748308 &   1.93448369 &   3.11671185 &   1.606904   &   0.3171036  &  0.0000000   &  0.0000000   &  0.008498938 &  0.04050946  &  0.000000    &  0.02103444 \\\\\n",
       "\tENSG00000000419 &  68.25441786 &  92.95232739 &  64.79050234 &  58.325938   & 140.8523232  & 53.2049794   & 43.1705366   & 37.966311098 & 27.84152895  & 47.931342    & 69.41435928 \\\\\n",
       "\tENSG00000000457 &   4.23904426 &   3.09547284 &   4.39660520 &   3.006963   &   5.2663247  &  8.2313089   &  5.2852810   &  5.755211962 &  4.02474129  &  6.788159    &  7.29413550 \\\\\n",
       "\tENSG00000000460 &   1.32819395 &   2.90635271 &   1.60426024 &   1.200657   &   4.7913626  &  1.5418638   &  2.0743050   &  1.942307097 &  4.95955774  &  1.147432    &  1.69979944 \\\\\n",
       "\tENSG00000000938 &   0.07265376 &   0.04075102 &   0.08888723 &   0.000000   &   1.1021952  &  0.9738455   &  0.9922475   &  0.244203790 &  5.07362354  &  1.054751    &  0.40455277 \\\\\n",
       "\\end{tabular}\n"
      ],
      "text/markdown": [
       "\n",
       "| <!--/--> | CEL_R1_HLC | CEL_R2_HLC | CEL_R3_HLC | CEL_R4_HLC | HAY_R1_HLC | X41_Hm09_LiHe_Ct_mRNA_K_1 | X41_Hm16_LiHe_Ct_mRNA_K_1 | X41_Hm25_LiHe_Ct_mRNA_K_1 | X41_Hf02_LiHe_Ct_mRNA_K_1 | X41_Hf03_LiHe_Ct_mRNA_K_1 | X41_Hf11_LiHe_St_mRNA_K_1 |\n",
       "|---|---|---|---|---|---|---|---|---|---|---|---|\n",
       "| ENSG00000000003 | 141.77763905 | 125.99175739 | 152.35437006 | 124.835864   | 114.9411404  | 51.3968045   | 33.9430242   | 43.807648162 | 23.59289823  | 33.392843    | 49.15157974  |\n",
       "| ENSG00000000005 |   2.25748308 |   1.93448369 |   3.11671185 |   1.606904   |   0.3171036  |  0.0000000   |  0.0000000   |  0.008498938 |  0.04050946  |  0.000000    |  0.02103444  |\n",
       "| ENSG00000000419 |  68.25441786 |  92.95232739 |  64.79050234 |  58.325938   | 140.8523232  | 53.2049794   | 43.1705366   | 37.966311098 | 27.84152895  | 47.931342    | 69.41435928  |\n",
       "| ENSG00000000457 |   4.23904426 |   3.09547284 |   4.39660520 |   3.006963   |   5.2663247  |  8.2313089   |  5.2852810   |  5.755211962 |  4.02474129  |  6.788159    |  7.29413550  |\n",
       "| ENSG00000000460 |   1.32819395 |   2.90635271 |   1.60426024 |   1.200657   |   4.7913626  |  1.5418638   |  2.0743050   |  1.942307097 |  4.95955774  |  1.147432    |  1.69979944  |\n",
       "| ENSG00000000938 |   0.07265376 |   0.04075102 |   0.08888723 |   0.000000   |   1.1021952  |  0.9738455   |  0.9922475   |  0.244203790 |  5.07362354  |  1.054751    |  0.40455277  |\n",
       "\n"
      ],
      "text/plain": [
       "                CEL_R1_HLC   CEL_R2_HLC   CEL_R3_HLC   CEL_R4_HLC HAY_R1_HLC \n",
       "ENSG00000000003 141.77763905 125.99175739 152.35437006 124.835864 114.9411404\n",
       "ENSG00000000005   2.25748308   1.93448369   3.11671185   1.606904   0.3171036\n",
       "ENSG00000000419  68.25441786  92.95232739  64.79050234  58.325938 140.8523232\n",
       "ENSG00000000457   4.23904426   3.09547284   4.39660520   3.006963   5.2663247\n",
       "ENSG00000000460   1.32819395   2.90635271   1.60426024   1.200657   4.7913626\n",
       "ENSG00000000938   0.07265376   0.04075102   0.08888723   0.000000   1.1021952\n",
       "                X41_Hm09_LiHe_Ct_mRNA_K_1 X41_Hm16_LiHe_Ct_mRNA_K_1\n",
       "ENSG00000000003 51.3968045                33.9430242               \n",
       "ENSG00000000005  0.0000000                 0.0000000               \n",
       "ENSG00000000419 53.2049794                43.1705366               \n",
       "ENSG00000000457  8.2313089                 5.2852810               \n",
       "ENSG00000000460  1.5418638                 2.0743050               \n",
       "ENSG00000000938  0.9738455                 0.9922475               \n",
       "                X41_Hm25_LiHe_Ct_mRNA_K_1 X41_Hf02_LiHe_Ct_mRNA_K_1\n",
       "ENSG00000000003 43.807648162              23.59289823              \n",
       "ENSG00000000005  0.008498938               0.04050946              \n",
       "ENSG00000000419 37.966311098              27.84152895              \n",
       "ENSG00000000457  5.755211962               4.02474129              \n",
       "ENSG00000000460  1.942307097               4.95955774              \n",
       "ENSG00000000938  0.244203790               5.07362354              \n",
       "                X41_Hf03_LiHe_Ct_mRNA_K_1 X41_Hf11_LiHe_St_mRNA_K_1\n",
       "ENSG00000000003 33.392843                 49.15157974              \n",
       "ENSG00000000005  0.000000                  0.02103444              \n",
       "ENSG00000000419 47.931342                 69.41435928              \n",
       "ENSG00000000457  6.788159                  7.29413550              \n",
       "ENSG00000000460  1.147432                  1.69979944              \n",
       "ENSG00000000938  1.054751                  0.40455277              "
      ]
     },
     "metadata": {},
     "output_type": "display_data"
    }
   ],
   "source": [
    "head(bulk.rna)"
   ]
  },
  {
   "cell_type": "markdown",
   "metadata": {},
   "source": [
    "## Load the feature data again"
   ]
  },
  {
   "cell_type": "code",
   "execution_count": 28,
   "metadata": {},
   "outputs": [],
   "source": [
    "load(\"../TF_promoter2.RData\")"
   ]
  },
  {
   "cell_type": "markdown",
   "metadata": {},
   "source": [
    "## Match the gene names between features and the bulk expression data"
   ]
  },
  {
   "cell_type": "code",
   "execution_count": 29,
   "metadata": {},
   "outputs": [],
   "source": [
    "full.data <- merge(bulk.rna, full.x, by= \"row.names\")\n",
    "data <- merge(bulk.rna, x, by= \"row.names\")\n",
    "\n",
    "rownames(full.data) <- full.data$Row.names\n",
    "full.data <- full.data[, -1]\n",
    "\n",
    "rownames(data) <- data$Row.names\n",
    "data <- data[, -1]"
   ]
  },
  {
   "cell_type": "code",
   "execution_count": 30,
   "metadata": {},
   "outputs": [
    {
     "data": {
      "text/html": [
       "<ol class=list-inline>\n",
       "\t<li>'ENSG00000282222'</li>\n",
       "\t<li>'ENSG00000282221'</li>\n",
       "\t<li>'ENSG00000110514'</li>\n",
       "\t<li>'ENSG00000086015'</li>\n",
       "\t<li>'ENSG00000211769'</li>\n",
       "\t<li>'ENSG00000211768'</li>\n",
       "</ol>\n"
      ],
      "text/latex": [
       "\\begin{enumerate*}\n",
       "\\item 'ENSG00000282222'\n",
       "\\item 'ENSG00000282221'\n",
       "\\item 'ENSG00000110514'\n",
       "\\item 'ENSG00000086015'\n",
       "\\item 'ENSG00000211769'\n",
       "\\item 'ENSG00000211768'\n",
       "\\end{enumerate*}\n"
      ],
      "text/markdown": [
       "1. 'ENSG00000282222'\n",
       "2. 'ENSG00000282221'\n",
       "3. 'ENSG00000110514'\n",
       "4. 'ENSG00000086015'\n",
       "5. 'ENSG00000211769'\n",
       "6. 'ENSG00000211768'\n",
       "\n",
       "\n"
      ],
      "text/plain": [
       "[1] \"ENSG00000282222\" \"ENSG00000282221\" \"ENSG00000110514\" \"ENSG00000086015\"\n",
       "[5] \"ENSG00000211769\" \"ENSG00000211768\""
      ]
     },
     "metadata": {},
     "output_type": "display_data"
    }
   ],
   "source": [
    "head(rownames(full.x))"
   ]
  },
  {
   "cell_type": "markdown",
   "metadata": {},
   "source": [
    "## Log-transform the bulk expressio data"
   ]
  },
  {
   "cell_type": "code",
   "execution_count": 31,
   "metadata": {},
   "outputs": [],
   "source": [
    "full.bulk <- log2(1 + full.data[, seq(ncol(bulk.rna))])\n",
    "full.x <- full.data[, -seq(ncol(full.bulk))]\n",
    "\n",
    "bulk <- log2(1 + data[, seq(ncol(bulk.rna))])\n",
    "x <- data[, -seq(ncol(bulk.rna))]"
   ]
  },
  {
   "cell_type": "code",
   "execution_count": 32,
   "metadata": {},
   "outputs": [
    {
     "data": {
      "text/html": [
       "TRUE"
      ],
      "text/latex": [
       "TRUE"
      ],
      "text/markdown": [
       "TRUE"
      ],
      "text/plain": [
       "[1] TRUE"
      ]
     },
     "metadata": {},
     "output_type": "display_data"
    }
   ],
   "source": [
    "all.equal(rownames(full.x), rownames(full.bulk))"
   ]
  },
  {
   "cell_type": "code",
   "execution_count": 33,
   "metadata": {},
   "outputs": [
    {
     "data": {
      "text/html": [
       "<ol class=list-inline>\n",
       "\t<li>'ENSG00000000003'</li>\n",
       "\t<li>'ENSG00000000005'</li>\n",
       "\t<li>'ENSG00000000419'</li>\n",
       "\t<li>'ENSG00000000457'</li>\n",
       "\t<li>'ENSG00000000460'</li>\n",
       "\t<li>'ENSG00000000971'</li>\n",
       "</ol>\n"
      ],
      "text/latex": [
       "\\begin{enumerate*}\n",
       "\\item 'ENSG00000000003'\n",
       "\\item 'ENSG00000000005'\n",
       "\\item 'ENSG00000000419'\n",
       "\\item 'ENSG00000000457'\n",
       "\\item 'ENSG00000000460'\n",
       "\\item 'ENSG00000000971'\n",
       "\\end{enumerate*}\n"
      ],
      "text/markdown": [
       "1. 'ENSG00000000003'\n",
       "2. 'ENSG00000000005'\n",
       "3. 'ENSG00000000419'\n",
       "4. 'ENSG00000000457'\n",
       "5. 'ENSG00000000460'\n",
       "6. 'ENSG00000000971'\n",
       "\n",
       "\n"
      ],
      "text/plain": [
       "[1] \"ENSG00000000003\" \"ENSG00000000005\" \"ENSG00000000419\" \"ENSG00000000457\"\n",
       "[5] \"ENSG00000000460\" \"ENSG00000000971\""
      ]
     },
     "metadata": {},
     "output_type": "display_data"
    },
    {
     "data": {
      "text/html": [
       "<ol class=list-inline>\n",
       "\t<li>'ENSG00000000003'</li>\n",
       "\t<li>'ENSG00000000005'</li>\n",
       "\t<li>'ENSG00000000419'</li>\n",
       "\t<li>'ENSG00000000457'</li>\n",
       "\t<li>'ENSG00000000460'</li>\n",
       "\t<li>'ENSG00000000971'</li>\n",
       "</ol>\n"
      ],
      "text/latex": [
       "\\begin{enumerate*}\n",
       "\\item 'ENSG00000000003'\n",
       "\\item 'ENSG00000000005'\n",
       "\\item 'ENSG00000000419'\n",
       "\\item 'ENSG00000000457'\n",
       "\\item 'ENSG00000000460'\n",
       "\\item 'ENSG00000000971'\n",
       "\\end{enumerate*}\n"
      ],
      "text/markdown": [
       "1. 'ENSG00000000003'\n",
       "2. 'ENSG00000000005'\n",
       "3. 'ENSG00000000419'\n",
       "4. 'ENSG00000000457'\n",
       "5. 'ENSG00000000460'\n",
       "6. 'ENSG00000000971'\n",
       "\n",
       "\n"
      ],
      "text/plain": [
       "[1] \"ENSG00000000003\" \"ENSG00000000005\" \"ENSG00000000419\" \"ENSG00000000457\"\n",
       "[5] \"ENSG00000000460\" \"ENSG00000000971\""
      ]
     },
     "metadata": {},
     "output_type": "display_data"
    },
    {
     "data": {
      "text/html": [
       "TRUE"
      ],
      "text/latex": [
       "TRUE"
      ],
      "text/markdown": [
       "TRUE"
      ],
      "text/plain": [
       "[1] TRUE"
      ]
     },
     "metadata": {},
     "output_type": "display_data"
    }
   ],
   "source": [
    "head(rownames(x))\n",
    "head(rownames(bulk))\n",
    "all.equal(rownames(x), rownames(bulk))"
   ]
  },
  {
   "cell_type": "code",
   "execution_count": 34,
   "metadata": {},
   "outputs": [
    {
     "name": "stdout",
     "output_type": "stream",
     "text": [
      "[1] 13906   452\n",
      "[1] 13906    11\n"
     ]
    }
   ],
   "source": [
    "print(dim(x))\n",
    "print(dim(bulk))"
   ]
  },
  {
   "cell_type": "markdown",
   "metadata": {},
   "source": [
    "## Correlations on full datasets"
   ]
  },
  {
   "cell_type": "code",
   "execution_count": 35,
   "metadata": {},
   "outputs": [],
   "source": [
    "full.cors <- list()\n",
    "for(i in seq(ncol(full.bulk)))\n",
    "    full.cors[[i]] <- sapply(seq(ncol(full.x)), function(j)cor(full.x[, j], full.bulk[, i]))"
   ]
  },
  {
   "cell_type": "code",
   "execution_count": 36,
   "metadata": {},
   "outputs": [
    {
     "data": {
      "text/html": [
       "<table>\n",
       "<thead><tr><th></th><th scope=col>min_cor</th><th scope=col>max_cor</th></tr></thead>\n",
       "<tbody>\n",
       "\t<tr><th scope=row>CEL_R1_HLC</th><td>-0.1873557</td><td>0.3279683 </td></tr>\n",
       "\t<tr><th scope=row>CEL_R2_HLC</th><td>-0.1908662</td><td>0.3351633 </td></tr>\n",
       "\t<tr><th scope=row>CEL_R3_HLC</th><td>-0.1845152</td><td>0.3218288 </td></tr>\n",
       "\t<tr><th scope=row>CEL_R4_HLC</th><td>-0.1864353</td><td>0.3252894 </td></tr>\n",
       "\t<tr><th scope=row>HAY_R1_HLC</th><td>-0.2101426</td><td>0.3563037 </td></tr>\n",
       "\t<tr><th scope=row>X41_Hm09_LiHe_Ct_mRNA_K_1</th><td>-0.1535480</td><td>0.3361905 </td></tr>\n",
       "\t<tr><th scope=row>X41_Hm16_LiHe_Ct_mRNA_K_1</th><td>-0.1538151</td><td>0.3302623 </td></tr>\n",
       "\t<tr><th scope=row>X41_Hm25_LiHe_Ct_mRNA_K_1</th><td>-0.1638683</td><td>0.3430856 </td></tr>\n",
       "\t<tr><th scope=row>X41_Hf02_LiHe_Ct_mRNA_K_1</th><td>-0.1800834</td><td>0.3436168 </td></tr>\n",
       "\t<tr><th scope=row>X41_Hf03_LiHe_Ct_mRNA_K_1</th><td>-0.1611542</td><td>0.3518796 </td></tr>\n",
       "\t<tr><th scope=row>X41_Hf11_LiHe_St_mRNA_K_1</th><td>-0.1538577</td><td>0.3443761 </td></tr>\n",
       "</tbody>\n",
       "</table>\n"
      ],
      "text/latex": [
       "\\begin{tabular}{r|ll}\n",
       "  & min\\_cor & max\\_cor\\\\\n",
       "\\hline\n",
       "\tCEL\\_R1\\_HLC & -0.1873557 & 0.3279683 \\\\\n",
       "\tCEL\\_R2\\_HLC & -0.1908662 & 0.3351633 \\\\\n",
       "\tCEL\\_R3\\_HLC & -0.1845152 & 0.3218288 \\\\\n",
       "\tCEL\\_R4\\_HLC & -0.1864353 & 0.3252894 \\\\\n",
       "\tHAY\\_R1\\_HLC & -0.2101426 & 0.3563037 \\\\\n",
       "\tX41\\_Hm09\\_LiHe\\_Ct\\_mRNA\\_K\\_1 & -0.1535480 & 0.3361905 \\\\\n",
       "\tX41\\_Hm16\\_LiHe\\_Ct\\_mRNA\\_K\\_1 & -0.1538151 & 0.3302623 \\\\\n",
       "\tX41\\_Hm25\\_LiHe\\_Ct\\_mRNA\\_K\\_1 & -0.1638683 & 0.3430856 \\\\\n",
       "\tX41\\_Hf02\\_LiHe\\_Ct\\_mRNA\\_K\\_1 & -0.1800834 & 0.3436168 \\\\\n",
       "\tX41\\_Hf03\\_LiHe\\_Ct\\_mRNA\\_K\\_1 & -0.1611542 & 0.3518796 \\\\\n",
       "\tX41\\_Hf11\\_LiHe\\_St\\_mRNA\\_K\\_1 & -0.1538577 & 0.3443761 \\\\\n",
       "\\end{tabular}\n"
      ],
      "text/markdown": [
       "\n",
       "| <!--/--> | min_cor | max_cor |\n",
       "|---|---|---|\n",
       "| CEL_R1_HLC | -0.1873557 | 0.3279683  |\n",
       "| CEL_R2_HLC | -0.1908662 | 0.3351633  |\n",
       "| CEL_R3_HLC | -0.1845152 | 0.3218288  |\n",
       "| CEL_R4_HLC | -0.1864353 | 0.3252894  |\n",
       "| HAY_R1_HLC | -0.2101426 | 0.3563037  |\n",
       "| X41_Hm09_LiHe_Ct_mRNA_K_1 | -0.1535480 | 0.3361905  |\n",
       "| X41_Hm16_LiHe_Ct_mRNA_K_1 | -0.1538151 | 0.3302623  |\n",
       "| X41_Hm25_LiHe_Ct_mRNA_K_1 | -0.1638683 | 0.3430856  |\n",
       "| X41_Hf02_LiHe_Ct_mRNA_K_1 | -0.1800834 | 0.3436168  |\n",
       "| X41_Hf03_LiHe_Ct_mRNA_K_1 | -0.1611542 | 0.3518796  |\n",
       "| X41_Hf11_LiHe_St_mRNA_K_1 | -0.1538577 | 0.3443761  |\n",
       "\n"
      ],
      "text/plain": [
       "                          min_cor    max_cor  \n",
       "CEL_R1_HLC                -0.1873557 0.3279683\n",
       "CEL_R2_HLC                -0.1908662 0.3351633\n",
       "CEL_R3_HLC                -0.1845152 0.3218288\n",
       "CEL_R4_HLC                -0.1864353 0.3252894\n",
       "HAY_R1_HLC                -0.2101426 0.3563037\n",
       "X41_Hm09_LiHe_Ct_mRNA_K_1 -0.1535480 0.3361905\n",
       "X41_Hm16_LiHe_Ct_mRNA_K_1 -0.1538151 0.3302623\n",
       "X41_Hm25_LiHe_Ct_mRNA_K_1 -0.1638683 0.3430856\n",
       "X41_Hf02_LiHe_Ct_mRNA_K_1 -0.1800834 0.3436168\n",
       "X41_Hf03_LiHe_Ct_mRNA_K_1 -0.1611542 0.3518796\n",
       "X41_Hf11_LiHe_St_mRNA_K_1 -0.1538577 0.3443761"
      ]
     },
     "metadata": {},
     "output_type": "display_data"
    }
   ],
   "source": [
    "df.full <- data.frame(min_cor= as.numeric(lapply(full.cors, FUN= min)), max_cor= as.numeric(lapply(full.cors, FUN= max)))\n",
    "rownames(df.full) <- colnames(bulk.rna)\n",
    "df.full"
   ]
  },
  {
   "cell_type": "markdown",
   "metadata": {},
   "source": [
    "## Correlations on filtered datasets"
   ]
  },
  {
   "cell_type": "code",
   "execution_count": 37,
   "metadata": {},
   "outputs": [],
   "source": [
    "cors <- list()\n",
    "for(i in seq(ncol(bulk)))\n",
    "    cors[[i]] <- sapply(seq(ncol(x)), function(j)cor(x[, j], bulk[, i]))"
   ]
  },
  {
   "cell_type": "code",
   "execution_count": 38,
   "metadata": {},
   "outputs": [
    {
     "data": {
      "text/html": [
       "<table>\n",
       "<thead><tr><th></th><th scope=col>min</th><th scope=col>max</th></tr></thead>\n",
       "<tbody>\n",
       "\t<tr><th scope=row>CEL_R1_HLC</th><td>-0.2031512</td><td>0.2370884 </td></tr>\n",
       "\t<tr><th scope=row>CEL_R2_HLC</th><td>-0.2069644</td><td>0.2492576 </td></tr>\n",
       "\t<tr><th scope=row>CEL_R3_HLC</th><td>-0.1978892</td><td>0.2328433 </td></tr>\n",
       "\t<tr><th scope=row>CEL_R4_HLC</th><td>-0.2035162</td><td>0.2378997 </td></tr>\n",
       "\t<tr><th scope=row>HAY_R1_HLC</th><td>-0.2137296</td><td>0.2703384 </td></tr>\n",
       "\t<tr><th scope=row>X41_Hm09_LiHe_Ct_mRNA_K_1</th><td>-0.1325808</td><td>0.2193187 </td></tr>\n",
       "\t<tr><th scope=row>X41_Hm16_LiHe_Ct_mRNA_K_1</th><td>-0.1338424</td><td>0.2113603 </td></tr>\n",
       "\t<tr><th scope=row>X41_Hm25_LiHe_Ct_mRNA_K_1</th><td>-0.1475083</td><td>0.2271533 </td></tr>\n",
       "\t<tr><th scope=row>X41_Hf02_LiHe_Ct_mRNA_K_1</th><td>-0.1758160</td><td>0.2531224 </td></tr>\n",
       "\t<tr><th scope=row>X41_Hf03_LiHe_Ct_mRNA_K_1</th><td>-0.1473936</td><td>0.2410930 </td></tr>\n",
       "\t<tr><th scope=row>X41_Hf11_LiHe_St_mRNA_K_1</th><td>-0.1337402</td><td>0.2291518 </td></tr>\n",
       "</tbody>\n",
       "</table>\n"
      ],
      "text/latex": [
       "\\begin{tabular}{r|ll}\n",
       "  & min & max\\\\\n",
       "\\hline\n",
       "\tCEL\\_R1\\_HLC & -0.2031512 & 0.2370884 \\\\\n",
       "\tCEL\\_R2\\_HLC & -0.2069644 & 0.2492576 \\\\\n",
       "\tCEL\\_R3\\_HLC & -0.1978892 & 0.2328433 \\\\\n",
       "\tCEL\\_R4\\_HLC & -0.2035162 & 0.2378997 \\\\\n",
       "\tHAY\\_R1\\_HLC & -0.2137296 & 0.2703384 \\\\\n",
       "\tX41\\_Hm09\\_LiHe\\_Ct\\_mRNA\\_K\\_1 & -0.1325808 & 0.2193187 \\\\\n",
       "\tX41\\_Hm16\\_LiHe\\_Ct\\_mRNA\\_K\\_1 & -0.1338424 & 0.2113603 \\\\\n",
       "\tX41\\_Hm25\\_LiHe\\_Ct\\_mRNA\\_K\\_1 & -0.1475083 & 0.2271533 \\\\\n",
       "\tX41\\_Hf02\\_LiHe\\_Ct\\_mRNA\\_K\\_1 & -0.1758160 & 0.2531224 \\\\\n",
       "\tX41\\_Hf03\\_LiHe\\_Ct\\_mRNA\\_K\\_1 & -0.1473936 & 0.2410930 \\\\\n",
       "\tX41\\_Hf11\\_LiHe\\_St\\_mRNA\\_K\\_1 & -0.1337402 & 0.2291518 \\\\\n",
       "\\end{tabular}\n"
      ],
      "text/markdown": [
       "\n",
       "| <!--/--> | min | max |\n",
       "|---|---|---|\n",
       "| CEL_R1_HLC | -0.2031512 | 0.2370884  |\n",
       "| CEL_R2_HLC | -0.2069644 | 0.2492576  |\n",
       "| CEL_R3_HLC | -0.1978892 | 0.2328433  |\n",
       "| CEL_R4_HLC | -0.2035162 | 0.2378997  |\n",
       "| HAY_R1_HLC | -0.2137296 | 0.2703384  |\n",
       "| X41_Hm09_LiHe_Ct_mRNA_K_1 | -0.1325808 | 0.2193187  |\n",
       "| X41_Hm16_LiHe_Ct_mRNA_K_1 | -0.1338424 | 0.2113603  |\n",
       "| X41_Hm25_LiHe_Ct_mRNA_K_1 | -0.1475083 | 0.2271533  |\n",
       "| X41_Hf02_LiHe_Ct_mRNA_K_1 | -0.1758160 | 0.2531224  |\n",
       "| X41_Hf03_LiHe_Ct_mRNA_K_1 | -0.1473936 | 0.2410930  |\n",
       "| X41_Hf11_LiHe_St_mRNA_K_1 | -0.1337402 | 0.2291518  |\n",
       "\n"
      ],
      "text/plain": [
       "                          min        max      \n",
       "CEL_R1_HLC                -0.2031512 0.2370884\n",
       "CEL_R2_HLC                -0.2069644 0.2492576\n",
       "CEL_R3_HLC                -0.1978892 0.2328433\n",
       "CEL_R4_HLC                -0.2035162 0.2378997\n",
       "HAY_R1_HLC                -0.2137296 0.2703384\n",
       "X41_Hm09_LiHe_Ct_mRNA_K_1 -0.1325808 0.2193187\n",
       "X41_Hm16_LiHe_Ct_mRNA_K_1 -0.1338424 0.2113603\n",
       "X41_Hm25_LiHe_Ct_mRNA_K_1 -0.1475083 0.2271533\n",
       "X41_Hf02_LiHe_Ct_mRNA_K_1 -0.1758160 0.2531224\n",
       "X41_Hf03_LiHe_Ct_mRNA_K_1 -0.1473936 0.2410930\n",
       "X41_Hf11_LiHe_St_mRNA_K_1 -0.1337402 0.2291518"
      ]
     },
     "metadata": {},
     "output_type": "display_data"
    }
   ],
   "source": [
    "df <- data.frame(min= as.numeric(lapply(cors, FUN= min)), max= as.numeric(lapply(cors, FUN= max)))\n",
    "rownames(df) <- colnames(bulk.rna)\n",
    "df"
   ]
  },
  {
   "cell_type": "markdown",
   "metadata": {},
   "source": [
    "# Conclusion\n",
    "* The aim was to look for linear relationship between the TF binding affinity scores as features and single cell/bulk measurements of gene expression as response by computing the correlation between the two.\n",
    "* The unfiltered (full) and filtered datasets were consideted to examine such associasions. However, none showed any descent correlation.\n",
    "* The correlations values computed on the full datasets showed a descent range between -0.1 and 0.3, however on the filtered data the values drop drastically; a range between -0.1 and 0.1\n",
    "* It's worth noting that these static features are not perfect representitves of the transcription dynamics, therefore one should not expect good correlations, and thus training a statistical model would have a better saying on the contributions of TFs in gene expression. The tree-guided MTL and neural networks trained on the single cells did not show any satisfactory results. However, I'll be testing neural networks on the bulk gene expression data to rule out any doubt with this regard.\n",
    "* For the bulk experiments, I switched from the TPM data sent by Kathrin to the one converted by myself (from read counts to TPM) and that made the correlations much better. With the original TPM values that was sent by Kathrin (data not shown) the correlations were at max 0.09 (mostly around 0.02) but with the converted TPM data made by me, the correlation values are much better (above 0.3 for the unfiltered data)"
   ]
  }
 ],
 "metadata": {
  "kernelspec": {
   "display_name": "R",
   "language": "R",
   "name": "ir"
  },
  "language_info": {
   "codemirror_mode": "r",
   "file_extension": ".r",
   "mimetype": "text/x-r-source",
   "name": "R",
   "pygments_lexer": "r",
   "version": "3.4.0"
  }
 },
 "nbformat": 4,
 "nbformat_minor": 2
}
