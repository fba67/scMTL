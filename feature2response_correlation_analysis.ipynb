{
 "cells": [
  {
   "cell_type": "markdown",
   "metadata": {},
   "source": [
    "# Analyze the correlation between features and response\n",
    "Since the trained statistical models did not meet our expectatoins regarding establishing a meaningful association between the TF affinity scores as features and gene expression as response, we decided to take a deeper look at the link(s) between these two quantities."
   ]
  },
  {
   "cell_type": "markdown",
   "metadata": {},
   "source": [
    "## Load the feature data"
   ]
  },
  {
   "cell_type": "code",
   "execution_count": 1,
   "metadata": {},
   "outputs": [],
   "source": [
    "load(\"../TF_promoter.RData\")"
   ]
  },
  {
   "cell_type": "code",
   "execution_count": 2,
   "metadata": {},
   "outputs": [
    {
     "name": "stdout",
     "output_type": "stream",
     "text": [
      "[1] \"full.x\" \"x\"     \n"
     ]
    }
   ],
   "source": [
    "print(ls())"
   ]
  },
  {
   "cell_type": "markdown",
   "metadata": {},
   "source": [
    "The **full.x** variable contains the unfiltered samples (genes), wherease the **x** has only those that survived the gene expression variance filtering explained in [iPCs data and tree-guided MTL results notebook](https://github.com/fba67/scMTL/blob/master/sc_iPCs.ipynb). I decided to include the full gene set as well to assure that this lack of association we've observed between the features and responses wasn't due to any other preprocessing steps."
   ]
  },
  {
   "cell_type": "code",
   "execution_count": 3,
   "metadata": {},
   "outputs": [
    {
     "name": "stdout",
     "output_type": "stream",
     "text": [
      "[1] 56984   726\n",
      "[1] 13906   464\n"
     ]
    }
   ],
   "source": [
    "print(dim(full.x))\n",
    "print(dim(x))"
   ]
  },
  {
   "cell_type": "markdown",
   "metadata": {},
   "source": [
    "## Print the range of data\n",
    "The features data are log-transformed before-hand when dumped into the RData file."
   ]
  },
  {
   "cell_type": "code",
   "execution_count": 4,
   "metadata": {},
   "outputs": [
    {
     "name": "stdout",
     "output_type": "stream",
     "text": [
      "[1] 0.0000000 0.7455161\n",
      "[1] 0.000000 1.143897\n"
     ]
    }
   ],
   "source": [
    "print(range(x))\n",
    "print(range(full.x))"
   ]
  },
  {
   "cell_type": "markdown",
   "metadata": {},
   "source": [
    "## Types of gene expression measurements (response)\n",
    "We had initiated the problem by approaching the single cell gene expression as the responses. However, we decided to look into the bulk RNA-seq available for the same cell types provided by Kathrin. Here, we're goining to investigate their correlation with features for both single cell and bulk measurements of gene expression.\n",
    "\n",
    "* [Single cell gene expression](#sc)\n",
    "* [Bulk gene expression](#bulk)"
   ]
  },
  {
   "cell_type": "markdown",
   "metadata": {},
   "source": [
    "# Single cell gene expression <a class= \"anchor\" id= \"SC\"></a>"
   ]
  },
  {
   "cell_type": "markdown",
   "metadata": {},
   "source": [
    "## Read the response (imputed sc gene expression)"
   ]
  },
  {
   "cell_type": "code",
   "execution_count": 5,
   "metadata": {},
   "outputs": [],
   "source": [
    "full.y <- read.csv(\"/MMCI/MS/ExpRegulation/work/data/singleCell/iPCs_Kathrin/scImpute/StemNet_readCounts_Kclust2scimpute_count.csv\")\n",
    "y <- read.csv(\"../scMTL_StemNet_imputed_TPM_response_reduced_var.txt\")\n",
    "\n",
    "rownames(full.y) <- full.y$X\n",
    "full.y <- full.y[, -1]\n",
    "\n",
    "rownames(y) <- y$X\n",
    "y <- y[, -1]"
   ]
  },
  {
   "cell_type": "code",
   "execution_count": 6,
   "metadata": {},
   "outputs": [
    {
     "name": "stdout",
     "output_type": "stream",
     "text": [
      "[1] 60525   657\n",
      "[1] 13906   640\n"
     ]
    }
   ],
   "source": [
    "print(dim(full.y))\n",
    "print(dim(y))"
   ]
  },
  {
   "cell_type": "markdown",
   "metadata": {},
   "source": [
    "## Find the overlapping genes (full)"
   ]
  },
  {
   "cell_type": "code",
   "execution_count": 7,
   "metadata": {},
   "outputs": [],
   "source": [
    "full.data <- merge(full.x, full.y, by= \"row.names\")\n",
    "data <- merge(x, y, by= \"row.names\")"
   ]
  },
  {
   "cell_type": "code",
   "execution_count": 8,
   "metadata": {},
   "outputs": [],
   "source": [
    "rownames(full.data) <- full.data$Row.names\n",
    "full.data <- full.data[, -1]\n",
    "\n",
    "rownames(data) <- data$Row.names\n",
    "data <- data[, -1]"
   ]
  },
  {
   "cell_type": "code",
   "execution_count": 9,
   "metadata": {},
   "outputs": [
    {
     "data": {
      "text/html": [
       "<ol class=list-inline>\n",
       "\t<li>56984</li>\n",
       "\t<li>1383</li>\n",
       "</ol>\n"
      ],
      "text/latex": [
       "\\begin{enumerate*}\n",
       "\\item 56984\n",
       "\\item 1383\n",
       "\\end{enumerate*}\n"
      ],
      "text/markdown": [
       "1. 56984\n",
       "2. 1383\n",
       "\n",
       "\n"
      ],
      "text/plain": [
       "[1] 56984  1383"
      ]
     },
     "metadata": {},
     "output_type": "display_data"
    },
    {
     "data": {
      "text/html": [
       "<ol class=list-inline>\n",
       "\t<li>13906</li>\n",
       "\t<li>1104</li>\n",
       "</ol>\n"
      ],
      "text/latex": [
       "\\begin{enumerate*}\n",
       "\\item 13906\n",
       "\\item 1104\n",
       "\\end{enumerate*}\n"
      ],
      "text/markdown": [
       "1. 13906\n",
       "2. 1104\n",
       "\n",
       "\n"
      ],
      "text/plain": [
       "[1] 13906  1104"
      ]
     },
     "metadata": {},
     "output_type": "display_data"
    }
   ],
   "source": [
    "dim(full.data)\n",
    "dim(data)"
   ]
  },
  {
   "cell_type": "markdown",
   "metadata": {},
   "source": [
    "## Adjust the data variables based on the overlapping genes found above\n",
    "split the merged dataset into the x and y variables"
   ]
  },
  {
   "cell_type": "code",
   "execution_count": 10,
   "metadata": {},
   "outputs": [],
   "source": [
    "full.x <- full.data[, seq(ncol(full.x))]\n",
    "full.y <- full.data[, seq(1 + ncol(full.x), ncol(full.data))]"
   ]
  },
  {
   "cell_type": "code",
   "execution_count": 11,
   "metadata": {},
   "outputs": [
    {
     "data": {
      "text/html": [
       "TRUE"
      ],
      "text/latex": [
       "TRUE"
      ],
      "text/markdown": [
       "TRUE"
      ],
      "text/plain": [
       "[1] TRUE"
      ]
     },
     "metadata": {},
     "output_type": "display_data"
    }
   ],
   "source": [
    "all.equal(rownames(full.x), rownames(full.y))"
   ]
  },
  {
   "cell_type": "code",
   "execution_count": 12,
   "metadata": {},
   "outputs": [],
   "source": [
    "x <- data[, seq(ncol(x))]\n",
    "y <- data[, seq(1 + ncol(x), ncol(data))]"
   ]
  },
  {
   "cell_type": "code",
   "execution_count": 13,
   "metadata": {},
   "outputs": [
    {
     "data": {
      "text/html": [
       "TRUE"
      ],
      "text/latex": [
       "TRUE"
      ],
      "text/markdown": [
       "TRUE"
      ],
      "text/plain": [
       "[1] TRUE"
      ]
     },
     "metadata": {},
     "output_type": "display_data"
    }
   ],
   "source": [
    "all.equal(rownames(x), rownames(y))"
   ]
  },
  {
   "cell_type": "code",
   "execution_count": 14,
   "metadata": {},
   "outputs": [
    {
     "data": {
      "text/html": [
       "<ol class=list-inline>\n",
       "\t<li>56984</li>\n",
       "\t<li>726</li>\n",
       "</ol>\n"
      ],
      "text/latex": [
       "\\begin{enumerate*}\n",
       "\\item 56984\n",
       "\\item 726\n",
       "\\end{enumerate*}\n"
      ],
      "text/markdown": [
       "1. 56984\n",
       "2. 726\n",
       "\n",
       "\n"
      ],
      "text/plain": [
       "[1] 56984   726"
      ]
     },
     "metadata": {},
     "output_type": "display_data"
    },
    {
     "data": {
      "text/html": [
       "<ol class=list-inline>\n",
       "\t<li>56984</li>\n",
       "\t<li>657</li>\n",
       "</ol>\n"
      ],
      "text/latex": [
       "\\begin{enumerate*}\n",
       "\\item 56984\n",
       "\\item 657\n",
       "\\end{enumerate*}\n"
      ],
      "text/markdown": [
       "1. 56984\n",
       "2. 657\n",
       "\n",
       "\n"
      ],
      "text/plain": [
       "[1] 56984   657"
      ]
     },
     "metadata": {},
     "output_type": "display_data"
    },
    {
     "data": {
      "text/html": [
       "<ol class=list-inline>\n",
       "\t<li>13906</li>\n",
       "\t<li>464</li>\n",
       "</ol>\n"
      ],
      "text/latex": [
       "\\begin{enumerate*}\n",
       "\\item 13906\n",
       "\\item 464\n",
       "\\end{enumerate*}\n"
      ],
      "text/markdown": [
       "1. 13906\n",
       "2. 464\n",
       "\n",
       "\n"
      ],
      "text/plain": [
       "[1] 13906   464"
      ]
     },
     "metadata": {},
     "output_type": "display_data"
    },
    {
     "data": {
      "text/html": [
       "<ol class=list-inline>\n",
       "\t<li>13906</li>\n",
       "\t<li>640</li>\n",
       "</ol>\n"
      ],
      "text/latex": [
       "\\begin{enumerate*}\n",
       "\\item 13906\n",
       "\\item 640\n",
       "\\end{enumerate*}\n"
      ],
      "text/markdown": [
       "1. 13906\n",
       "2. 640\n",
       "\n",
       "\n"
      ],
      "text/plain": [
       "[1] 13906   640"
      ]
     },
     "metadata": {},
     "output_type": "display_data"
    }
   ],
   "source": [
    "dim(full.x)\n",
    "dim(full.y)\n",
    "dim(x)\n",
    "dim(y)"
   ]
  },
  {
   "cell_type": "code",
   "execution_count": 15,
   "metadata": {},
   "outputs": [
    {
     "data": {
      "text/html": [
       "<table>\n",
       "<thead><tr><th></th><th scope=col>AHR..ARNT</th><th scope=col>DDIT3..CEBPA</th><th scope=col>MAX..MYC</th><th scope=col>PPARG..RXRA</th><th scope=col>RXRA..VDR</th></tr></thead>\n",
       "<tbody>\n",
       "\t<tr><th scope=row>ENSG00000000003</th><td>0.0006853000</td><td>0.0025808288</td><td>2.020445e-05</td><td>6.041068e-05</td><td>8.409835e-05</td></tr>\n",
       "\t<tr><th scope=row>ENSG00000000005</th><td>0.0006148164</td><td>0.0002469801</td><td>3.310350e-06</td><td>1.020107e-05</td><td>2.971438e-06</td></tr>\n",
       "\t<tr><th scope=row>ENSG00000000419</th><td>0.0394694687</td><td>0.0013199393</td><td>9.261950e-04</td><td>9.143963e-04</td><td>3.916165e-05</td></tr>\n",
       "\t<tr><th scope=row>ENSG00000000457</th><td>0.0038627042</td><td>0.0001221161</td><td>6.589233e-05</td><td>3.095366e-03</td><td>3.311621e-05</td></tr>\n",
       "\t<tr><th scope=row>ENSG00000000460</th><td>0.0000000000</td><td>0.0000000000</td><td>0.000000e+00</td><td>0.000000e+00</td><td>0.000000e+00</td></tr>\n",
       "</tbody>\n",
       "</table>\n"
      ],
      "text/latex": [
       "\\begin{tabular}{r|lllll}\n",
       "  & AHR..ARNT & DDIT3..CEBPA & MAX..MYC & PPARG..RXRA & RXRA..VDR\\\\\n",
       "\\hline\n",
       "\tENSG00000000003 & 0.0006853000 & 0.0025808288 & 2.020445e-05 & 6.041068e-05 & 8.409835e-05\\\\\n",
       "\tENSG00000000005 & 0.0006148164 & 0.0002469801 & 3.310350e-06 & 1.020107e-05 & 2.971438e-06\\\\\n",
       "\tENSG00000000419 & 0.0394694687 & 0.0013199393 & 9.261950e-04 & 9.143963e-04 & 3.916165e-05\\\\\n",
       "\tENSG00000000457 & 0.0038627042 & 0.0001221161 & 6.589233e-05 & 3.095366e-03 & 3.311621e-05\\\\\n",
       "\tENSG00000000460 & 0.0000000000 & 0.0000000000 & 0.000000e+00 & 0.000000e+00 & 0.000000e+00\\\\\n",
       "\\end{tabular}\n"
      ],
      "text/markdown": [
       "\n",
       "| <!--/--> | AHR..ARNT | DDIT3..CEBPA | MAX..MYC | PPARG..RXRA | RXRA..VDR |\n",
       "|---|---|---|---|---|---|\n",
       "| ENSG00000000003 | 0.0006853000 | 0.0025808288 | 2.020445e-05 | 6.041068e-05 | 8.409835e-05 |\n",
       "| ENSG00000000005 | 0.0006148164 | 0.0002469801 | 3.310350e-06 | 1.020107e-05 | 2.971438e-06 |\n",
       "| ENSG00000000419 | 0.0394694687 | 0.0013199393 | 9.261950e-04 | 9.143963e-04 | 3.916165e-05 |\n",
       "| ENSG00000000457 | 0.0038627042 | 0.0001221161 | 6.589233e-05 | 3.095366e-03 | 3.311621e-05 |\n",
       "| ENSG00000000460 | 0.0000000000 | 0.0000000000 | 0.000000e+00 | 0.000000e+00 | 0.000000e+00 |\n",
       "\n"
      ],
      "text/plain": [
       "                AHR..ARNT    DDIT3..CEBPA MAX..MYC     PPARG..RXRA \n",
       "ENSG00000000003 0.0006853000 0.0025808288 2.020445e-05 6.041068e-05\n",
       "ENSG00000000005 0.0006148164 0.0002469801 3.310350e-06 1.020107e-05\n",
       "ENSG00000000419 0.0394694687 0.0013199393 9.261950e-04 9.143963e-04\n",
       "ENSG00000000457 0.0038627042 0.0001221161 6.589233e-05 3.095366e-03\n",
       "ENSG00000000460 0.0000000000 0.0000000000 0.000000e+00 0.000000e+00\n",
       "                RXRA..VDR   \n",
       "ENSG00000000003 8.409835e-05\n",
       "ENSG00000000005 2.971438e-06\n",
       "ENSG00000000419 3.916165e-05\n",
       "ENSG00000000457 3.311621e-05\n",
       "ENSG00000000460 0.000000e+00"
      ]
     },
     "metadata": {},
     "output_type": "display_data"
    },
    {
     "data": {
      "text/html": [
       "<table>\n",
       "<thead><tr><th></th><th scope=col>PPARG..RXRA</th><th scope=col>RXRA..VDR</th><th scope=col>MAFG..NFE2L1</th><th scope=col>TAL1..TCF3</th><th scope=col>HAND1..TCF3</th></tr></thead>\n",
       "<tbody>\n",
       "\t<tr><th scope=row>ENSG00000000003</th><td>6.041068e-05</td><td>8.409835e-05</td><td>0.009743354 </td><td>6.809267e-05</td><td>0.0011714082</td></tr>\n",
       "\t<tr><th scope=row>ENSG00000000005</th><td>1.020107e-05</td><td>2.971438e-06</td><td>0.006010012 </td><td>4.630280e-05</td><td>0.0024374150</td></tr>\n",
       "\t<tr><th scope=row>ENSG00000000419</th><td>9.143963e-04</td><td>3.916165e-05</td><td>0.028208011 </td><td>5.353939e-04</td><td>0.0089839512</td></tr>\n",
       "\t<tr><th scope=row>ENSG00000000457</th><td>3.095366e-03</td><td>3.311621e-05</td><td>0.003061006 </td><td>7.126695e-06</td><td>0.0006619569</td></tr>\n",
       "\t<tr><th scope=row>ENSG00000000460</th><td>0.000000e+00</td><td>0.000000e+00</td><td>0.000000000 </td><td>0.000000e+00</td><td>0.0000000000</td></tr>\n",
       "</tbody>\n",
       "</table>\n"
      ],
      "text/latex": [
       "\\begin{tabular}{r|lllll}\n",
       "  & PPARG..RXRA & RXRA..VDR & MAFG..NFE2L1 & TAL1..TCF3 & HAND1..TCF3\\\\\n",
       "\\hline\n",
       "\tENSG00000000003 & 6.041068e-05 & 8.409835e-05 & 0.009743354  & 6.809267e-05 & 0.0011714082\\\\\n",
       "\tENSG00000000005 & 1.020107e-05 & 2.971438e-06 & 0.006010012  & 4.630280e-05 & 0.0024374150\\\\\n",
       "\tENSG00000000419 & 9.143963e-04 & 3.916165e-05 & 0.028208011  & 5.353939e-04 & 0.0089839512\\\\\n",
       "\tENSG00000000457 & 3.095366e-03 & 3.311621e-05 & 0.003061006  & 7.126695e-06 & 0.0006619569\\\\\n",
       "\tENSG00000000460 & 0.000000e+00 & 0.000000e+00 & 0.000000000  & 0.000000e+00 & 0.0000000000\\\\\n",
       "\\end{tabular}\n"
      ],
      "text/markdown": [
       "\n",
       "| <!--/--> | PPARG..RXRA | RXRA..VDR | MAFG..NFE2L1 | TAL1..TCF3 | HAND1..TCF3 |\n",
       "|---|---|---|---|---|---|\n",
       "| ENSG00000000003 | 6.041068e-05 | 8.409835e-05 | 0.009743354  | 6.809267e-05 | 0.0011714082 |\n",
       "| ENSG00000000005 | 1.020107e-05 | 2.971438e-06 | 0.006010012  | 4.630280e-05 | 0.0024374150 |\n",
       "| ENSG00000000419 | 9.143963e-04 | 3.916165e-05 | 0.028208011  | 5.353939e-04 | 0.0089839512 |\n",
       "| ENSG00000000457 | 3.095366e-03 | 3.311621e-05 | 0.003061006  | 7.126695e-06 | 0.0006619569 |\n",
       "| ENSG00000000460 | 0.000000e+00 | 0.000000e+00 | 0.000000000  | 0.000000e+00 | 0.0000000000 |\n",
       "\n"
      ],
      "text/plain": [
       "                PPARG..RXRA  RXRA..VDR    MAFG..NFE2L1 TAL1..TCF3  \n",
       "ENSG00000000003 6.041068e-05 8.409835e-05 0.009743354  6.809267e-05\n",
       "ENSG00000000005 1.020107e-05 2.971438e-06 0.006010012  4.630280e-05\n",
       "ENSG00000000419 9.143963e-04 3.916165e-05 0.028208011  5.353939e-04\n",
       "ENSG00000000457 3.095366e-03 3.311621e-05 0.003061006  7.126695e-06\n",
       "ENSG00000000460 0.000000e+00 0.000000e+00 0.000000000  0.000000e+00\n",
       "                HAND1..TCF3 \n",
       "ENSG00000000003 0.0011714082\n",
       "ENSG00000000005 0.0024374150\n",
       "ENSG00000000419 0.0089839512\n",
       "ENSG00000000457 0.0006619569\n",
       "ENSG00000000460 0.0000000000"
      ]
     },
     "metadata": {},
     "output_type": "display_data"
    },
    {
     "data": {
      "text/html": [
       "<table>\n",
       "<thead><tr><th></th><th scope=col>HLC_CEL_c1_R1</th><th scope=col>HLC_CEL_c10_R1</th><th scope=col>HLC_CEL_c11_R1</th><th scope=col>HLC_CEL_c13_R1</th><th scope=col>HLC_CEL_c14_R1</th></tr></thead>\n",
       "<tbody>\n",
       "\t<tr><th scope=row>ENSG00000000003</th><td>217.00</td><td>207   </td><td>445.00</td><td>158.00</td><td>130.00</td></tr>\n",
       "\t<tr><th scope=row>ENSG00000000005</th><td>  0.03</td><td>  0   </td><td>  0.15</td><td>  0.00</td><td>  0.01</td></tr>\n",
       "\t<tr><th scope=row>ENSG00000000419</th><td> 84.00</td><td> 79   </td><td>141.00</td><td> 95.00</td><td> 49.48</td></tr>\n",
       "\t<tr><th scope=row>ENSG00000000457</th><td>  2.76</td><td> 26   </td><td>  1.00</td><td> 21.00</td><td>  1.41</td></tr>\n",
       "\t<tr><th scope=row>ENSG00000000460</th><td>  1.00</td><td>  5   </td><td>  2.60</td><td>  3.59</td><td>  1.40</td></tr>\n",
       "</tbody>\n",
       "</table>\n"
      ],
      "text/latex": [
       "\\begin{tabular}{r|lllll}\n",
       "  & HLC\\_CEL\\_c1\\_R1 & HLC\\_CEL\\_c10\\_R1 & HLC\\_CEL\\_c11\\_R1 & HLC\\_CEL\\_c13\\_R1 & HLC\\_CEL\\_c14\\_R1\\\\\n",
       "\\hline\n",
       "\tENSG00000000003 & 217.00 & 207    & 445.00 & 158.00 & 130.00\\\\\n",
       "\tENSG00000000005 &   0.03 &   0    &   0.15 &   0.00 &   0.01\\\\\n",
       "\tENSG00000000419 &  84.00 &  79    & 141.00 &  95.00 &  49.48\\\\\n",
       "\tENSG00000000457 &   2.76 &  26    &   1.00 &  21.00 &   1.41\\\\\n",
       "\tENSG00000000460 &   1.00 &   5    &   2.60 &   3.59 &   1.40\\\\\n",
       "\\end{tabular}\n"
      ],
      "text/markdown": [
       "\n",
       "| <!--/--> | HLC_CEL_c1_R1 | HLC_CEL_c10_R1 | HLC_CEL_c11_R1 | HLC_CEL_c13_R1 | HLC_CEL_c14_R1 |\n",
       "|---|---|---|---|---|---|\n",
       "| ENSG00000000003 | 217.00 | 207    | 445.00 | 158.00 | 130.00 |\n",
       "| ENSG00000000005 |   0.03 |   0    |   0.15 |   0.00 |   0.01 |\n",
       "| ENSG00000000419 |  84.00 |  79    | 141.00 |  95.00 |  49.48 |\n",
       "| ENSG00000000457 |   2.76 |  26    |   1.00 |  21.00 |   1.41 |\n",
       "| ENSG00000000460 |   1.00 |   5    |   2.60 |   3.59 |   1.40 |\n",
       "\n"
      ],
      "text/plain": [
       "                HLC_CEL_c1_R1 HLC_CEL_c10_R1 HLC_CEL_c11_R1 HLC_CEL_c13_R1\n",
       "ENSG00000000003 217.00        207            445.00         158.00        \n",
       "ENSG00000000005   0.03          0              0.15           0.00        \n",
       "ENSG00000000419  84.00         79            141.00          95.00        \n",
       "ENSG00000000457   2.76         26              1.00          21.00        \n",
       "ENSG00000000460   1.00          5              2.60           3.59        \n",
       "                HLC_CEL_c14_R1\n",
       "ENSG00000000003 130.00        \n",
       "ENSG00000000005   0.01        \n",
       "ENSG00000000419  49.48        \n",
       "ENSG00000000457   1.41        \n",
       "ENSG00000000460   1.40        "
      ]
     },
     "metadata": {},
     "output_type": "display_data"
    },
    {
     "data": {
      "text/html": [
       "<table>\n",
       "<thead><tr><th></th><th scope=col>HLC_CEL_c1_R1</th><th scope=col>HLC_CEL_c10_R1</th><th scope=col>HLC_CEL_c11_R1</th><th scope=col>HLC_CEL_c13_R1</th><th scope=col>HLC_CEL_c14_R1</th></tr></thead>\n",
       "<tbody>\n",
       "\t<tr><th scope=row>ENSG00000000003</th><td>8.172956e-02</td><td>0.077963216 </td><td>0.1676020832</td><td>0.059508155 </td><td>4.896241e-02</td></tr>\n",
       "\t<tr><th scope=row>ENSG00000000005</th><td>3.182673e-05</td><td>0.000000000 </td><td>0.0001591337</td><td>0.000000000 </td><td>1.060891e-05</td></tr>\n",
       "\t<tr><th scope=row>ENSG00000000419</th><td>1.188690e-01</td><td>0.111793490 </td><td>0.1995301528</td><td>0.134435209 </td><td>7.001952e-02</td></tr>\n",
       "\t<tr><th scope=row>ENSG00000000457</th><td>6.849013e-04</td><td>0.006451969 </td><td>0.0002481527</td><td>0.005211206 </td><td>3.498952e-04</td></tr>\n",
       "\t<tr><th scope=row>ENSG00000000460</th><td>2.862468e-04</td><td>0.001431234 </td><td>0.0007442417</td><td>0.001027626 </td><td>4.007455e-04</td></tr>\n",
       "</tbody>\n",
       "</table>\n"
      ],
      "text/latex": [
       "\\begin{tabular}{r|lllll}\n",
       "  & HLC\\_CEL\\_c1\\_R1 & HLC\\_CEL\\_c10\\_R1 & HLC\\_CEL\\_c11\\_R1 & HLC\\_CEL\\_c13\\_R1 & HLC\\_CEL\\_c14\\_R1\\\\\n",
       "\\hline\n",
       "\tENSG00000000003 & 8.172956e-02 & 0.077963216  & 0.1676020832 & 0.059508155  & 4.896241e-02\\\\\n",
       "\tENSG00000000005 & 3.182673e-05 & 0.000000000  & 0.0001591337 & 0.000000000  & 1.060891e-05\\\\\n",
       "\tENSG00000000419 & 1.188690e-01 & 0.111793490  & 0.1995301528 & 0.134435209  & 7.001952e-02\\\\\n",
       "\tENSG00000000457 & 6.849013e-04 & 0.006451969  & 0.0002481527 & 0.005211206  & 3.498952e-04\\\\\n",
       "\tENSG00000000460 & 2.862468e-04 & 0.001431234  & 0.0007442417 & 0.001027626  & 4.007455e-04\\\\\n",
       "\\end{tabular}\n"
      ],
      "text/markdown": [
       "\n",
       "| <!--/--> | HLC_CEL_c1_R1 | HLC_CEL_c10_R1 | HLC_CEL_c11_R1 | HLC_CEL_c13_R1 | HLC_CEL_c14_R1 |\n",
       "|---|---|---|---|---|---|\n",
       "| ENSG00000000003 | 8.172956e-02 | 0.077963216  | 0.1676020832 | 0.059508155  | 4.896241e-02 |\n",
       "| ENSG00000000005 | 3.182673e-05 | 0.000000000  | 0.0001591337 | 0.000000000  | 1.060891e-05 |\n",
       "| ENSG00000000419 | 1.188690e-01 | 0.111793490  | 0.1995301528 | 0.134435209  | 7.001952e-02 |\n",
       "| ENSG00000000457 | 6.849013e-04 | 0.006451969  | 0.0002481527 | 0.005211206  | 3.498952e-04 |\n",
       "| ENSG00000000460 | 2.862468e-04 | 0.001431234  | 0.0007442417 | 0.001027626  | 4.007455e-04 |\n",
       "\n"
      ],
      "text/plain": [
       "                HLC_CEL_c1_R1 HLC_CEL_c10_R1 HLC_CEL_c11_R1 HLC_CEL_c13_R1\n",
       "ENSG00000000003 8.172956e-02  0.077963216    0.1676020832   0.059508155   \n",
       "ENSG00000000005 3.182673e-05  0.000000000    0.0001591337   0.000000000   \n",
       "ENSG00000000419 1.188690e-01  0.111793490    0.1995301528   0.134435209   \n",
       "ENSG00000000457 6.849013e-04  0.006451969    0.0002481527   0.005211206   \n",
       "ENSG00000000460 2.862468e-04  0.001431234    0.0007442417   0.001027626   \n",
       "                HLC_CEL_c14_R1\n",
       "ENSG00000000003 4.896241e-02  \n",
       "ENSG00000000005 1.060891e-05  \n",
       "ENSG00000000419 7.001952e-02  \n",
       "ENSG00000000457 3.498952e-04  \n",
       "ENSG00000000460 4.007455e-04  "
      ]
     },
     "metadata": {},
     "output_type": "display_data"
    }
   ],
   "source": [
    "full.x[1:5, 1:5]\n",
    "x[1:5, 1:5]\n",
    "\n",
    "full.y[1:5, 1:5]\n",
    "y[1:5, 1:5]"
   ]
  },
  {
   "cell_type": "markdown",
   "metadata": {},
   "source": [
    "## Log-transform the response data"
   ]
  },
  {
   "cell_type": "code",
   "execution_count": 16,
   "metadata": {},
   "outputs": [],
   "source": [
    "full.y <- log2(1 + full.y)\n",
    "y <- log2(1 + y)"
   ]
  },
  {
   "cell_type": "code",
   "execution_count": 17,
   "metadata": {},
   "outputs": [
    {
     "name": "stdout",
     "output_type": "stream",
     "text": [
      "[1]  0.00000 19.19833\n",
      "[1]  0.00000 10.33516\n"
     ]
    }
   ],
   "source": [
    "print(range(full.y))\n",
    "print(range(y))"
   ]
  },
  {
   "cell_type": "markdown",
   "metadata": {},
   "source": [
    "## Compute the correlation between each feature and each response vector (gene expression profile per cell)"
   ]
  },
  {
   "cell_type": "markdown",
   "metadata": {},
   "source": [
    "* [Correlations on full datasets](#full)\n",
    "* [Correlations on filtered datasets](#filtered)"
   ]
  },
  {
   "cell_type": "markdown",
   "metadata": {},
   "source": [
    "## Correlations on full datasets <a class= \"anchor\" id= \"full\"></a>"
   ]
  },
  {
   "cell_type": "code",
   "execution_count": 18,
   "metadata": {},
   "outputs": [],
   "source": [
    "full.cors <- list()\n",
    "for(i in seq(ncol(full.y)))\n",
    "    full.cors[[i]] <- sapply(seq(ncol(full.x)), function(j)cor(as.numeric(full.x[, j]), as.numeric(full.y[, i])))"
   ]
  },
  {
   "cell_type": "markdown",
   "metadata": {},
   "source": [
    "## Print the range of the resulting correlation values for each cell"
   ]
  },
  {
   "cell_type": "code",
   "execution_count": 19,
   "metadata": {
    "scrolled": false
   },
   "outputs": [
    {
     "data": {
      "text/html": [
       "<table>\n",
       "<thead><tr><th></th><th scope=col>min</th><th scope=col>max</th></tr></thead>\n",
       "<tbody>\n",
       "\t<tr><th scope=row>HLC_CEL_c1_R1</th><td>-0.1536186</td><td>0.3550832 </td></tr>\n",
       "\t<tr><th scope=row>HLC_CEL_c10_R1</th><td>-0.1419583</td><td>0.3320774 </td></tr>\n",
       "\t<tr><th scope=row>HLC_CEL_c11_R1</th><td>-0.1468742</td><td>0.3372027 </td></tr>\n",
       "\t<tr><th scope=row>HLC_CEL_c13_R1</th><td>-0.1514758</td><td>0.3526790 </td></tr>\n",
       "\t<tr><th scope=row>HLC_CEL_c14_R1</th><td>-0.1519041</td><td>0.3598742 </td></tr>\n",
       "\t<tr><th scope=row>HLC_CEL_c15_R1</th><td>-0.1534448</td><td>0.3581923 </td></tr>\n",
       "\t<tr><th scope=row>HLC_CEL_c16_R1</th><td>-0.1472114</td><td>0.3410038 </td></tr>\n",
       "\t<tr><th scope=row>HLC_CEL_c17_R1</th><td>-0.1555412</td><td>0.3579853 </td></tr>\n",
       "\t<tr><th scope=row>HLC_CEL_c18_R1</th><td>-0.1534749</td><td>0.3525991 </td></tr>\n",
       "\t<tr><th scope=row>HLC_CEL_c19_R1</th><td>-0.1528819</td><td>0.3562873 </td></tr>\n",
       "\t<tr><th scope=row>HLC_CEL_c2_R1</th><td>-0.1517656</td><td>0.3505981 </td></tr>\n",
       "\t<tr><th scope=row>HLC_CEL_c20_R1</th><td>-0.1513755</td><td>0.3473794 </td></tr>\n",
       "\t<tr><th scope=row>HLC_CEL_c21_R1</th><td>-0.1473948</td><td>0.3423112 </td></tr>\n",
       "\t<tr><th scope=row>HLC_CEL_c22_R1</th><td>-0.1556028</td><td>0.3579225 </td></tr>\n",
       "\t<tr><th scope=row>HLC_CEL_c23_R1</th><td>-0.1534695</td><td>0.3482161 </td></tr>\n",
       "\t<tr><th scope=row>HLC_CEL_c24_R1</th><td>-0.1480388</td><td>0.3432378 </td></tr>\n",
       "\t<tr><th scope=row>HLC_CEL_c25_R1</th><td>-0.1523845</td><td>0.3581643 </td></tr>\n",
       "\t<tr><th scope=row>HLC_CEL_c26_R1</th><td>-0.1225799</td><td>0.2780802 </td></tr>\n",
       "\t<tr><th scope=row>HLC_CEL_c27_R1</th><td>-0.1544740</td><td>0.3522213 </td></tr>\n",
       "\t<tr><th scope=row>HLC_CEL_c28_R1</th><td>-0.1534966</td><td>0.3502542 </td></tr>\n",
       "\t<tr><th scope=row>HLC_CEL_c29_R1</th><td>-0.1543225</td><td>0.3561592 </td></tr>\n",
       "\t<tr><th scope=row>HLC_CEL_c3_R1</th><td>-0.1526355</td><td>0.3535798 </td></tr>\n",
       "\t<tr><th scope=row>HLC_CEL_c30_R1</th><td>-0.1522612</td><td>0.3578277 </td></tr>\n",
       "\t<tr><th scope=row>HLC_CEL_c31_R1</th><td>-0.1346654</td><td>0.3179618 </td></tr>\n",
       "\t<tr><th scope=row>HLC_CEL_c32_R1</th><td>-0.1599102</td><td>0.3487920 </td></tr>\n",
       "\t<tr><th scope=row>HLC_CEL_c33_R1</th><td>-0.1500505</td><td>0.3521125 </td></tr>\n",
       "\t<tr><th scope=row>HLC_CEL_c34_R1</th><td>-0.1517895</td><td>0.3628141 </td></tr>\n",
       "\t<tr><th scope=row>HLC_CEL_c35_R1</th><td>-0.1490707</td><td>0.3380878 </td></tr>\n",
       "\t<tr><th scope=row>HLC_CEL_c36_R1</th><td>-0.1463079</td><td>0.3379998 </td></tr>\n",
       "\t<tr><th scope=row>HLC_CEL_c37_R1</th><td>-0.1469288</td><td>0.3426601 </td></tr>\n",
       "\t<tr><th scope=row>HLC_CEL_c38_R1</th><td>-0.1470370</td><td>0.3538933 </td></tr>\n",
       "\t<tr><th scope=row>HLC_CEL_c39_R1</th><td>-0.1447690</td><td>0.3447678 </td></tr>\n",
       "\t<tr><th scope=row>HLC_CEL_c4_R1</th><td>-0.1561046</td><td>0.3488307 </td></tr>\n",
       "\t<tr><th scope=row>HLC_CEL_c40_R1</th><td>-0.1499369</td><td>0.3359611 </td></tr>\n",
       "\t<tr><th scope=row>HLC_CEL_c41_R1</th><td>-0.1491187</td><td>0.3452968 </td></tr>\n",
       "\t<tr><th scope=row>HLC_CEL_c42_R1</th><td>-0.1482068</td><td>0.3435983 </td></tr>\n",
       "\t<tr><th scope=row>HLC_CEL_c43_R1</th><td>-0.1501347</td><td>0.3510632 </td></tr>\n",
       "\t<tr><th scope=row>HLC_CEL_c44_R1</th><td>-0.1554647</td><td>0.3606914 </td></tr>\n",
       "\t<tr><th scope=row>HLC_CEL_c45_R1</th><td>-0.1530506</td><td>0.3554645 </td></tr>\n",
       "\t<tr><th scope=row>HLC_CEL_c46_R1</th><td>-0.1515051</td><td>0.3468587 </td></tr>\n",
       "\t<tr><th scope=row>HLC_CEL_c47_R1</th><td>-0.1519723</td><td>0.3533400 </td></tr>\n",
       "\t<tr><th scope=row>HLC_CEL_c48_R1</th><td>-0.1206195</td><td>0.2315086 </td></tr>\n",
       "\t<tr><th scope=row>HLC_CEL_c49_R1</th><td>-0.1558594</td><td>0.3459058 </td></tr>\n",
       "\t<tr><th scope=row>HLC_CEL_c5_R1</th><td>-0.1502043</td><td>0.3528075 </td></tr>\n",
       "\t<tr><th scope=row>HLC_CEL_c50_R1</th><td>-0.1519318</td><td>0.3388843 </td></tr>\n",
       "\t<tr><th scope=row>HLC_CEL_c51_R1</th><td>-0.1457119</td><td>0.3347484 </td></tr>\n",
       "\t<tr><th scope=row>HLC_CEL_c52_R1</th><td>-0.1425423</td><td>0.3384722 </td></tr>\n",
       "\t<tr><th scope=row>HLC_CEL_c53_R1</th><td>-0.1533497</td><td>0.3520067 </td></tr>\n",
       "\t<tr><th scope=row>HLC_CEL_c54_R1</th><td>-0.1536811</td><td>0.3543769 </td></tr>\n",
       "\t<tr><th scope=row>HLC_CEL_c55_R1</th><td>-0.1525706</td><td>0.3611210 </td></tr>\n",
       "</tbody>\n",
       "</table>\n"
      ],
      "text/latex": [
       "\\begin{tabular}{r|ll}\n",
       "  & min & max\\\\\n",
       "\\hline\n",
       "\tHLC\\_CEL\\_c1\\_R1 & -0.1536186 & 0.3550832 \\\\\n",
       "\tHLC\\_CEL\\_c10\\_R1 & -0.1419583 & 0.3320774 \\\\\n",
       "\tHLC\\_CEL\\_c11\\_R1 & -0.1468742 & 0.3372027 \\\\\n",
       "\tHLC\\_CEL\\_c13\\_R1 & -0.1514758 & 0.3526790 \\\\\n",
       "\tHLC\\_CEL\\_c14\\_R1 & -0.1519041 & 0.3598742 \\\\\n",
       "\tHLC\\_CEL\\_c15\\_R1 & -0.1534448 & 0.3581923 \\\\\n",
       "\tHLC\\_CEL\\_c16\\_R1 & -0.1472114 & 0.3410038 \\\\\n",
       "\tHLC\\_CEL\\_c17\\_R1 & -0.1555412 & 0.3579853 \\\\\n",
       "\tHLC\\_CEL\\_c18\\_R1 & -0.1534749 & 0.3525991 \\\\\n",
       "\tHLC\\_CEL\\_c19\\_R1 & -0.1528819 & 0.3562873 \\\\\n",
       "\tHLC\\_CEL\\_c2\\_R1 & -0.1517656 & 0.3505981 \\\\\n",
       "\tHLC\\_CEL\\_c20\\_R1 & -0.1513755 & 0.3473794 \\\\\n",
       "\tHLC\\_CEL\\_c21\\_R1 & -0.1473948 & 0.3423112 \\\\\n",
       "\tHLC\\_CEL\\_c22\\_R1 & -0.1556028 & 0.3579225 \\\\\n",
       "\tHLC\\_CEL\\_c23\\_R1 & -0.1534695 & 0.3482161 \\\\\n",
       "\tHLC\\_CEL\\_c24\\_R1 & -0.1480388 & 0.3432378 \\\\\n",
       "\tHLC\\_CEL\\_c25\\_R1 & -0.1523845 & 0.3581643 \\\\\n",
       "\tHLC\\_CEL\\_c26\\_R1 & -0.1225799 & 0.2780802 \\\\\n",
       "\tHLC\\_CEL\\_c27\\_R1 & -0.1544740 & 0.3522213 \\\\\n",
       "\tHLC\\_CEL\\_c28\\_R1 & -0.1534966 & 0.3502542 \\\\\n",
       "\tHLC\\_CEL\\_c29\\_R1 & -0.1543225 & 0.3561592 \\\\\n",
       "\tHLC\\_CEL\\_c3\\_R1 & -0.1526355 & 0.3535798 \\\\\n",
       "\tHLC\\_CEL\\_c30\\_R1 & -0.1522612 & 0.3578277 \\\\\n",
       "\tHLC\\_CEL\\_c31\\_R1 & -0.1346654 & 0.3179618 \\\\\n",
       "\tHLC\\_CEL\\_c32\\_R1 & -0.1599102 & 0.3487920 \\\\\n",
       "\tHLC\\_CEL\\_c33\\_R1 & -0.1500505 & 0.3521125 \\\\\n",
       "\tHLC\\_CEL\\_c34\\_R1 & -0.1517895 & 0.3628141 \\\\\n",
       "\tHLC\\_CEL\\_c35\\_R1 & -0.1490707 & 0.3380878 \\\\\n",
       "\tHLC\\_CEL\\_c36\\_R1 & -0.1463079 & 0.3379998 \\\\\n",
       "\tHLC\\_CEL\\_c37\\_R1 & -0.1469288 & 0.3426601 \\\\\n",
       "\tHLC\\_CEL\\_c38\\_R1 & -0.1470370 & 0.3538933 \\\\\n",
       "\tHLC\\_CEL\\_c39\\_R1 & -0.1447690 & 0.3447678 \\\\\n",
       "\tHLC\\_CEL\\_c4\\_R1 & -0.1561046 & 0.3488307 \\\\\n",
       "\tHLC\\_CEL\\_c40\\_R1 & -0.1499369 & 0.3359611 \\\\\n",
       "\tHLC\\_CEL\\_c41\\_R1 & -0.1491187 & 0.3452968 \\\\\n",
       "\tHLC\\_CEL\\_c42\\_R1 & -0.1482068 & 0.3435983 \\\\\n",
       "\tHLC\\_CEL\\_c43\\_R1 & -0.1501347 & 0.3510632 \\\\\n",
       "\tHLC\\_CEL\\_c44\\_R1 & -0.1554647 & 0.3606914 \\\\\n",
       "\tHLC\\_CEL\\_c45\\_R1 & -0.1530506 & 0.3554645 \\\\\n",
       "\tHLC\\_CEL\\_c46\\_R1 & -0.1515051 & 0.3468587 \\\\\n",
       "\tHLC\\_CEL\\_c47\\_R1 & -0.1519723 & 0.3533400 \\\\\n",
       "\tHLC\\_CEL\\_c48\\_R1 & -0.1206195 & 0.2315086 \\\\\n",
       "\tHLC\\_CEL\\_c49\\_R1 & -0.1558594 & 0.3459058 \\\\\n",
       "\tHLC\\_CEL\\_c5\\_R1 & -0.1502043 & 0.3528075 \\\\\n",
       "\tHLC\\_CEL\\_c50\\_R1 & -0.1519318 & 0.3388843 \\\\\n",
       "\tHLC\\_CEL\\_c51\\_R1 & -0.1457119 & 0.3347484 \\\\\n",
       "\tHLC\\_CEL\\_c52\\_R1 & -0.1425423 & 0.3384722 \\\\\n",
       "\tHLC\\_CEL\\_c53\\_R1 & -0.1533497 & 0.3520067 \\\\\n",
       "\tHLC\\_CEL\\_c54\\_R1 & -0.1536811 & 0.3543769 \\\\\n",
       "\tHLC\\_CEL\\_c55\\_R1 & -0.1525706 & 0.3611210 \\\\\n",
       "\\end{tabular}\n"
      ],
      "text/markdown": [
       "\n",
       "| <!--/--> | min | max |\n",
       "|---|---|---|\n",
       "| HLC_CEL_c1_R1 | -0.1536186 | 0.3550832  |\n",
       "| HLC_CEL_c10_R1 | -0.1419583 | 0.3320774  |\n",
       "| HLC_CEL_c11_R1 | -0.1468742 | 0.3372027  |\n",
       "| HLC_CEL_c13_R1 | -0.1514758 | 0.3526790  |\n",
       "| HLC_CEL_c14_R1 | -0.1519041 | 0.3598742  |\n",
       "| HLC_CEL_c15_R1 | -0.1534448 | 0.3581923  |\n",
       "| HLC_CEL_c16_R1 | -0.1472114 | 0.3410038  |\n",
       "| HLC_CEL_c17_R1 | -0.1555412 | 0.3579853  |\n",
       "| HLC_CEL_c18_R1 | -0.1534749 | 0.3525991  |\n",
       "| HLC_CEL_c19_R1 | -0.1528819 | 0.3562873  |\n",
       "| HLC_CEL_c2_R1 | -0.1517656 | 0.3505981  |\n",
       "| HLC_CEL_c20_R1 | -0.1513755 | 0.3473794  |\n",
       "| HLC_CEL_c21_R1 | -0.1473948 | 0.3423112  |\n",
       "| HLC_CEL_c22_R1 | -0.1556028 | 0.3579225  |\n",
       "| HLC_CEL_c23_R1 | -0.1534695 | 0.3482161  |\n",
       "| HLC_CEL_c24_R1 | -0.1480388 | 0.3432378  |\n",
       "| HLC_CEL_c25_R1 | -0.1523845 | 0.3581643  |\n",
       "| HLC_CEL_c26_R1 | -0.1225799 | 0.2780802  |\n",
       "| HLC_CEL_c27_R1 | -0.1544740 | 0.3522213  |\n",
       "| HLC_CEL_c28_R1 | -0.1534966 | 0.3502542  |\n",
       "| HLC_CEL_c29_R1 | -0.1543225 | 0.3561592  |\n",
       "| HLC_CEL_c3_R1 | -0.1526355 | 0.3535798  |\n",
       "| HLC_CEL_c30_R1 | -0.1522612 | 0.3578277  |\n",
       "| HLC_CEL_c31_R1 | -0.1346654 | 0.3179618  |\n",
       "| HLC_CEL_c32_R1 | -0.1599102 | 0.3487920  |\n",
       "| HLC_CEL_c33_R1 | -0.1500505 | 0.3521125  |\n",
       "| HLC_CEL_c34_R1 | -0.1517895 | 0.3628141  |\n",
       "| HLC_CEL_c35_R1 | -0.1490707 | 0.3380878  |\n",
       "| HLC_CEL_c36_R1 | -0.1463079 | 0.3379998  |\n",
       "| HLC_CEL_c37_R1 | -0.1469288 | 0.3426601  |\n",
       "| HLC_CEL_c38_R1 | -0.1470370 | 0.3538933  |\n",
       "| HLC_CEL_c39_R1 | -0.1447690 | 0.3447678  |\n",
       "| HLC_CEL_c4_R1 | -0.1561046 | 0.3488307  |\n",
       "| HLC_CEL_c40_R1 | -0.1499369 | 0.3359611  |\n",
       "| HLC_CEL_c41_R1 | -0.1491187 | 0.3452968  |\n",
       "| HLC_CEL_c42_R1 | -0.1482068 | 0.3435983  |\n",
       "| HLC_CEL_c43_R1 | -0.1501347 | 0.3510632  |\n",
       "| HLC_CEL_c44_R1 | -0.1554647 | 0.3606914  |\n",
       "| HLC_CEL_c45_R1 | -0.1530506 | 0.3554645  |\n",
       "| HLC_CEL_c46_R1 | -0.1515051 | 0.3468587  |\n",
       "| HLC_CEL_c47_R1 | -0.1519723 | 0.3533400  |\n",
       "| HLC_CEL_c48_R1 | -0.1206195 | 0.2315086  |\n",
       "| HLC_CEL_c49_R1 | -0.1558594 | 0.3459058  |\n",
       "| HLC_CEL_c5_R1 | -0.1502043 | 0.3528075  |\n",
       "| HLC_CEL_c50_R1 | -0.1519318 | 0.3388843  |\n",
       "| HLC_CEL_c51_R1 | -0.1457119 | 0.3347484  |\n",
       "| HLC_CEL_c52_R1 | -0.1425423 | 0.3384722  |\n",
       "| HLC_CEL_c53_R1 | -0.1533497 | 0.3520067  |\n",
       "| HLC_CEL_c54_R1 | -0.1536811 | 0.3543769  |\n",
       "| HLC_CEL_c55_R1 | -0.1525706 | 0.3611210  |\n",
       "\n"
      ],
      "text/plain": [
       "               min        max      \n",
       "HLC_CEL_c1_R1  -0.1536186 0.3550832\n",
       "HLC_CEL_c10_R1 -0.1419583 0.3320774\n",
       "HLC_CEL_c11_R1 -0.1468742 0.3372027\n",
       "HLC_CEL_c13_R1 -0.1514758 0.3526790\n",
       "HLC_CEL_c14_R1 -0.1519041 0.3598742\n",
       "HLC_CEL_c15_R1 -0.1534448 0.3581923\n",
       "HLC_CEL_c16_R1 -0.1472114 0.3410038\n",
       "HLC_CEL_c17_R1 -0.1555412 0.3579853\n",
       "HLC_CEL_c18_R1 -0.1534749 0.3525991\n",
       "HLC_CEL_c19_R1 -0.1528819 0.3562873\n",
       "HLC_CEL_c2_R1  -0.1517656 0.3505981\n",
       "HLC_CEL_c20_R1 -0.1513755 0.3473794\n",
       "HLC_CEL_c21_R1 -0.1473948 0.3423112\n",
       "HLC_CEL_c22_R1 -0.1556028 0.3579225\n",
       "HLC_CEL_c23_R1 -0.1534695 0.3482161\n",
       "HLC_CEL_c24_R1 -0.1480388 0.3432378\n",
       "HLC_CEL_c25_R1 -0.1523845 0.3581643\n",
       "HLC_CEL_c26_R1 -0.1225799 0.2780802\n",
       "HLC_CEL_c27_R1 -0.1544740 0.3522213\n",
       "HLC_CEL_c28_R1 -0.1534966 0.3502542\n",
       "HLC_CEL_c29_R1 -0.1543225 0.3561592\n",
       "HLC_CEL_c3_R1  -0.1526355 0.3535798\n",
       "HLC_CEL_c30_R1 -0.1522612 0.3578277\n",
       "HLC_CEL_c31_R1 -0.1346654 0.3179618\n",
       "HLC_CEL_c32_R1 -0.1599102 0.3487920\n",
       "HLC_CEL_c33_R1 -0.1500505 0.3521125\n",
       "HLC_CEL_c34_R1 -0.1517895 0.3628141\n",
       "HLC_CEL_c35_R1 -0.1490707 0.3380878\n",
       "HLC_CEL_c36_R1 -0.1463079 0.3379998\n",
       "HLC_CEL_c37_R1 -0.1469288 0.3426601\n",
       "HLC_CEL_c38_R1 -0.1470370 0.3538933\n",
       "HLC_CEL_c39_R1 -0.1447690 0.3447678\n",
       "HLC_CEL_c4_R1  -0.1561046 0.3488307\n",
       "HLC_CEL_c40_R1 -0.1499369 0.3359611\n",
       "HLC_CEL_c41_R1 -0.1491187 0.3452968\n",
       "HLC_CEL_c42_R1 -0.1482068 0.3435983\n",
       "HLC_CEL_c43_R1 -0.1501347 0.3510632\n",
       "HLC_CEL_c44_R1 -0.1554647 0.3606914\n",
       "HLC_CEL_c45_R1 -0.1530506 0.3554645\n",
       "HLC_CEL_c46_R1 -0.1515051 0.3468587\n",
       "HLC_CEL_c47_R1 -0.1519723 0.3533400\n",
       "HLC_CEL_c48_R1 -0.1206195 0.2315086\n",
       "HLC_CEL_c49_R1 -0.1558594 0.3459058\n",
       "HLC_CEL_c5_R1  -0.1502043 0.3528075\n",
       "HLC_CEL_c50_R1 -0.1519318 0.3388843\n",
       "HLC_CEL_c51_R1 -0.1457119 0.3347484\n",
       "HLC_CEL_c52_R1 -0.1425423 0.3384722\n",
       "HLC_CEL_c53_R1 -0.1533497 0.3520067\n",
       "HLC_CEL_c54_R1 -0.1536811 0.3543769\n",
       "HLC_CEL_c55_R1 -0.1525706 0.3611210"
      ]
     },
     "metadata": {},
     "output_type": "display_data"
    }
   ],
   "source": [
    "df.full <- data.frame(min= as.numeric(lapply(full.cors, FUN= min)), max= as.numeric(lapply(full.cors, FUN= max)))\n",
    "rownames(df.full) <- colnames(full.y)\n",
    "df.full[seq(50), ]"
   ]
  },
  {
   "cell_type": "markdown",
   "metadata": {},
   "source": [
    "## Plot histogram to have a more concise view of the correlation distributions"
   ]
  },
  {
   "cell_type": "code",
   "execution_count": 20,
   "metadata": {},
   "outputs": [
    {
     "data": {
      "image/png": "[encoded data removed]",
      "text/plain": [
       "Plot with title “all correlations values on full datasets”"
      ]
     },
     "metadata": {},
     "output_type": "display_data"
    }
   ],
   "source": [
    "hist(as.matrix(df.full), main= \"all correlations values on full datasets\", xlab= \"correlations\")"
   ]
  },
  {
   "cell_type": "markdown",
   "metadata": {},
   "source": [
    "## Correlations on filtered datasets <a class= \"anchor\" id= \"filtered\"></a>"
   ]
  },
  {
   "cell_type": "code",
   "execution_count": 21,
   "metadata": {},
   "outputs": [],
   "source": [
    "cors <- list()\n",
    "for(i in seq(ncol(y)))\n",
    "    cors[[i]] <- sapply(seq(ncol(x)), function(j)cor(x[, j], y[, i]))"
   ]
  },
  {
   "cell_type": "markdown",
   "metadata": {},
   "source": [
    "## Print the range of the resulting correlation values for each cell"
   ]
  },
  {
   "cell_type": "code",
   "execution_count": 22,
   "metadata": {},
   "outputs": [
    {
     "data": {
      "text/html": [
       "<table>\n",
       "<thead><tr><th></th><th scope=col>min</th><th scope=col>max</th></tr></thead>\n",
       "<tbody>\n",
       "\t<tr><th scope=row>HLC_CEL_c1_R1</th><td>-0.1536186</td><td>0.3550832 </td></tr>\n",
       "\t<tr><th scope=row>HLC_CEL_c10_R1</th><td>-0.1419583</td><td>0.3320774 </td></tr>\n",
       "\t<tr><th scope=row>HLC_CEL_c11_R1</th><td>-0.1468742</td><td>0.3372027 </td></tr>\n",
       "\t<tr><th scope=row>HLC_CEL_c13_R1</th><td>-0.1514758</td><td>0.3526790 </td></tr>\n",
       "\t<tr><th scope=row>HLC_CEL_c14_R1</th><td>-0.1519041</td><td>0.3598742 </td></tr>\n",
       "\t<tr><th scope=row>HLC_CEL_c15_R1</th><td>-0.1534448</td><td>0.3581923 </td></tr>\n",
       "\t<tr><th scope=row>HLC_CEL_c16_R1</th><td>-0.1472114</td><td>0.3410038 </td></tr>\n",
       "\t<tr><th scope=row>HLC_CEL_c17_R1</th><td>-0.1555412</td><td>0.3579853 </td></tr>\n",
       "\t<tr><th scope=row>HLC_CEL_c18_R1</th><td>-0.1534749</td><td>0.3525991 </td></tr>\n",
       "\t<tr><th scope=row>HLC_CEL_c19_R1</th><td>-0.1528819</td><td>0.3562873 </td></tr>\n",
       "\t<tr><th scope=row>HLC_CEL_c2_R1</th><td>-0.1517656</td><td>0.3505981 </td></tr>\n",
       "\t<tr><th scope=row>HLC_CEL_c20_R1</th><td>-0.1513755</td><td>0.3473794 </td></tr>\n",
       "\t<tr><th scope=row>HLC_CEL_c21_R1</th><td>-0.1473948</td><td>0.3423112 </td></tr>\n",
       "\t<tr><th scope=row>HLC_CEL_c22_R1</th><td>-0.1556028</td><td>0.3579225 </td></tr>\n",
       "\t<tr><th scope=row>HLC_CEL_c23_R1</th><td>-0.1534695</td><td>0.3482161 </td></tr>\n",
       "\t<tr><th scope=row>HLC_CEL_c24_R1</th><td>-0.1480388</td><td>0.3432378 </td></tr>\n",
       "\t<tr><th scope=row>HLC_CEL_c25_R1</th><td>-0.1523845</td><td>0.3581643 </td></tr>\n",
       "\t<tr><th scope=row>HLC_CEL_c26_R1</th><td>-0.1225799</td><td>0.2780802 </td></tr>\n",
       "\t<tr><th scope=row>HLC_CEL_c27_R1</th><td>-0.1544740</td><td>0.3522213 </td></tr>\n",
       "\t<tr><th scope=row>HLC_CEL_c28_R1</th><td>-0.1534966</td><td>0.3502542 </td></tr>\n",
       "\t<tr><th scope=row>HLC_CEL_c29_R1</th><td>-0.1543225</td><td>0.3561592 </td></tr>\n",
       "\t<tr><th scope=row>HLC_CEL_c3_R1</th><td>-0.1526355</td><td>0.3535798 </td></tr>\n",
       "\t<tr><th scope=row>HLC_CEL_c30_R1</th><td>-0.1522612</td><td>0.3578277 </td></tr>\n",
       "\t<tr><th scope=row>HLC_CEL_c31_R1</th><td>-0.1346654</td><td>0.3179618 </td></tr>\n",
       "\t<tr><th scope=row>HLC_CEL_c32_R1</th><td>-0.1599102</td><td>0.3487920 </td></tr>\n",
       "\t<tr><th scope=row>HLC_CEL_c33_R1</th><td>-0.1500505</td><td>0.3521125 </td></tr>\n",
       "\t<tr><th scope=row>HLC_CEL_c34_R1</th><td>-0.1517895</td><td>0.3628141 </td></tr>\n",
       "\t<tr><th scope=row>HLC_CEL_c35_R1</th><td>-0.1490707</td><td>0.3380878 </td></tr>\n",
       "\t<tr><th scope=row>HLC_CEL_c36_R1</th><td>-0.1463079</td><td>0.3379998 </td></tr>\n",
       "\t<tr><th scope=row>HLC_CEL_c37_R1</th><td>-0.1469288</td><td>0.3426601 </td></tr>\n",
       "\t<tr><th scope=row>HLC_CEL_c38_R1</th><td>-0.1470370</td><td>0.3538933 </td></tr>\n",
       "\t<tr><th scope=row>HLC_CEL_c39_R1</th><td>-0.1447690</td><td>0.3447678 </td></tr>\n",
       "\t<tr><th scope=row>HLC_CEL_c4_R1</th><td>-0.1561046</td><td>0.3488307 </td></tr>\n",
       "\t<tr><th scope=row>HLC_CEL_c40_R1</th><td>-0.1499369</td><td>0.3359611 </td></tr>\n",
       "\t<tr><th scope=row>HLC_CEL_c41_R1</th><td>-0.1491187</td><td>0.3452968 </td></tr>\n",
       "\t<tr><th scope=row>HLC_CEL_c42_R1</th><td>-0.1482068</td><td>0.3435983 </td></tr>\n",
       "\t<tr><th scope=row>HLC_CEL_c43_R1</th><td>-0.1501347</td><td>0.3510632 </td></tr>\n",
       "\t<tr><th scope=row>HLC_CEL_c44_R1</th><td>-0.1554647</td><td>0.3606914 </td></tr>\n",
       "\t<tr><th scope=row>HLC_CEL_c45_R1</th><td>-0.1530506</td><td>0.3554645 </td></tr>\n",
       "\t<tr><th scope=row>HLC_CEL_c46_R1</th><td>-0.1515051</td><td>0.3468587 </td></tr>\n",
       "\t<tr><th scope=row>HLC_CEL_c47_R1</th><td>-0.1519723</td><td>0.3533400 </td></tr>\n",
       "\t<tr><th scope=row>HLC_CEL_c48_R1</th><td>-0.1206195</td><td>0.2315086 </td></tr>\n",
       "\t<tr><th scope=row>HLC_CEL_c49_R1</th><td>-0.1558594</td><td>0.3459058 </td></tr>\n",
       "\t<tr><th scope=row>HLC_CEL_c5_R1</th><td>-0.1502043</td><td>0.3528075 </td></tr>\n",
       "\t<tr><th scope=row>HLC_CEL_c50_R1</th><td>-0.1519318</td><td>0.3388843 </td></tr>\n",
       "\t<tr><th scope=row>HLC_CEL_c51_R1</th><td>-0.1457119</td><td>0.3347484 </td></tr>\n",
       "\t<tr><th scope=row>HLC_CEL_c52_R1</th><td>-0.1425423</td><td>0.3384722 </td></tr>\n",
       "\t<tr><th scope=row>HLC_CEL_c53_R1</th><td>-0.1533497</td><td>0.3520067 </td></tr>\n",
       "\t<tr><th scope=row>HLC_CEL_c54_R1</th><td>-0.1536811</td><td>0.3543769 </td></tr>\n",
       "\t<tr><th scope=row>HLC_CEL_c55_R1</th><td>-0.1525706</td><td>0.3611210 </td></tr>\n",
       "</tbody>\n",
       "</table>\n"
      ],
      "text/latex": [
       "\\begin{tabular}{r|ll}\n",
       "  & min & max\\\\\n",
       "\\hline\n",
       "\tHLC\\_CEL\\_c1\\_R1 & -0.1536186 & 0.3550832 \\\\\n",
       "\tHLC\\_CEL\\_c10\\_R1 & -0.1419583 & 0.3320774 \\\\\n",
       "\tHLC\\_CEL\\_c11\\_R1 & -0.1468742 & 0.3372027 \\\\\n",
       "\tHLC\\_CEL\\_c13\\_R1 & -0.1514758 & 0.3526790 \\\\\n",
       "\tHLC\\_CEL\\_c14\\_R1 & -0.1519041 & 0.3598742 \\\\\n",
       "\tHLC\\_CEL\\_c15\\_R1 & -0.1534448 & 0.3581923 \\\\\n",
       "\tHLC\\_CEL\\_c16\\_R1 & -0.1472114 & 0.3410038 \\\\\n",
       "\tHLC\\_CEL\\_c17\\_R1 & -0.1555412 & 0.3579853 \\\\\n",
       "\tHLC\\_CEL\\_c18\\_R1 & -0.1534749 & 0.3525991 \\\\\n",
       "\tHLC\\_CEL\\_c19\\_R1 & -0.1528819 & 0.3562873 \\\\\n",
       "\tHLC\\_CEL\\_c2\\_R1 & -0.1517656 & 0.3505981 \\\\\n",
       "\tHLC\\_CEL\\_c20\\_R1 & -0.1513755 & 0.3473794 \\\\\n",
       "\tHLC\\_CEL\\_c21\\_R1 & -0.1473948 & 0.3423112 \\\\\n",
       "\tHLC\\_CEL\\_c22\\_R1 & -0.1556028 & 0.3579225 \\\\\n",
       "\tHLC\\_CEL\\_c23\\_R1 & -0.1534695 & 0.3482161 \\\\\n",
       "\tHLC\\_CEL\\_c24\\_R1 & -0.1480388 & 0.3432378 \\\\\n",
       "\tHLC\\_CEL\\_c25\\_R1 & -0.1523845 & 0.3581643 \\\\\n",
       "\tHLC\\_CEL\\_c26\\_R1 & -0.1225799 & 0.2780802 \\\\\n",
       "\tHLC\\_CEL\\_c27\\_R1 & -0.1544740 & 0.3522213 \\\\\n",
       "\tHLC\\_CEL\\_c28\\_R1 & -0.1534966 & 0.3502542 \\\\\n",
       "\tHLC\\_CEL\\_c29\\_R1 & -0.1543225 & 0.3561592 \\\\\n",
       "\tHLC\\_CEL\\_c3\\_R1 & -0.1526355 & 0.3535798 \\\\\n",
       "\tHLC\\_CEL\\_c30\\_R1 & -0.1522612 & 0.3578277 \\\\\n",
       "\tHLC\\_CEL\\_c31\\_R1 & -0.1346654 & 0.3179618 \\\\\n",
       "\tHLC\\_CEL\\_c32\\_R1 & -0.1599102 & 0.3487920 \\\\\n",
       "\tHLC\\_CEL\\_c33\\_R1 & -0.1500505 & 0.3521125 \\\\\n",
       "\tHLC\\_CEL\\_c34\\_R1 & -0.1517895 & 0.3628141 \\\\\n",
       "\tHLC\\_CEL\\_c35\\_R1 & -0.1490707 & 0.3380878 \\\\\n",
       "\tHLC\\_CEL\\_c36\\_R1 & -0.1463079 & 0.3379998 \\\\\n",
       "\tHLC\\_CEL\\_c37\\_R1 & -0.1469288 & 0.3426601 \\\\\n",
       "\tHLC\\_CEL\\_c38\\_R1 & -0.1470370 & 0.3538933 \\\\\n",
       "\tHLC\\_CEL\\_c39\\_R1 & -0.1447690 & 0.3447678 \\\\\n",
       "\tHLC\\_CEL\\_c4\\_R1 & -0.1561046 & 0.3488307 \\\\\n",
       "\tHLC\\_CEL\\_c40\\_R1 & -0.1499369 & 0.3359611 \\\\\n",
       "\tHLC\\_CEL\\_c41\\_R1 & -0.1491187 & 0.3452968 \\\\\n",
       "\tHLC\\_CEL\\_c42\\_R1 & -0.1482068 & 0.3435983 \\\\\n",
       "\tHLC\\_CEL\\_c43\\_R1 & -0.1501347 & 0.3510632 \\\\\n",
       "\tHLC\\_CEL\\_c44\\_R1 & -0.1554647 & 0.3606914 \\\\\n",
       "\tHLC\\_CEL\\_c45\\_R1 & -0.1530506 & 0.3554645 \\\\\n",
       "\tHLC\\_CEL\\_c46\\_R1 & -0.1515051 & 0.3468587 \\\\\n",
       "\tHLC\\_CEL\\_c47\\_R1 & -0.1519723 & 0.3533400 \\\\\n",
       "\tHLC\\_CEL\\_c48\\_R1 & -0.1206195 & 0.2315086 \\\\\n",
       "\tHLC\\_CEL\\_c49\\_R1 & -0.1558594 & 0.3459058 \\\\\n",
       "\tHLC\\_CEL\\_c5\\_R1 & -0.1502043 & 0.3528075 \\\\\n",
       "\tHLC\\_CEL\\_c50\\_R1 & -0.1519318 & 0.3388843 \\\\\n",
       "\tHLC\\_CEL\\_c51\\_R1 & -0.1457119 & 0.3347484 \\\\\n",
       "\tHLC\\_CEL\\_c52\\_R1 & -0.1425423 & 0.3384722 \\\\\n",
       "\tHLC\\_CEL\\_c53\\_R1 & -0.1533497 & 0.3520067 \\\\\n",
       "\tHLC\\_CEL\\_c54\\_R1 & -0.1536811 & 0.3543769 \\\\\n",
       "\tHLC\\_CEL\\_c55\\_R1 & -0.1525706 & 0.3611210 \\\\\n",
       "\\end{tabular}\n"
      ],
      "text/markdown": [
       "\n",
       "| <!--/--> | min | max |\n",
       "|---|---|---|\n",
       "| HLC_CEL_c1_R1 | -0.1536186 | 0.3550832  |\n",
       "| HLC_CEL_c10_R1 | -0.1419583 | 0.3320774  |\n",
       "| HLC_CEL_c11_R1 | -0.1468742 | 0.3372027  |\n",
       "| HLC_CEL_c13_R1 | -0.1514758 | 0.3526790  |\n",
       "| HLC_CEL_c14_R1 | -0.1519041 | 0.3598742  |\n",
       "| HLC_CEL_c15_R1 | -0.1534448 | 0.3581923  |\n",
       "| HLC_CEL_c16_R1 | -0.1472114 | 0.3410038  |\n",
       "| HLC_CEL_c17_R1 | -0.1555412 | 0.3579853  |\n",
       "| HLC_CEL_c18_R1 | -0.1534749 | 0.3525991  |\n",
       "| HLC_CEL_c19_R1 | -0.1528819 | 0.3562873  |\n",
       "| HLC_CEL_c2_R1 | -0.1517656 | 0.3505981  |\n",
       "| HLC_CEL_c20_R1 | -0.1513755 | 0.3473794  |\n",
       "| HLC_CEL_c21_R1 | -0.1473948 | 0.3423112  |\n",
       "| HLC_CEL_c22_R1 | -0.1556028 | 0.3579225  |\n",
       "| HLC_CEL_c23_R1 | -0.1534695 | 0.3482161  |\n",
       "| HLC_CEL_c24_R1 | -0.1480388 | 0.3432378  |\n",
       "| HLC_CEL_c25_R1 | -0.1523845 | 0.3581643  |\n",
       "| HLC_CEL_c26_R1 | -0.1225799 | 0.2780802  |\n",
       "| HLC_CEL_c27_R1 | -0.1544740 | 0.3522213  |\n",
       "| HLC_CEL_c28_R1 | -0.1534966 | 0.3502542  |\n",
       "| HLC_CEL_c29_R1 | -0.1543225 | 0.3561592  |\n",
       "| HLC_CEL_c3_R1 | -0.1526355 | 0.3535798  |\n",
       "| HLC_CEL_c30_R1 | -0.1522612 | 0.3578277  |\n",
       "| HLC_CEL_c31_R1 | -0.1346654 | 0.3179618  |\n",
       "| HLC_CEL_c32_R1 | -0.1599102 | 0.3487920  |\n",
       "| HLC_CEL_c33_R1 | -0.1500505 | 0.3521125  |\n",
       "| HLC_CEL_c34_R1 | -0.1517895 | 0.3628141  |\n",
       "| HLC_CEL_c35_R1 | -0.1490707 | 0.3380878  |\n",
       "| HLC_CEL_c36_R1 | -0.1463079 | 0.3379998  |\n",
       "| HLC_CEL_c37_R1 | -0.1469288 | 0.3426601  |\n",
       "| HLC_CEL_c38_R1 | -0.1470370 | 0.3538933  |\n",
       "| HLC_CEL_c39_R1 | -0.1447690 | 0.3447678  |\n",
       "| HLC_CEL_c4_R1 | -0.1561046 | 0.3488307  |\n",
       "| HLC_CEL_c40_R1 | -0.1499369 | 0.3359611  |\n",
       "| HLC_CEL_c41_R1 | -0.1491187 | 0.3452968  |\n",
       "| HLC_CEL_c42_R1 | -0.1482068 | 0.3435983  |\n",
       "| HLC_CEL_c43_R1 | -0.1501347 | 0.3510632  |\n",
       "| HLC_CEL_c44_R1 | -0.1554647 | 0.3606914  |\n",
       "| HLC_CEL_c45_R1 | -0.1530506 | 0.3554645  |\n",
       "| HLC_CEL_c46_R1 | -0.1515051 | 0.3468587  |\n",
       "| HLC_CEL_c47_R1 | -0.1519723 | 0.3533400  |\n",
       "| HLC_CEL_c48_R1 | -0.1206195 | 0.2315086  |\n",
       "| HLC_CEL_c49_R1 | -0.1558594 | 0.3459058  |\n",
       "| HLC_CEL_c5_R1 | -0.1502043 | 0.3528075  |\n",
       "| HLC_CEL_c50_R1 | -0.1519318 | 0.3388843  |\n",
       "| HLC_CEL_c51_R1 | -0.1457119 | 0.3347484  |\n",
       "| HLC_CEL_c52_R1 | -0.1425423 | 0.3384722  |\n",
       "| HLC_CEL_c53_R1 | -0.1533497 | 0.3520067  |\n",
       "| HLC_CEL_c54_R1 | -0.1536811 | 0.3543769  |\n",
       "| HLC_CEL_c55_R1 | -0.1525706 | 0.3611210  |\n",
       "\n"
      ],
      "text/plain": [
       "               min        max      \n",
       "HLC_CEL_c1_R1  -0.1536186 0.3550832\n",
       "HLC_CEL_c10_R1 -0.1419583 0.3320774\n",
       "HLC_CEL_c11_R1 -0.1468742 0.3372027\n",
       "HLC_CEL_c13_R1 -0.1514758 0.3526790\n",
       "HLC_CEL_c14_R1 -0.1519041 0.3598742\n",
       "HLC_CEL_c15_R1 -0.1534448 0.3581923\n",
       "HLC_CEL_c16_R1 -0.1472114 0.3410038\n",
       "HLC_CEL_c17_R1 -0.1555412 0.3579853\n",
       "HLC_CEL_c18_R1 -0.1534749 0.3525991\n",
       "HLC_CEL_c19_R1 -0.1528819 0.3562873\n",
       "HLC_CEL_c2_R1  -0.1517656 0.3505981\n",
       "HLC_CEL_c20_R1 -0.1513755 0.3473794\n",
       "HLC_CEL_c21_R1 -0.1473948 0.3423112\n",
       "HLC_CEL_c22_R1 -0.1556028 0.3579225\n",
       "HLC_CEL_c23_R1 -0.1534695 0.3482161\n",
       "HLC_CEL_c24_R1 -0.1480388 0.3432378\n",
       "HLC_CEL_c25_R1 -0.1523845 0.3581643\n",
       "HLC_CEL_c26_R1 -0.1225799 0.2780802\n",
       "HLC_CEL_c27_R1 -0.1544740 0.3522213\n",
       "HLC_CEL_c28_R1 -0.1534966 0.3502542\n",
       "HLC_CEL_c29_R1 -0.1543225 0.3561592\n",
       "HLC_CEL_c3_R1  -0.1526355 0.3535798\n",
       "HLC_CEL_c30_R1 -0.1522612 0.3578277\n",
       "HLC_CEL_c31_R1 -0.1346654 0.3179618\n",
       "HLC_CEL_c32_R1 -0.1599102 0.3487920\n",
       "HLC_CEL_c33_R1 -0.1500505 0.3521125\n",
       "HLC_CEL_c34_R1 -0.1517895 0.3628141\n",
       "HLC_CEL_c35_R1 -0.1490707 0.3380878\n",
       "HLC_CEL_c36_R1 -0.1463079 0.3379998\n",
       "HLC_CEL_c37_R1 -0.1469288 0.3426601\n",
       "HLC_CEL_c38_R1 -0.1470370 0.3538933\n",
       "HLC_CEL_c39_R1 -0.1447690 0.3447678\n",
       "HLC_CEL_c4_R1  -0.1561046 0.3488307\n",
       "HLC_CEL_c40_R1 -0.1499369 0.3359611\n",
       "HLC_CEL_c41_R1 -0.1491187 0.3452968\n",
       "HLC_CEL_c42_R1 -0.1482068 0.3435983\n",
       "HLC_CEL_c43_R1 -0.1501347 0.3510632\n",
       "HLC_CEL_c44_R1 -0.1554647 0.3606914\n",
       "HLC_CEL_c45_R1 -0.1530506 0.3554645\n",
       "HLC_CEL_c46_R1 -0.1515051 0.3468587\n",
       "HLC_CEL_c47_R1 -0.1519723 0.3533400\n",
       "HLC_CEL_c48_R1 -0.1206195 0.2315086\n",
       "HLC_CEL_c49_R1 -0.1558594 0.3459058\n",
       "HLC_CEL_c5_R1  -0.1502043 0.3528075\n",
       "HLC_CEL_c50_R1 -0.1519318 0.3388843\n",
       "HLC_CEL_c51_R1 -0.1457119 0.3347484\n",
       "HLC_CEL_c52_R1 -0.1425423 0.3384722\n",
       "HLC_CEL_c53_R1 -0.1533497 0.3520067\n",
       "HLC_CEL_c54_R1 -0.1536811 0.3543769\n",
       "HLC_CEL_c55_R1 -0.1525706 0.3611210"
      ]
     },
     "metadata": {},
     "output_type": "display_data"
    }
   ],
   "source": [
    "df <- data.frame(min= as.numeric(lapply(full.cors, FUN= min)), max= as.numeric(lapply(full.cors, FUN= max)))\n",
    "rownames(df) <- colnames(full.y)\n",
    "df[seq(50), ]"
   ]
  },
  {
   "cell_type": "markdown",
   "metadata": {},
   "source": [
    "## Plot histogram to have a more concise view of the correlation distributions"
   ]
  },
  {
   "cell_type": "code",
   "execution_count": 23,
   "metadata": {},
   "outputs": [
    {
     "data": {
      "image/png": "[encoded data removed]",
      "text/plain": [
       "Plot with title “all correlations values on filtered datasets”"
      ]
     },
     "metadata": {},
     "output_type": "display_data"
    }
   ],
   "source": [
    "hist(as.matrix(df), main= \"all correlations values on filtered datasets\", xlab= \"correlations\")"
   ]
  },
  {
   "cell_type": "markdown",
   "metadata": {},
   "source": [
    "# Bulk gene expression <a class= \"anchor\" id= \"bulk\"></a>"
   ]
  },
  {
   "cell_type": "markdown",
   "metadata": {},
   "source": [
    "## Read the bulk expression data\n",
    "I decided to work with the TPM data I generated myself by converting the read counts to TPM values, as the original TPM values sent by Kathrin wasn't showing a good correlation."
   ]
  },
  {
   "cell_type": "code",
   "execution_count": 24,
   "metadata": {},
   "outputs": [],
   "source": [
    "# bulk.rna <- read.table(\"/MMCI/MS/ExpRegulation/work/data/singleCell/iPCs_Kathrin/bulkRNAseq_TPM.txt\")\n",
    "\n",
    "bulk.rna <- read.csv(\"/MMCI/MS/ExpRegulation/work/data/singleCell/iPCs_Kathrin/bulkRNAseq_TPM_converted.csv\")\n",
    "rownames(bulk.rna) <- bulk.rna$X\n",
    "bulk.rna <- bulk.rna[, -1]"
   ]
  },
  {
   "cell_type": "code",
   "execution_count": 25,
   "metadata": {},
   "outputs": [
    {
     "data": {
      "text/html": [
       "<table>\n",
       "<thead><tr><th></th><th scope=col>CEL_R1_HLC</th><th scope=col>CEL_R2_HLC</th><th scope=col>CEL_R3_HLC</th><th scope=col>CEL_R4_HLC</th><th scope=col>HAY_R1_HLC</th><th scope=col>X41_Hm09_LiHe_Ct_mRNA_K_1</th><th scope=col>X41_Hm16_LiHe_Ct_mRNA_K_1</th><th scope=col>X41_Hm25_LiHe_Ct_mRNA_K_1</th><th scope=col>X41_Hf02_LiHe_Ct_mRNA_K_1</th><th scope=col>X41_Hf03_LiHe_Ct_mRNA_K_1</th><th scope=col>X41_Hf11_LiHe_St_mRNA_K_1</th></tr></thead>\n",
       "<tbody>\n",
       "\t<tr><th scope=row>ENSG00000000003</th><td>141.77763905</td><td>125.99175739</td><td>152.35437006</td><td>124.835864  </td><td>114.9411404 </td><td>51.3968045  </td><td>33.9430242  </td><td>43.807648162</td><td>23.59289823 </td><td>33.392843   </td><td>49.15157974 </td></tr>\n",
       "\t<tr><th scope=row>ENSG00000000005</th><td>  2.25748308</td><td>  1.93448369</td><td>  3.11671185</td><td>  1.606904  </td><td>  0.3171036 </td><td> 0.0000000  </td><td> 0.0000000  </td><td> 0.008498938</td><td> 0.04050946 </td><td> 0.000000   </td><td> 0.02103444 </td></tr>\n",
       "\t<tr><th scope=row>ENSG00000000419</th><td> 68.25441786</td><td> 92.95232739</td><td> 64.79050234</td><td> 58.325938  </td><td>140.8523232 </td><td>53.2049794  </td><td>43.1705366  </td><td>37.966311098</td><td>27.84152895 </td><td>47.931342   </td><td>69.41435928 </td></tr>\n",
       "\t<tr><th scope=row>ENSG00000000457</th><td>  4.23904426</td><td>  3.09547284</td><td>  4.39660520</td><td>  3.006963  </td><td>  5.2663247 </td><td> 8.2313089  </td><td> 5.2852810  </td><td> 5.755211962</td><td> 4.02474129 </td><td> 6.788159   </td><td> 7.29413550 </td></tr>\n",
       "\t<tr><th scope=row>ENSG00000000460</th><td>  1.32819395</td><td>  2.90635271</td><td>  1.60426024</td><td>  1.200657  </td><td>  4.7913626 </td><td> 1.5418638  </td><td> 2.0743050  </td><td> 1.942307097</td><td> 4.95955774 </td><td> 1.147432   </td><td> 1.69979944 </td></tr>\n",
       "\t<tr><th scope=row>ENSG00000000938</th><td>  0.07265376</td><td>  0.04075102</td><td>  0.08888723</td><td>  0.000000  </td><td>  1.1021952 </td><td> 0.9738455  </td><td> 0.9922475  </td><td> 0.244203790</td><td> 5.07362354 </td><td> 1.054751   </td><td> 0.40455277 </td></tr>\n",
       "</tbody>\n",
       "</table>\n"
      ],
      "text/latex": [
       "\\begin{tabular}{r|lllllllllll}\n",
       "  & CEL\\_R1\\_HLC & CEL\\_R2\\_HLC & CEL\\_R3\\_HLC & CEL\\_R4\\_HLC & HAY\\_R1\\_HLC & X41\\_Hm09\\_LiHe\\_Ct\\_mRNA\\_K\\_1 & X41\\_Hm16\\_LiHe\\_Ct\\_mRNA\\_K\\_1 & X41\\_Hm25\\_LiHe\\_Ct\\_mRNA\\_K\\_1 & X41\\_Hf02\\_LiHe\\_Ct\\_mRNA\\_K\\_1 & X41\\_Hf03\\_LiHe\\_Ct\\_mRNA\\_K\\_1 & X41\\_Hf11\\_LiHe\\_St\\_mRNA\\_K\\_1\\\\\n",
       "\\hline\n",
       "\tENSG00000000003 & 141.77763905 & 125.99175739 & 152.35437006 & 124.835864   & 114.9411404  & 51.3968045   & 33.9430242   & 43.807648162 & 23.59289823  & 33.392843    & 49.15157974 \\\\\n",
       "\tENSG00000000005 &   2.25748308 &   1.93448369 &   3.11671185 &   1.606904   &   0.3171036  &  0.0000000   &  0.0000000   &  0.008498938 &  0.04050946  &  0.000000    &  0.02103444 \\\\\n",
       "\tENSG00000000419 &  68.25441786 &  92.95232739 &  64.79050234 &  58.325938   & 140.8523232  & 53.2049794   & 43.1705366   & 37.966311098 & 27.84152895  & 47.931342    & 69.41435928 \\\\\n",
       "\tENSG00000000457 &   4.23904426 &   3.09547284 &   4.39660520 &   3.006963   &   5.2663247  &  8.2313089   &  5.2852810   &  5.755211962 &  4.02474129  &  6.788159    &  7.29413550 \\\\\n",
       "\tENSG00000000460 &   1.32819395 &   2.90635271 &   1.60426024 &   1.200657   &   4.7913626  &  1.5418638   &  2.0743050   &  1.942307097 &  4.95955774  &  1.147432    &  1.69979944 \\\\\n",
       "\tENSG00000000938 &   0.07265376 &   0.04075102 &   0.08888723 &   0.000000   &   1.1021952  &  0.9738455   &  0.9922475   &  0.244203790 &  5.07362354  &  1.054751    &  0.40455277 \\\\\n",
       "\\end{tabular}\n"
      ],
      "text/markdown": [
       "\n",
       "| <!--/--> | CEL_R1_HLC | CEL_R2_HLC | CEL_R3_HLC | CEL_R4_HLC | HAY_R1_HLC | X41_Hm09_LiHe_Ct_mRNA_K_1 | X41_Hm16_LiHe_Ct_mRNA_K_1 | X41_Hm25_LiHe_Ct_mRNA_K_1 | X41_Hf02_LiHe_Ct_mRNA_K_1 | X41_Hf03_LiHe_Ct_mRNA_K_1 | X41_Hf11_LiHe_St_mRNA_K_1 |\n",
       "|---|---|---|---|---|---|---|---|---|---|---|---|\n",
       "| ENSG00000000003 | 141.77763905 | 125.99175739 | 152.35437006 | 124.835864   | 114.9411404  | 51.3968045   | 33.9430242   | 43.807648162 | 23.59289823  | 33.392843    | 49.15157974  |\n",
       "| ENSG00000000005 |   2.25748308 |   1.93448369 |   3.11671185 |   1.606904   |   0.3171036  |  0.0000000   |  0.0000000   |  0.008498938 |  0.04050946  |  0.000000    |  0.02103444  |\n",
       "| ENSG00000000419 |  68.25441786 |  92.95232739 |  64.79050234 |  58.325938   | 140.8523232  | 53.2049794   | 43.1705366   | 37.966311098 | 27.84152895  | 47.931342    | 69.41435928  |\n",
       "| ENSG00000000457 |   4.23904426 |   3.09547284 |   4.39660520 |   3.006963   |   5.2663247  |  8.2313089   |  5.2852810   |  5.755211962 |  4.02474129  |  6.788159    |  7.29413550  |\n",
       "| ENSG00000000460 |   1.32819395 |   2.90635271 |   1.60426024 |   1.200657   |   4.7913626  |  1.5418638   |  2.0743050   |  1.942307097 |  4.95955774  |  1.147432    |  1.69979944  |\n",
       "| ENSG00000000938 |   0.07265376 |   0.04075102 |   0.08888723 |   0.000000   |   1.1021952  |  0.9738455   |  0.9922475   |  0.244203790 |  5.07362354  |  1.054751    |  0.40455277  |\n",
       "\n"
      ],
      "text/plain": [
       "                CEL_R1_HLC   CEL_R2_HLC   CEL_R3_HLC   CEL_R4_HLC HAY_R1_HLC \n",
       "ENSG00000000003 141.77763905 125.99175739 152.35437006 124.835864 114.9411404\n",
       "ENSG00000000005   2.25748308   1.93448369   3.11671185   1.606904   0.3171036\n",
       "ENSG00000000419  68.25441786  92.95232739  64.79050234  58.325938 140.8523232\n",
       "ENSG00000000457   4.23904426   3.09547284   4.39660520   3.006963   5.2663247\n",
       "ENSG00000000460   1.32819395   2.90635271   1.60426024   1.200657   4.7913626\n",
       "ENSG00000000938   0.07265376   0.04075102   0.08888723   0.000000   1.1021952\n",
       "                X41_Hm09_LiHe_Ct_mRNA_K_1 X41_Hm16_LiHe_Ct_mRNA_K_1\n",
       "ENSG00000000003 51.3968045                33.9430242               \n",
       "ENSG00000000005  0.0000000                 0.0000000               \n",
       "ENSG00000000419 53.2049794                43.1705366               \n",
       "ENSG00000000457  8.2313089                 5.2852810               \n",
       "ENSG00000000460  1.5418638                 2.0743050               \n",
       "ENSG00000000938  0.9738455                 0.9922475               \n",
       "                X41_Hm25_LiHe_Ct_mRNA_K_1 X41_Hf02_LiHe_Ct_mRNA_K_1\n",
       "ENSG00000000003 43.807648162              23.59289823              \n",
       "ENSG00000000005  0.008498938               0.04050946              \n",
       "ENSG00000000419 37.966311098              27.84152895              \n",
       "ENSG00000000457  5.755211962               4.02474129              \n",
       "ENSG00000000460  1.942307097               4.95955774              \n",
       "ENSG00000000938  0.244203790               5.07362354              \n",
       "                X41_Hf03_LiHe_Ct_mRNA_K_1 X41_Hf11_LiHe_St_mRNA_K_1\n",
       "ENSG00000000003 33.392843                 49.15157974              \n",
       "ENSG00000000005  0.000000                  0.02103444              \n",
       "ENSG00000000419 47.931342                 69.41435928              \n",
       "ENSG00000000457  6.788159                  7.29413550              \n",
       "ENSG00000000460  1.147432                  1.69979944              \n",
       "ENSG00000000938  1.054751                  0.40455277              "
      ]
     },
     "metadata": {},
     "output_type": "display_data"
    }
   ],
   "source": [
    "head(bulk.rna)"
   ]
  },
  {
   "cell_type": "markdown",
   "metadata": {},
   "source": [
    "## Load the feature data again"
   ]
  },
  {
   "cell_type": "code",
   "execution_count": 26,
   "metadata": {},
   "outputs": [],
   "source": [
    "load(\"../TF_promoter.RData\")"
   ]
  },
  {
   "cell_type": "markdown",
   "metadata": {},
   "source": [
    "## Match the gene names between features and the bulk expression data"
   ]
  },
  {
   "cell_type": "code",
   "execution_count": 27,
   "metadata": {},
   "outputs": [],
   "source": [
    "full.data <- merge(bulk.rna, full.x, by= \"row.names\")\n",
    "data <- merge(bulk.rna, x, by= \"row.names\")\n",
    "\n",
    "rownames(full.data) <- full.data$Row.names\n",
    "full.data <- full.data[, -1]\n",
    "\n",
    "rownames(data) <- data$Row.names\n",
    "data <- data[, -1]"
   ]
  },
  {
   "cell_type": "code",
   "execution_count": 28,
   "metadata": {},
   "outputs": [
    {
     "data": {
      "text/html": [
       "<ol class=list-inline>\n",
       "\t<li>'ENSG00000110514'</li>\n",
       "\t<li>'ENSG00000086015'</li>\n",
       "\t<li>'ENSG00000211769'</li>\n",
       "\t<li>'ENSG00000211768'</li>\n",
       "\t<li>'ENSG00000250337'</li>\n",
       "\t<li>'ENSG00000211767'</li>\n",
       "</ol>\n"
      ],
      "text/latex": [
       "\\begin{enumerate*}\n",
       "\\item 'ENSG00000110514'\n",
       "\\item 'ENSG00000086015'\n",
       "\\item 'ENSG00000211769'\n",
       "\\item 'ENSG00000211768'\n",
       "\\item 'ENSG00000250337'\n",
       "\\item 'ENSG00000211767'\n",
       "\\end{enumerate*}\n"
      ],
      "text/markdown": [
       "1. 'ENSG00000110514'\n",
       "2. 'ENSG00000086015'\n",
       "3. 'ENSG00000211769'\n",
       "4. 'ENSG00000211768'\n",
       "5. 'ENSG00000250337'\n",
       "6. 'ENSG00000211767'\n",
       "\n",
       "\n"
      ],
      "text/plain": [
       "[1] \"ENSG00000110514\" \"ENSG00000086015\" \"ENSG00000211769\" \"ENSG00000211768\"\n",
       "[5] \"ENSG00000250337\" \"ENSG00000211767\""
      ]
     },
     "metadata": {},
     "output_type": "display_data"
    }
   ],
   "source": [
    "head(rownames(full.x))"
   ]
  },
  {
   "cell_type": "markdown",
   "metadata": {},
   "source": [
    "## Log-transform the bulk expressio data"
   ]
  },
  {
   "cell_type": "code",
   "execution_count": 29,
   "metadata": {},
   "outputs": [],
   "source": [
    "full.bulk <- log2(1 + full.data[, seq(ncol(bulk.rna))])\n",
    "full.x <- full.data[, -seq(ncol(full.bulk))]\n",
    "\n",
    "bulk <- log2(1 + data[, seq(ncol(bulk.rna))])\n",
    "x <- data[, -seq(ncol(bulk.rna))]"
   ]
  },
  {
   "cell_type": "code",
   "execution_count": 30,
   "metadata": {},
   "outputs": [
    {
     "data": {
      "text/html": [
       "TRUE"
      ],
      "text/latex": [
       "TRUE"
      ],
      "text/markdown": [
       "TRUE"
      ],
      "text/plain": [
       "[1] TRUE"
      ]
     },
     "metadata": {},
     "output_type": "display_data"
    }
   ],
   "source": [
    "all.equal(rownames(full.x), rownames(full.bulk))"
   ]
  },
  {
   "cell_type": "code",
   "execution_count": 31,
   "metadata": {},
   "outputs": [
    {
     "data": {
      "text/html": [
       "<ol class=list-inline>\n",
       "\t<li>'ENSG00000000003'</li>\n",
       "\t<li>'ENSG00000000005'</li>\n",
       "\t<li>'ENSG00000000419'</li>\n",
       "\t<li>'ENSG00000000457'</li>\n",
       "\t<li>'ENSG00000000460'</li>\n",
       "\t<li>'ENSG00000000971'</li>\n",
       "</ol>\n"
      ],
      "text/latex": [
       "\\begin{enumerate*}\n",
       "\\item 'ENSG00000000003'\n",
       "\\item 'ENSG00000000005'\n",
       "\\item 'ENSG00000000419'\n",
       "\\item 'ENSG00000000457'\n",
       "\\item 'ENSG00000000460'\n",
       "\\item 'ENSG00000000971'\n",
       "\\end{enumerate*}\n"
      ],
      "text/markdown": [
       "1. 'ENSG00000000003'\n",
       "2. 'ENSG00000000005'\n",
       "3. 'ENSG00000000419'\n",
       "4. 'ENSG00000000457'\n",
       "5. 'ENSG00000000460'\n",
       "6. 'ENSG00000000971'\n",
       "\n",
       "\n"
      ],
      "text/plain": [
       "[1] \"ENSG00000000003\" \"ENSG00000000005\" \"ENSG00000000419\" \"ENSG00000000457\"\n",
       "[5] \"ENSG00000000460\" \"ENSG00000000971\""
      ]
     },
     "metadata": {},
     "output_type": "display_data"
    },
    {
     "data": {
      "text/html": [
       "<ol class=list-inline>\n",
       "\t<li>'ENSG00000000003'</li>\n",
       "\t<li>'ENSG00000000005'</li>\n",
       "\t<li>'ENSG00000000419'</li>\n",
       "\t<li>'ENSG00000000457'</li>\n",
       "\t<li>'ENSG00000000460'</li>\n",
       "\t<li>'ENSG00000000971'</li>\n",
       "</ol>\n"
      ],
      "text/latex": [
       "\\begin{enumerate*}\n",
       "\\item 'ENSG00000000003'\n",
       "\\item 'ENSG00000000005'\n",
       "\\item 'ENSG00000000419'\n",
       "\\item 'ENSG00000000457'\n",
       "\\item 'ENSG00000000460'\n",
       "\\item 'ENSG00000000971'\n",
       "\\end{enumerate*}\n"
      ],
      "text/markdown": [
       "1. 'ENSG00000000003'\n",
       "2. 'ENSG00000000005'\n",
       "3. 'ENSG00000000419'\n",
       "4. 'ENSG00000000457'\n",
       "5. 'ENSG00000000460'\n",
       "6. 'ENSG00000000971'\n",
       "\n",
       "\n"
      ],
      "text/plain": [
       "[1] \"ENSG00000000003\" \"ENSG00000000005\" \"ENSG00000000419\" \"ENSG00000000457\"\n",
       "[5] \"ENSG00000000460\" \"ENSG00000000971\""
      ]
     },
     "metadata": {},
     "output_type": "display_data"
    },
    {
     "data": {
      "text/html": [
       "TRUE"
      ],
      "text/latex": [
       "TRUE"
      ],
      "text/markdown": [
       "TRUE"
      ],
      "text/plain": [
       "[1] TRUE"
      ]
     },
     "metadata": {},
     "output_type": "display_data"
    }
   ],
   "source": [
    "head(rownames(x))\n",
    "head(rownames(bulk))\n",
    "all.equal(rownames(x), rownames(bulk))"
   ]
  },
  {
   "cell_type": "code",
   "execution_count": 32,
   "metadata": {},
   "outputs": [
    {
     "name": "stdout",
     "output_type": "stream",
     "text": [
      "[1] 13906   464\n",
      "[1] 13906    11\n"
     ]
    }
   ],
   "source": [
    "print(dim(x))\n",
    "print(dim(bulk))"
   ]
  },
  {
   "cell_type": "markdown",
   "metadata": {},
   "source": [
    "## Correlations on full datasets"
   ]
  },
  {
   "cell_type": "code",
   "execution_count": 33,
   "metadata": {},
   "outputs": [],
   "source": [
    "full.cors <- list()\n",
    "for(i in seq(ncol(full.bulk)))\n",
    "    full.cors[[i]] <- sapply(seq(ncol(full.x)), function(j)cor(full.x[, j], full.bulk[, i]))"
   ]
  },
  {
   "cell_type": "code",
   "execution_count": 34,
   "metadata": {},
   "outputs": [
    {
     "data": {
      "text/html": [
       "<table>\n",
       "<thead><tr><th></th><th scope=col>min_cor</th><th scope=col>max_cor</th></tr></thead>\n",
       "<tbody>\n",
       "\t<tr><th scope=row>CEL_R1_HLC</th><td>-0.1873557</td><td>0.3279683 </td></tr>\n",
       "\t<tr><th scope=row>CEL_R2_HLC</th><td>-0.1908662</td><td>0.3351633 </td></tr>\n",
       "\t<tr><th scope=row>CEL_R3_HLC</th><td>-0.1845152</td><td>0.3218288 </td></tr>\n",
       "\t<tr><th scope=row>CEL_R4_HLC</th><td>-0.1864353</td><td>0.3252894 </td></tr>\n",
       "\t<tr><th scope=row>HAY_R1_HLC</th><td>-0.2101426</td><td>0.3563037 </td></tr>\n",
       "\t<tr><th scope=row>X41_Hm09_LiHe_Ct_mRNA_K_1</th><td>-0.1535480</td><td>0.3361905 </td></tr>\n",
       "\t<tr><th scope=row>X41_Hm16_LiHe_Ct_mRNA_K_1</th><td>-0.1538151</td><td>0.3302623 </td></tr>\n",
       "\t<tr><th scope=row>X41_Hm25_LiHe_Ct_mRNA_K_1</th><td>-0.1638683</td><td>0.3430856 </td></tr>\n",
       "\t<tr><th scope=row>X41_Hf02_LiHe_Ct_mRNA_K_1</th><td>-0.1800834</td><td>0.3436168 </td></tr>\n",
       "\t<tr><th scope=row>X41_Hf03_LiHe_Ct_mRNA_K_1</th><td>-0.1611542</td><td>0.3518796 </td></tr>\n",
       "\t<tr><th scope=row>X41_Hf11_LiHe_St_mRNA_K_1</th><td>-0.1538577</td><td>0.3443761 </td></tr>\n",
       "</tbody>\n",
       "</table>\n"
      ],
      "text/latex": [
       "\\begin{tabular}{r|ll}\n",
       "  & min\\_cor & max\\_cor\\\\\n",
       "\\hline\n",
       "\tCEL\\_R1\\_HLC & -0.1873557 & 0.3279683 \\\\\n",
       "\tCEL\\_R2\\_HLC & -0.1908662 & 0.3351633 \\\\\n",
       "\tCEL\\_R3\\_HLC & -0.1845152 & 0.3218288 \\\\\n",
       "\tCEL\\_R4\\_HLC & -0.1864353 & 0.3252894 \\\\\n",
       "\tHAY\\_R1\\_HLC & -0.2101426 & 0.3563037 \\\\\n",
       "\tX41\\_Hm09\\_LiHe\\_Ct\\_mRNA\\_K\\_1 & -0.1535480 & 0.3361905 \\\\\n",
       "\tX41\\_Hm16\\_LiHe\\_Ct\\_mRNA\\_K\\_1 & -0.1538151 & 0.3302623 \\\\\n",
       "\tX41\\_Hm25\\_LiHe\\_Ct\\_mRNA\\_K\\_1 & -0.1638683 & 0.3430856 \\\\\n",
       "\tX41\\_Hf02\\_LiHe\\_Ct\\_mRNA\\_K\\_1 & -0.1800834 & 0.3436168 \\\\\n",
       "\tX41\\_Hf03\\_LiHe\\_Ct\\_mRNA\\_K\\_1 & -0.1611542 & 0.3518796 \\\\\n",
       "\tX41\\_Hf11\\_LiHe\\_St\\_mRNA\\_K\\_1 & -0.1538577 & 0.3443761 \\\\\n",
       "\\end{tabular}\n"
      ],
      "text/markdown": [
       "\n",
       "| <!--/--> | min_cor | max_cor |\n",
       "|---|---|---|\n",
       "| CEL_R1_HLC | -0.1873557 | 0.3279683  |\n",
       "| CEL_R2_HLC | -0.1908662 | 0.3351633  |\n",
       "| CEL_R3_HLC | -0.1845152 | 0.3218288  |\n",
       "| CEL_R4_HLC | -0.1864353 | 0.3252894  |\n",
       "| HAY_R1_HLC | -0.2101426 | 0.3563037  |\n",
       "| X41_Hm09_LiHe_Ct_mRNA_K_1 | -0.1535480 | 0.3361905  |\n",
       "| X41_Hm16_LiHe_Ct_mRNA_K_1 | -0.1538151 | 0.3302623  |\n",
       "| X41_Hm25_LiHe_Ct_mRNA_K_1 | -0.1638683 | 0.3430856  |\n",
       "| X41_Hf02_LiHe_Ct_mRNA_K_1 | -0.1800834 | 0.3436168  |\n",
       "| X41_Hf03_LiHe_Ct_mRNA_K_1 | -0.1611542 | 0.3518796  |\n",
       "| X41_Hf11_LiHe_St_mRNA_K_1 | -0.1538577 | 0.3443761  |\n",
       "\n"
      ],
      "text/plain": [
       "                          min_cor    max_cor  \n",
       "CEL_R1_HLC                -0.1873557 0.3279683\n",
       "CEL_R2_HLC                -0.1908662 0.3351633\n",
       "CEL_R3_HLC                -0.1845152 0.3218288\n",
       "CEL_R4_HLC                -0.1864353 0.3252894\n",
       "HAY_R1_HLC                -0.2101426 0.3563037\n",
       "X41_Hm09_LiHe_Ct_mRNA_K_1 -0.1535480 0.3361905\n",
       "X41_Hm16_LiHe_Ct_mRNA_K_1 -0.1538151 0.3302623\n",
       "X41_Hm25_LiHe_Ct_mRNA_K_1 -0.1638683 0.3430856\n",
       "X41_Hf02_LiHe_Ct_mRNA_K_1 -0.1800834 0.3436168\n",
       "X41_Hf03_LiHe_Ct_mRNA_K_1 -0.1611542 0.3518796\n",
       "X41_Hf11_LiHe_St_mRNA_K_1 -0.1538577 0.3443761"
      ]
     },
     "metadata": {},
     "output_type": "display_data"
    }
   ],
   "source": [
    "df.full <- data.frame(min_cor= as.numeric(lapply(full.cors, FUN= min)), max_cor= as.numeric(lapply(full.cors, FUN= max)))\n",
    "rownames(df.full) <- colnames(bulk.rna)\n",
    "df.full"
   ]
  },
  {
   "cell_type": "markdown",
   "metadata": {},
   "source": [
    "## Correlations on filtered datasets"
   ]
  },
  {
   "cell_type": "code",
   "execution_count": 35,
   "metadata": {},
   "outputs": [],
   "source": [
    "cors <- list()\n",
    "for(i in seq(ncol(bulk)))\n",
    "    cors[[i]] <- sapply(seq(ncol(x)), function(j)cor(x[, j], bulk[, i]))"
   ]
  },
  {
   "cell_type": "code",
   "execution_count": 36,
   "metadata": {},
   "outputs": [
    {
     "data": {
      "text/html": [
       "<table>\n",
       "<thead><tr><th></th><th scope=col>min</th><th scope=col>max</th></tr></thead>\n",
       "<tbody>\n",
       "\t<tr><th scope=row>CEL_R1_HLC</th><td>-0.2031512</td><td>0.2370884 </td></tr>\n",
       "\t<tr><th scope=row>CEL_R2_HLC</th><td>-0.2069644</td><td>0.2492576 </td></tr>\n",
       "\t<tr><th scope=row>CEL_R3_HLC</th><td>-0.1978892</td><td>0.2328433 </td></tr>\n",
       "\t<tr><th scope=row>CEL_R4_HLC</th><td>-0.2035162</td><td>0.2378997 </td></tr>\n",
       "\t<tr><th scope=row>HAY_R1_HLC</th><td>-0.2137296</td><td>0.2703384 </td></tr>\n",
       "\t<tr><th scope=row>X41_Hm09_LiHe_Ct_mRNA_K_1</th><td>-0.1325808</td><td>0.2193187 </td></tr>\n",
       "\t<tr><th scope=row>X41_Hm16_LiHe_Ct_mRNA_K_1</th><td>-0.1338424</td><td>0.2113603 </td></tr>\n",
       "\t<tr><th scope=row>X41_Hm25_LiHe_Ct_mRNA_K_1</th><td>-0.1475083</td><td>0.2271533 </td></tr>\n",
       "\t<tr><th scope=row>X41_Hf02_LiHe_Ct_mRNA_K_1</th><td>-0.1758160</td><td>0.2531224 </td></tr>\n",
       "\t<tr><th scope=row>X41_Hf03_LiHe_Ct_mRNA_K_1</th><td>-0.1473936</td><td>0.2410930 </td></tr>\n",
       "\t<tr><th scope=row>X41_Hf11_LiHe_St_mRNA_K_1</th><td>-0.1337402</td><td>0.2291518 </td></tr>\n",
       "</tbody>\n",
       "</table>\n"
      ],
      "text/latex": [
       "\\begin{tabular}{r|ll}\n",
       "  & min & max\\\\\n",
       "\\hline\n",
       "\tCEL\\_R1\\_HLC & -0.2031512 & 0.2370884 \\\\\n",
       "\tCEL\\_R2\\_HLC & -0.2069644 & 0.2492576 \\\\\n",
       "\tCEL\\_R3\\_HLC & -0.1978892 & 0.2328433 \\\\\n",
       "\tCEL\\_R4\\_HLC & -0.2035162 & 0.2378997 \\\\\n",
       "\tHAY\\_R1\\_HLC & -0.2137296 & 0.2703384 \\\\\n",
       "\tX41\\_Hm09\\_LiHe\\_Ct\\_mRNA\\_K\\_1 & -0.1325808 & 0.2193187 \\\\\n",
       "\tX41\\_Hm16\\_LiHe\\_Ct\\_mRNA\\_K\\_1 & -0.1338424 & 0.2113603 \\\\\n",
       "\tX41\\_Hm25\\_LiHe\\_Ct\\_mRNA\\_K\\_1 & -0.1475083 & 0.2271533 \\\\\n",
       "\tX41\\_Hf02\\_LiHe\\_Ct\\_mRNA\\_K\\_1 & -0.1758160 & 0.2531224 \\\\\n",
       "\tX41\\_Hf03\\_LiHe\\_Ct\\_mRNA\\_K\\_1 & -0.1473936 & 0.2410930 \\\\\n",
       "\tX41\\_Hf11\\_LiHe\\_St\\_mRNA\\_K\\_1 & -0.1337402 & 0.2291518 \\\\\n",
       "\\end{tabular}\n"
      ],
      "text/markdown": [
       "\n",
       "| <!--/--> | min | max |\n",
       "|---|---|---|\n",
       "| CEL_R1_HLC | -0.2031512 | 0.2370884  |\n",
       "| CEL_R2_HLC | -0.2069644 | 0.2492576  |\n",
       "| CEL_R3_HLC | -0.1978892 | 0.2328433  |\n",
       "| CEL_R4_HLC | -0.2035162 | 0.2378997  |\n",
       "| HAY_R1_HLC | -0.2137296 | 0.2703384  |\n",
       "| X41_Hm09_LiHe_Ct_mRNA_K_1 | -0.1325808 | 0.2193187  |\n",
       "| X41_Hm16_LiHe_Ct_mRNA_K_1 | -0.1338424 | 0.2113603  |\n",
       "| X41_Hm25_LiHe_Ct_mRNA_K_1 | -0.1475083 | 0.2271533  |\n",
       "| X41_Hf02_LiHe_Ct_mRNA_K_1 | -0.1758160 | 0.2531224  |\n",
       "| X41_Hf03_LiHe_Ct_mRNA_K_1 | -0.1473936 | 0.2410930  |\n",
       "| X41_Hf11_LiHe_St_mRNA_K_1 | -0.1337402 | 0.2291518  |\n",
       "\n"
      ],
      "text/plain": [
       "                          min        max      \n",
       "CEL_R1_HLC                -0.2031512 0.2370884\n",
       "CEL_R2_HLC                -0.2069644 0.2492576\n",
       "CEL_R3_HLC                -0.1978892 0.2328433\n",
       "CEL_R4_HLC                -0.2035162 0.2378997\n",
       "HAY_R1_HLC                -0.2137296 0.2703384\n",
       "X41_Hm09_LiHe_Ct_mRNA_K_1 -0.1325808 0.2193187\n",
       "X41_Hm16_LiHe_Ct_mRNA_K_1 -0.1338424 0.2113603\n",
       "X41_Hm25_LiHe_Ct_mRNA_K_1 -0.1475083 0.2271533\n",
       "X41_Hf02_LiHe_Ct_mRNA_K_1 -0.1758160 0.2531224\n",
       "X41_Hf03_LiHe_Ct_mRNA_K_1 -0.1473936 0.2410930\n",
       "X41_Hf11_LiHe_St_mRNA_K_1 -0.1337402 0.2291518"
      ]
     },
     "metadata": {},
     "output_type": "display_data"
    }
   ],
   "source": [
    "df <- data.frame(min= as.numeric(lapply(cors, FUN= min)), max= as.numeric(lapply(cors, FUN= max)))\n",
    "rownames(df) <- colnames(bulk.rna)\n",
    "df"
   ]
  },
  {
   "cell_type": "markdown",
   "metadata": {},
   "source": [
    "# Conclusion\n",
    "* The aim was to look for linear relationship between the TF binding affinity scores as features and single cell/bulk measurements of gene expression as response by computing the correlation between the two.\n",
    "* The unfiltered (full) and filtered datasets were consideted to examine such associasions. However, none showed any descent correlation.\n",
    "* There was not much to expect from the single cell data due to the inherent noise of low-coverage sequencing, however the bulk data should have had better results.\n",
    "* It's worth noting that these static features are not perfect representitves of the transcription dynamics, therefore one should not expect good correlations, and therefore training a statistical model would have a better saying on the contributions of TFs in gene expression. The tree-guided MTL and neural networks trained on the single cells did not show any satisfactory results. However, I'll be testing neural networks on the bulk gene expression data to rule out any doubt with this regard.\n",
    "* For the bulk experiments, I switched from the TPM data sent by Kathrin to the one converted by myself (from read counts to TPM) and that made the correlations much better. With the original TPM values that was sent by Kathrin (data not shown) the correlations were at max 0.09 (mostly around 0.02) but with the converted TPM data made by me, the correlation values are much better (above 0.3 for the unfiltered data)"
   ]
  }
 ],
 "metadata": {
  "kernelspec": {
   "display_name": "R",
   "language": "R",
   "name": "ir"
  },
  "language_info": {
   "codemirror_mode": "r",
   "file_extension": ".r",
   "mimetype": "text/x-r-source",
   "name": "R",
   "pygments_lexer": "r",
   "version": "3.4.0"
  }
 },
 "nbformat": 4,
 "nbformat_minor": 2
}
